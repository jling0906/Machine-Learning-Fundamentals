{
 "cells": [
  {
   "cell_type": "code",
   "execution_count": 1,
   "metadata": {},
   "outputs": [
    {
     "name": "stdout",
     "output_type": "stream",
     "text": [
      "query=%E4%B9%9D%E7%AB%A0%E7%AE%97%E6%B3%95\n"
     ]
    }
   ],
   "source": [
    "from urllib import parse #urlencode\n",
    "query ={\"query\": u\"九章算法\"\n",
    "}\n",
    "print(parse.urlencode(query))"
   ]
  },
  {
   "cell_type": "code",
   "execution_count": 2,
   "metadata": {},
   "outputs": [],
   "source": [
    "import requests"
   ]
  },
  {
   "cell_type": "code",
   "execution_count": 3,
   "metadata": {},
   "outputs": [
    {
     "name": "stdout",
     "output_type": "stream",
     "text": [
      "<Response [200]>\n"
     ]
    }
   ],
   "source": [
    "response = requests.get(\"https://jiuzhang.com\")\n",
    "print(response)"
   ]
  },
  {
   "cell_type": "code",
   "execution_count": 4,
   "metadata": {},
   "outputs": [
    {
     "name": "stdout",
     "output_type": "stream",
     "text": [
      "200\n"
     ]
    }
   ],
   "source": [
    "print(response.status_code)"
   ]
  },
  {
   "cell_type": "code",
   "execution_count": 5,
   "metadata": {},
   "outputs": [
    {
     "name": "stdout",
     "output_type": "stream",
     "text": [
      "utf-8\n"
     ]
    }
   ],
   "source": [
    "print(response.encoding)"
   ]
  },
  {
   "cell_type": "code",
   "execution_count": 6,
   "metadata": {},
   "outputs": [
    {
     "name": "stdout",
     "output_type": "stream",
     "text": [
      "<!DOCTYPE html>\n",
      "<html>\n",
      "<head>\n",
      "<meta charset=\"utf-8\" />\n",
      "<meta http-equiv=\"content-type\" content=\"text/html;charset=UTF-8\" />\n",
      "<meta name=\"viewport\" content=\"width=device-width, initial-scale=1.0, maximum-scale=1.0, user-scalable=no\" />\n",
      "<meta name=\"apple-mobile-web-app-capable\" content=\"yes\">\n",
      "<meta name=\"apple-touch-fullscreen\" content=\"yes\">\n",
      "<meta name=\"apple-mobile-web-app-status-bar-style\" content=\"default\">\n",
      "<meta name=\"description\" content=\"九章算法致力于让顶尖的工程师在线传授最优质的计算机课程，帮助更多中国人找到好工作\" />\n",
      "<meta name=\"Keywords\" content=\"Interview, Code, Google, Facebook, Linkedin, Amazon, Microsoft, LintCode, LeetCode\" />\n",
      "<title>\n",
      "    \n",
      "      九章算法 - 帮助更多中国人找到好工作，硅谷顶尖IT企业工程师实时在线授课为你传授面试技巧\n",
      "    \n",
      "  </title>\n",
      "<link rel=\"apple-touch-icon\" href=\"/static/pages-frontend/ico/60.png\">\n",
      "<link rel=\"apple-touch-icon\" sizes=\"76x76\" href=\"/static/pages-frontend/ico/76.png\">\n",
      "<link rel=\"apple-touch-icon\" sizes=\"120x120\" href=\"/static/pages-frontend/ico/120.png\">\n",
      "<link rel=\"apple-touch-icon\" sizes=\"152x152\" href=\"/static/pages-frontend/ico/152.png\">\n",
      "<link rel=\"icon shortcut\" type=\"image/x-icon\" href=\"/favicon.ico\" />\n",
      "<link href=\"/static/plugins/pace/pace-theme-flash.css\" rel=\"stylesheet\" type=\"text/css\" />\n",
      "<link href=\"/static/plugins/bootstrap/css/bootstrap.min.css\" rel=\"stylesheet\" type=\"text/css\" />\n",
      "<link href=\"/static/plugins/font-awesome/css/font-awesome.css\" rel=\"stylesheet\" type=\"text/css\" />\n",
      "<link href=\"/static/plugins/jquery-dynatree/skin/ui.dynatree.css\" rel=\"stylesheet\" type=\"text/css\" media=\"screen\" />\n",
      "<link href=\"/static/plugins/bootstrap-markdown/css/bootstrap-markdown.min.css\" rel=\"stylesheet\" type=\"text/css\" />\n",
      "<link href=\"/static/plugins/bootstrap3-editable/bootstrap3-editable/css/bootstrap-editable.css\" rel=\"stylesheet\" type=\"text/css\" />\n",
      "\n",
      "<link href=\"/static/pages3/css/pages.css\" rel=\"stylesheet\" type=\"text/css\" />\n",
      "<link href=\"/static/pages3/css/pages-icons.min.css\" rel=\"stylesheet\" type=\"text/css\" />\n",
      "<link rel=\"stylesheet\" href=\"https://media.jiuzhang.com/cdn/skin.css\">\n",
      "<link rel=\"stylesheet\" href=\"/static/css/pages-fix.min.css\" />\n",
      "<link href=\"/static/plugins/simplemde/simplemde.min.css\" rel=\"stylesheet\" type=\"text/css\" />\n",
      "<link href=\"//imgcache.qq.com/open/qcloud/video/tcplayer/tcplayer.css\" rel=\"stylesheet\">\n",
      "<link href=\"/static/react/ninechapter-8e84290ed65c4f0690c2.css\" rel=\"stylesheet\"></head>\n",
      "<body class=\"pace-white\">\n",
      "<div id=\"react-component\" style=\"height: 100%\">\n",
      "<div class=\"text-center p-t-100\">\n",
      "<i class=\"fa fa-spinner fa-3x fa-spin\"></i>\n",
      "</div>\n",
      "</div>\n",
      "<div id=\"react-portal\"></div>\n",
      "<script src=\"/static/plugins/pace/pace.min.js\"></script>\n",
      "<script src=\"/static/plugins/jquery/jquery-1.11.1.min.js\"></script>\n",
      "<script src=\"/static/pages-compile/js/modernizr.min.js\"></script>\n",
      "<script src=\"/static/pages-admin/js/pages.min.js\"></script>\n",
      "<script src=\"/static/pages-frontend/js/pages.frontend.min.js\"></script>\n",
      "<script src=\"/static/plugins/jquery-ui/jquery-ui.min.js\"></script>\n",
      "<script src=\"/static/plugins/jquery-dynatree/jquery.dynatree.min.js\"></script>\n",
      "<script src=\"/static/plugins/bootstrap/js/bootstrap.min.js\"></script>\n",
      "<script src=\"/static/plugins/bootstrap-markdown/js/bootstrap-markdown.js\"></script>\n",
      "<script src=\"/static/plugins/bootstrap-markdown/locale/bootstrap-markdown.zh.js\"></script>\n",
      "<script src=\"/static/plugins/bootstrap3-editable/bootstrap3-editable/js/bootstrap-editable.min.js\"></script>\n",
      "<script src=\"/static/plugins/bootstrap-markdown/js/markdown.js\"></script>\n",
      "<script src=\"/static/plugins/bootstrap-markdown/js/to-markdown.js\"></script>\n",
      "<script src=\"/static/plugins/jquery-textrange/jquery-textrange.js\"></script>\n",
      "<script src=\"/static/plugins/simplemde/simplemde.min.js\"></script>\n",
      "\n",
      "<script src=\"/static/plugins/videojs/videojs-ie8.min.js\"></script>\n",
      "<script src=\"/static/plugins/videojs/video.js\"></script>\n",
      "<script src=\"https://media.jiuzhang.com/cdn/flowplayer.min.js\"></script>\n",
      "<script src=\"https://media.jiuzhang.com/cdn/flowplayer.hlsjs.min.js\"></script>\n",
      "<script src=\"//imgcache.qq.com/open/qcloud/video/tcplayer/lib/hls.min.0.8.8.js\"></script>\n",
      "<script src=\"//imgcache.qq.com/open/qcloud/video/tcplayer/tcplayer.min.js\"></script>\n",
      "\n",
      "<script src=\"/static/plugins/tracking/tracking-min.js\"></script>\n",
      "<script src=\"/static/plugins/tracking/face-min.js\"></script>\n",
      "<script>\"__DISABLE_REACT_DEVTOOL__\"</script>\n",
      "\n",
      "<script>\n",
      "  (function(i,s,o,g,r,a,m){i['GoogleAnalyticsObject']=r;i[r]=i[r]||function(){\n",
      "  (i[r].q=i[r].q||[]).push(arguments)},i[r].l=1*new Date();a=s.createElement(o),\n",
      "  m=s.getElementsByTagName(o)[0];a.async=1;a.src=g;m.parentNode.insertBefore(a,m)\n",
      "  })(window,document,'script','https://www.google-analytics.com/analytics.js','ga');\n",
      "\n",
      "  ga('create', 'UA-6324678-13', 'auto');\n",
      "  ga('send', 'pageview');\n",
      "</script>\n",
      "\n",
      "<script async src=\"https://www.googletagmanager.com/gtag/js?id=AW-808918226\"></script>\n",
      "<script>\n",
      "  window.dataLayer = window.dataLayer || [];\n",
      "  function gtag(){dataLayer.push(arguments);}\n",
      "  gtag('js', new Date());\n",
      "\n",
      "  gtag('config', 'AW-808918226');\n",
      "</script>\n",
      "<script>\n",
      "    window.__INITIAL_AUTH_STORE__ = JSON.parse('{\\u0022detail\\u0022: {\\u0022is_authenticated\\u0022: false, \\u0022loading\\u0022: false, \\u0022is_staff\\u0022: false, \\u0022is_admin\\u0022: false, \\u0022is_tutor\\u0022: false}}');\n",
      "  </script>\n",
      "<script src=\"https://qiyukf.com/script/2c00e340766c27382852016ebaa11914.js?hidden=1\" async=\"async\"></script>\n",
      "<script type=\"text/javascript\" src=\"/static/react/vendor-aa468452a74222b9ecff.js\"></script><script type=\"text/javascript\" src=\"/static/react/ninechapter-8e84290ed65c4f0690c2.js\"></script></body>\n",
      "</html>\n",
      "\n"
     ]
    }
   ],
   "source": [
    "print(response.text)"
   ]
  },
  {
   "cell_type": "code",
   "execution_count": null,
   "metadata": {},
   "outputs": [],
   "source": [
    "#import requests\n",
    "#data = {\"email\":\"jieling1010@gmail.com\"}\n",
    "#response = requests.post(\"https://www.jiuzhang.com/api/accounts/forget/\",)"
   ]
  },
  {
   "cell_type": "code",
   "execution_count": null,
   "metadata": {},
   "outputs": [],
   "source": []
  }
 ],
 "metadata": {
  "kernelspec": {
   "display_name": "Python 3",
   "language": "python",
   "name": "python3"
  },
  "language_info": {
   "codemirror_mode": {
    "name": "ipython",
    "version": 3
   },
   "file_extension": ".py",
   "mimetype": "text/x-python",
   "name": "python",
   "nbconvert_exporter": "python",
   "pygments_lexer": "ipython3",
   "version": "3.6.4"
  }
 },
 "nbformat": 4,
 "nbformat_minor": 2
}

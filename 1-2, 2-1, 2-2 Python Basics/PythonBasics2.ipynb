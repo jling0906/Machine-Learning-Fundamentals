{
 "cells": [
  {
   "cell_type": "code",
   "execution_count": 2,
   "metadata": {
    "collapsed": false
   },
   "outputs": [
    {
     "name": "stdout",
     "output_type": "stream",
     "text": [
      "5050\n"
     ]
    }
   ],
   "source": [
    "# 1. calculator 1 + 2 + ... + n\n",
    "def calculator( n ):\n",
    "    result = 0\n",
    "    for i in range(1, n + 1):\n",
    "        result += i\n",
    "    return result\n",
    "print(calculator(100))"
   ]
  },
  {
   "cell_type": "code",
   "execution_count": 3,
   "metadata": {
    "collapsed": false
   },
   "outputs": [
    {
     "name": "stdout",
     "output_type": "stream",
     "text": [
      "5050\n"
     ]
    }
   ],
   "source": [
    "def calculatorRec( n ):\n",
    "    if n == 1:\n",
    "        return 1\n",
    "    return n + calculator(n-1)\n",
    "print(calculator(100))"
   ]
  },
  {
   "cell_type": "code",
   "execution_count": 4,
   "metadata": {
    "collapsed": true
   },
   "outputs": [],
   "source": [
    "# 2. define class Animal, creat more children classes\n",
    "class Animal:\n",
    "    def __init__(self, color, food, number):\n",
    "        self.color = color\n",
    "        self.food = food\n",
    "        self.number = number\n",
    "class Dog(Animal):\n",
    "    def __init__(self, color, food, number):\n",
    "        Animal.__init__(self, color, food, number)"
   ]
  },
  {
   "cell_type": "code",
   "execution_count": 5,
   "metadata": {
    "collapsed": false
   },
   "outputs": [
    {
     "name": "stdout",
     "output_type": "stream",
     "text": [
      "<class 'str'>\n",
      "{\"linpz\": 6, \"linghuc\": 5, \"zhongy\": 9, \"score\": [1, 4, 5, 6]}\n"
     ]
    }
   ],
   "source": [
    "# 3 json json.dumps() json.loads()\n",
    "import json\n",
    "\n",
    "data = {\n",
    "    'linpz': 6,\n",
    "    'linghuc': 5,\n",
    "    'zhongy':9,\n",
    "    'score':[1,4,5,6]\n",
    "}\n",
    "response = json.dumps(data)\n",
    "print(type(response))\n",
    "print(response)"
   ]
  },
  {
   "cell_type": "code",
   "execution_count": 6,
   "metadata": {
    "collapsed": false
   },
   "outputs": [
    {
     "name": "stdout",
     "output_type": "stream",
     "text": [
      "<class 'dict'>\n",
      "{'linpz': 6, 'linghuc': 5, 'zhongy': 9, 'score': [1, 4, 5, 6]}\n"
     ]
    }
   ],
   "source": [
    "newData = json.loads(response)\n",
    "print(type(newData))\n",
    "print(newData)"
   ]
  },
  {
   "cell_type": "code",
   "execution_count": 8,
   "metadata": {
    "collapsed": false
   },
   "outputs": [
    {
     "name": "stdout",
     "output_type": "stream",
     "text": [
      "( 1, 2) \n",
      "( 3, 4) \n",
      "( 4, 6) \n"
     ]
    }
   ],
   "source": [
    "# 4. __str__  __ add__\n",
    "class Vector:\n",
    "    def __init__( self, x, y ):\n",
    "        self.x = x\n",
    "        self.y = y\n",
    "    def __str__(self):\n",
    "        return \"( %s, %s) \" % (self.x, self. y)\n",
    "    def __add__(self, other):\n",
    "        return Vector(self.x + other.x, self.y + other.y)\n",
    "a = Vector(1, 2)\n",
    "b = Vector(3, 4)\n",
    "print(a)\n",
    "print(b)\n",
    "print( a + b )"
   ]
  },
  {
   "cell_type": "code",
   "execution_count": 12,
   "metadata": {
    "collapsed": false
   },
   "outputs": [
    {
     "name": "stdout",
     "output_type": "stream",
     "text": [
      "99\n"
     ]
    }
   ],
   "source": [
    "# python property, getter and setter\n",
    "class Student:\n",
    "    def getScore(self):\n",
    "        return self._score\n",
    "    def setScore(self, value):\n",
    "        assert isinstance(value, int)\n",
    "        assert value >= 0 and value <= 100\n",
    "        self._score = value\n",
    "jack = Student()\n",
    "jack.setScore(99)\n",
    "print(jack.getScore()) # if putting getScore call in the front of setScore, error comes"
   ]
  },
  {
   "cell_type": "code",
   "execution_count": 14,
   "metadata": {
    "collapsed": false
   },
   "outputs": [
    {
     "name": "stdout",
     "output_type": "stream",
     "text": [
      "99\n"
     ]
    }
   ],
   "source": [
    "# the same effect as above, but more Python\n",
    "# make the property not easy to change and can check if the input is correct\n",
    "class newStudent:\n",
    "    @property\n",
    "    def score(self):\n",
    "        return self._score\n",
    "    @score.setter\n",
    "    def score(self, value):\n",
    "        assert isinstance(value, int)\n",
    "        assert value >= 0 and value <= 100\n",
    "        self._score = value\n",
    "jack = newStudent()\n",
    "jack.score = 99\n",
    "print(jack.score)"
   ]
  },
  {
   "cell_type": "code",
   "execution_count": null,
   "metadata": {
    "collapsed": true
   },
   "outputs": [],
   "source": []
  }
 ],
 "metadata": {
  "anaconda-cloud": {},
  "kernelspec": {
   "display_name": "Python [default]",
   "language": "python",
   "name": "python3"
  },
  "language_info": {
   "codemirror_mode": {
    "name": "ipython",
    "version": 3
   },
   "file_extension": ".py",
   "mimetype": "text/x-python",
   "name": "python",
   "nbconvert_exporter": "python",
   "pygments_lexer": "ipython3",
   "version": "3.5.2"
  }
 },
 "nbformat": 4,
 "nbformat_minor": 2
}

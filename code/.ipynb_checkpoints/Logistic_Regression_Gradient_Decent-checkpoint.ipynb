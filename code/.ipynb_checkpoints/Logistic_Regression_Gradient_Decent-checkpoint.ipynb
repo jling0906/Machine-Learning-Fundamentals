{
 "cells": [
  {
   "cell_type": "code",
   "execution_count": 2,
   "metadata": {
    "collapsed": true
   },
   "outputs": [],
   "source": [
    "import pandas as pd\n",
    "import numpy as np\n",
    "import matplotlib.pyplot as plt\n",
    "\n",
    "from patsy import dmatrices"
   ]
  },
  {
   "cell_type": "code",
   "execution_count": 3,
   "metadata": {
    "collapsed": true
   },
   "outputs": [],
   "source": [
    "data = pd.read_csv(\"../data/gradient_descent_data.csv\") "
   ]
  },
  {
   "cell_type": "code",
   "execution_count": 4,
   "metadata": {
    "collapsed": false
   },
   "outputs": [
    {
     "data": {
      "text/html": [
       "<div>\n",
       "<table border=\"1\" class=\"dataframe\">\n",
       "  <thead>\n",
       "    <tr style=\"text-align: right;\">\n",
       "      <th></th>\n",
       "      <th>satisfaction_level</th>\n",
       "      <th>last_evaluation</th>\n",
       "      <th>number_project</th>\n",
       "      <th>average_montly_hours</th>\n",
       "      <th>time_spend_company</th>\n",
       "      <th>Work_accident</th>\n",
       "      <th>left</th>\n",
       "      <th>promotion_last_5years</th>\n",
       "      <th>sales</th>\n",
       "      <th>salary</th>\n",
       "    </tr>\n",
       "  </thead>\n",
       "  <tbody>\n",
       "    <tr>\n",
       "      <th>0</th>\n",
       "      <td>0.38</td>\n",
       "      <td>0.53</td>\n",
       "      <td>2</td>\n",
       "      <td>157</td>\n",
       "      <td>3</td>\n",
       "      <td>0</td>\n",
       "      <td>1</td>\n",
       "      <td>0</td>\n",
       "      <td>sales</td>\n",
       "      <td>low</td>\n",
       "    </tr>\n",
       "    <tr>\n",
       "      <th>1</th>\n",
       "      <td>0.80</td>\n",
       "      <td>0.86</td>\n",
       "      <td>5</td>\n",
       "      <td>262</td>\n",
       "      <td>6</td>\n",
       "      <td>0</td>\n",
       "      <td>1</td>\n",
       "      <td>0</td>\n",
       "      <td>sales</td>\n",
       "      <td>medium</td>\n",
       "    </tr>\n",
       "    <tr>\n",
       "      <th>2</th>\n",
       "      <td>0.11</td>\n",
       "      <td>0.88</td>\n",
       "      <td>7</td>\n",
       "      <td>272</td>\n",
       "      <td>4</td>\n",
       "      <td>0</td>\n",
       "      <td>1</td>\n",
       "      <td>0</td>\n",
       "      <td>sales</td>\n",
       "      <td>medium</td>\n",
       "    </tr>\n",
       "    <tr>\n",
       "      <th>3</th>\n",
       "      <td>0.72</td>\n",
       "      <td>0.87</td>\n",
       "      <td>5</td>\n",
       "      <td>223</td>\n",
       "      <td>5</td>\n",
       "      <td>0</td>\n",
       "      <td>1</td>\n",
       "      <td>0</td>\n",
       "      <td>sales</td>\n",
       "      <td>low</td>\n",
       "    </tr>\n",
       "    <tr>\n",
       "      <th>4</th>\n",
       "      <td>0.37</td>\n",
       "      <td>0.52</td>\n",
       "      <td>2</td>\n",
       "      <td>159</td>\n",
       "      <td>3</td>\n",
       "      <td>0</td>\n",
       "      <td>1</td>\n",
       "      <td>0</td>\n",
       "      <td>sales</td>\n",
       "      <td>low</td>\n",
       "    </tr>\n",
       "  </tbody>\n",
       "</table>\n",
       "</div>"
      ],
      "text/plain": [
       "   satisfaction_level  last_evaluation  number_project  average_montly_hours  \\\n",
       "0                0.38             0.53               2                   157   \n",
       "1                0.80             0.86               5                   262   \n",
       "2                0.11             0.88               7                   272   \n",
       "3                0.72             0.87               5                   223   \n",
       "4                0.37             0.52               2                   159   \n",
       "\n",
       "   time_spend_company  Work_accident  left  promotion_last_5years  sales  \\\n",
       "0                   3              0     1                      0  sales   \n",
       "1                   6              0     1                      0  sales   \n",
       "2                   4              0     1                      0  sales   \n",
       "3                   5              0     1                      0  sales   \n",
       "4                   3              0     1                      0  sales   \n",
       "\n",
       "   salary  \n",
       "0     low  \n",
       "1  medium  \n",
       "2  medium  \n",
       "3     low  \n",
       "4     low  "
      ]
     },
     "execution_count": 4,
     "metadata": {},
     "output_type": "execute_result"
    }
   ],
   "source": [
    "data.head()"
   ]
  },
  {
   "cell_type": "code",
   "execution_count": 5,
   "metadata": {
    "collapsed": false
   },
   "outputs": [
    {
     "data": {
      "text/plain": [
       "numpy.int64"
      ]
     },
     "execution_count": 5,
     "metadata": {},
     "output_type": "execute_result"
    }
   ],
   "source": [
    "type(data.left[0])"
   ]
  },
  {
   "cell_type": "code",
   "execution_count": 6,
   "metadata": {
    "collapsed": true
   },
   "outputs": [],
   "source": [
    "data.rename(columns={\"average_montly_hours\":\"average_monthly_hours\"}, inplace = True)"
   ]
  },
  {
   "cell_type": "code",
   "execution_count": 7,
   "metadata": {
    "collapsed": false
   },
   "outputs": [
    {
     "data": {
      "text/html": [
       "<div>\n",
       "<table border=\"1\" class=\"dataframe\">\n",
       "  <thead>\n",
       "    <tr style=\"text-align: right;\">\n",
       "      <th></th>\n",
       "      <th>satisfaction_level</th>\n",
       "      <th>last_evaluation</th>\n",
       "      <th>number_project</th>\n",
       "      <th>average_monthly_hours</th>\n",
       "      <th>time_spend_company</th>\n",
       "      <th>Work_accident</th>\n",
       "      <th>left</th>\n",
       "      <th>promotion_last_5years</th>\n",
       "      <th>sales</th>\n",
       "      <th>salary</th>\n",
       "    </tr>\n",
       "  </thead>\n",
       "  <tbody>\n",
       "    <tr>\n",
       "      <th>0</th>\n",
       "      <td>0.38</td>\n",
       "      <td>0.53</td>\n",
       "      <td>2</td>\n",
       "      <td>157</td>\n",
       "      <td>3</td>\n",
       "      <td>0</td>\n",
       "      <td>1</td>\n",
       "      <td>0</td>\n",
       "      <td>sales</td>\n",
       "      <td>low</td>\n",
       "    </tr>\n",
       "    <tr>\n",
       "      <th>1</th>\n",
       "      <td>0.80</td>\n",
       "      <td>0.86</td>\n",
       "      <td>5</td>\n",
       "      <td>262</td>\n",
       "      <td>6</td>\n",
       "      <td>0</td>\n",
       "      <td>1</td>\n",
       "      <td>0</td>\n",
       "      <td>sales</td>\n",
       "      <td>medium</td>\n",
       "    </tr>\n",
       "    <tr>\n",
       "      <th>2</th>\n",
       "      <td>0.11</td>\n",
       "      <td>0.88</td>\n",
       "      <td>7</td>\n",
       "      <td>272</td>\n",
       "      <td>4</td>\n",
       "      <td>0</td>\n",
       "      <td>1</td>\n",
       "      <td>0</td>\n",
       "      <td>sales</td>\n",
       "      <td>medium</td>\n",
       "    </tr>\n",
       "    <tr>\n",
       "      <th>3</th>\n",
       "      <td>0.72</td>\n",
       "      <td>0.87</td>\n",
       "      <td>5</td>\n",
       "      <td>223</td>\n",
       "      <td>5</td>\n",
       "      <td>0</td>\n",
       "      <td>1</td>\n",
       "      <td>0</td>\n",
       "      <td>sales</td>\n",
       "      <td>low</td>\n",
       "    </tr>\n",
       "    <tr>\n",
       "      <th>4</th>\n",
       "      <td>0.37</td>\n",
       "      <td>0.52</td>\n",
       "      <td>2</td>\n",
       "      <td>159</td>\n",
       "      <td>3</td>\n",
       "      <td>0</td>\n",
       "      <td>1</td>\n",
       "      <td>0</td>\n",
       "      <td>sales</td>\n",
       "      <td>low</td>\n",
       "    </tr>\n",
       "  </tbody>\n",
       "</table>\n",
       "</div>"
      ],
      "text/plain": [
       "   satisfaction_level  last_evaluation  number_project  average_monthly_hours  \\\n",
       "0                0.38             0.53               2                    157   \n",
       "1                0.80             0.86               5                    262   \n",
       "2                0.11             0.88               7                    272   \n",
       "3                0.72             0.87               5                    223   \n",
       "4                0.37             0.52               2                    159   \n",
       "\n",
       "   time_spend_company  Work_accident  left  promotion_last_5years  sales  \\\n",
       "0                   3              0     1                      0  sales   \n",
       "1                   6              0     1                      0  sales   \n",
       "2                   4              0     1                      0  sales   \n",
       "3                   5              0     1                      0  sales   \n",
       "4                   3              0     1                      0  sales   \n",
       "\n",
       "   salary  \n",
       "0     low  \n",
       "1  medium  \n",
       "2  medium  \n",
       "3     low  \n",
       "4     low  "
      ]
     },
     "execution_count": 7,
     "metadata": {},
     "output_type": "execute_result"
    }
   ],
   "source": [
    "data.head()"
   ]
  },
  {
   "cell_type": "markdown",
   "metadata": {},
   "source": [
    "# Convert data to two Dataframe's with left as y, other columns as X, also encode the categorial features"
   ]
  },
  {
   "cell_type": "code",
   "execution_count": 8,
   "metadata": {
    "collapsed": false
   },
   "outputs": [],
   "source": [
    "y, X = dmatrices(\"left~satisfaction_level+last_evaluation+number_project+\\\n",
    "average_monthly_hours+time_spend_company+Work_accident+\\\n",
    "promotion_last_5years+C(sales)+C(salary)\", data, return_type=\"dataframe\")"
   ]
  },
  {
   "cell_type": "code",
   "execution_count": 17,
   "metadata": {
    "collapsed": false
   },
   "outputs": [
    {
     "data": {
      "text/plain": [
       "(pandas.core.frame.DataFrame, pandas.core.frame.DataFrame)"
      ]
     },
     "execution_count": 17,
     "metadata": {},
     "output_type": "execute_result"
    }
   ],
   "source": [
    "type(X), type(y)"
   ]
  },
  {
   "cell_type": "markdown",
   "metadata": {},
   "source": [
    "Convert X, y as numpy matrix and ndArray"
   ]
  },
  {
   "cell_type": "code",
   "execution_count": 18,
   "metadata": {
    "collapsed": true
   },
   "outputs": [],
   "source": [
    "X = np.asmatrix(X)\n",
    "y = np.ravel(y)"
   ]
  },
  {
   "cell_type": "code",
   "execution_count": 19,
   "metadata": {
    "collapsed": false
   },
   "outputs": [
    {
     "data": {
      "text/plain": [
       "(numpy.matrix, numpy.ndarray)"
      ]
     },
     "execution_count": 19,
     "metadata": {},
     "output_type": "execute_result"
    }
   ],
   "source": [
    "type(X), type(y)"
   ]
  },
  {
   "cell_type": "markdown",
   "metadata": {},
   "source": [
    "# Data nomalization of X to ([0,1))"
   ]
  },
  {
   "cell_type": "code",
   "execution_count": 22,
   "metadata": {
    "collapsed": false
   },
   "outputs": [],
   "source": [
    "for i in range(1, X.shape[1]):\n",
    "    xmin = X[:, i].min()\n",
    "    xmax = X[:, i].max()\n",
    "    X[:, i] = (X[:,i] - xmin)/(xmax-xmin)"
   ]
  },
  {
   "cell_type": "code",
   "execution_count": 24,
   "metadata": {
    "collapsed": false
   },
   "outputs": [
    {
     "data": {
      "text/plain": [
       "matrix([[1.   , 0.   , 0.   , ..., 0.125, 0.   , 0.   ],\n",
       "        [1.   , 0.   , 0.   , ..., 0.5  , 0.   , 0.   ],\n",
       "        [1.   , 0.   , 0.   , ..., 0.25 , 0.   , 0.   ],\n",
       "        ...,\n",
       "        [1.   , 0.   , 0.   , ..., 0.125, 0.   , 0.   ],\n",
       "        [1.   , 0.   , 0.   , ..., 0.25 , 0.   , 0.   ],\n",
       "        [1.   , 0.   , 0.   , ..., 0.125, 0.   , 0.   ]])"
      ]
     },
     "execution_count": 24,
     "metadata": {},
     "output_type": "execute_result"
    }
   ],
   "source": [
    "X"
   ]
  },
  {
   "cell_type": "markdown",
   "metadata": {},
   "source": [
    "Create an array of randome number, the same size of the number of features"
   ]
  },
  {
   "cell_type": "code",
   "execution_count": 26,
   "metadata": {
    "collapsed": false
   },
   "outputs": [
    {
     "data": {
      "text/plain": [
       "array([ 1.62434536, -0.61175641, -0.52817175, -1.07296862,  0.86540763,\n",
       "       -2.3015387 ,  1.74481176, -0.7612069 ,  0.3190391 , -0.24937038,\n",
       "        1.46210794, -2.06014071, -0.3224172 , -0.38405435,  1.13376944,\n",
       "       -1.09989127, -0.17242821, -0.87785842,  0.04221375])"
      ]
     },
     "execution_count": 26,
     "metadata": {},
     "output_type": "execute_result"
    }
   ],
   "source": [
    "np.random.seed(1)\n",
    "alpha = 1\n",
    "# create a initial beta, which is the arguments of the Logistic Regression model\n",
    "beta = np.random.randn(X.shape[1])\n",
    "beta                        "
   ]
  },
  {
   "cell_type": "markdown",
   "metadata": {},
   "source": [
    "# Definition of gradient decent"
   ]
  },
  {
   "cell_type": "code",
   "execution_count": 34,
   "metadata": {
    "collapsed": false
   },
   "outputs": [
    {
     "name": "stdout",
     "output_type": "stream",
     "text": [
      "T = 0 Loss = 1.120382327806672 error_rate = 0.5037002466831122\n",
      "T = 5 Loss = 0.6492666637968594 error_rate = 0.2910194012934196\n",
      "T = 10 Loss = 0.6095807663133693 error_rate = 0.26668444562970867\n",
      "T = 15 Loss = 0.5816449211566243 error_rate = 0.25888392559503964\n",
      "T = 20 Loss = 0.5607552377630786 error_rate = 0.2526835122341489\n",
      "T = 25 Loss = 0.5450244708251246 error_rate = 0.2481498766584439\n",
      "T = 30 Loss = 0.5328795073088821 error_rate = 0.24854990332688845\n",
      "T = 35 Loss = 0.5231836380769039 error_rate = 0.2474164944329622\n",
      "T = 40 Loss = 0.5151826947262422 error_rate = 0.24234948996599773\n",
      "T = 45 Loss = 0.5083944951258156 error_rate = 0.23968264550970064\n",
      "T = 50 Loss = 0.5025111703564583 error_rate = 0.23728248549903327\n",
      "T = 55 Loss = 0.49733135447626586 error_rate = 0.23581572104806986\n",
      "T = 60 Loss = 0.4927180171532152 error_rate = 0.23448229881992133\n",
      "T = 65 Loss = 0.48857356128232926 error_rate = 0.23381558770584707\n",
      "T = 70 Loss = 0.48482536350449806 error_rate = 0.23214880992066136\n",
      "T = 75 Loss = 0.48141731701862545 error_rate = 0.22934862324154945\n",
      "T = 80 Loss = 0.478304757976905 error_rate = 0.22668177878525236\n",
      "T = 85 Loss = 0.47545130349397274 error_rate = 0.22428161877458497\n",
      "T = 90 Loss = 0.4728267902672707 error_rate = 0.2231482098806587\n",
      "T = 95 Loss = 0.47040586746002966 error_rate = 0.22074804986999133\n",
      "T = 100 Loss = 0.46816699480428575 error_rate = 0.22094806320421362\n",
      "T = 105 Loss = 0.46609170331060074 error_rate = 0.22134808987265817\n",
      "T = 110 Loss = 0.46416403394312195 error_rate = 0.22154810320688045\n",
      "T = 115 Loss = 0.4623701018588734 error_rate = 0.2211480765384359\n",
      "T = 120 Loss = 0.4606977522920368 error_rate = 0.2206813787585839\n",
      "T = 125 Loss = 0.45913628516582644 error_rate = 0.22054803653576904\n",
      "T = 130 Loss = 0.4576762323464664 error_rate = 0.22054803653576904\n",
      "T = 135 Loss = 0.456309175882234 error_rate = 0.22021468097873192\n",
      "T = 140 Loss = 0.4550275985604056 error_rate = 0.22101473431562105\n",
      "T = 145 Loss = 0.4538247602068062 error_rate = 0.2211480765384359\n",
      "T = 150 Loss = 0.4526945946606393 error_rate = 0.22074804986999133\n",
      "T = 155 Loss = 0.4516316234713585 error_rate = 0.22021468097873192\n",
      "T = 160 Loss = 0.4506308832028294 error_rate = 0.21974798319887992\n",
      "T = 165 Loss = 0.44968786387121934 error_rate = 0.22001466764450964\n",
      "T = 170 Loss = 0.4487984565390081 error_rate = 0.22061470764717647\n",
      "T = 175 Loss = 0.4479589084750731 error_rate = 0.22048136542436161\n",
      "T = 180 Loss = 0.4471657845958743 error_rate = 0.21988132542169478\n",
      "T = 185 Loss = 0.446415934144677 error_rate = 0.21928128541902794\n",
      "T = 190 Loss = 0.4457064617585626 error_rate = 0.21954796986465763\n",
      "T = 195 Loss = 0.44503470222752134 error_rate = 0.21981465431028735\n",
      "T = 200 Loss = 0.444398198374091 error_rate = 0.2201480098673245\n",
      "T = 205 Loss = 0.44379468158251134 error_rate = 0.21981465431028735\n",
      "T = 210 Loss = 0.44322205458756947 error_rate = 0.2177478498566571\n",
      "T = 215 Loss = 0.442678376199685 error_rate = 0.21694779651976798\n",
      "T = 220 Loss = 0.44216184769643685 error_rate = 0.216481098739916\n",
      "T = 225 Loss = 0.44167080065506914 error_rate = 0.21621441429428628\n",
      "T = 230 Loss = 0.44120368603666404 error_rate = 0.21621441429428628\n",
      "T = 235 Loss = 0.44075906436224044 error_rate = 0.21621441429428628\n",
      "T = 240 Loss = 0.4403355968458538 error_rate = 0.21561437429161945\n",
      "T = 245 Loss = 0.43993203736979597 error_rate = 0.21494766317754516\n",
      "T = 250 Loss = 0.43954722520399775 error_rate = 0.2142809520634709\n",
      "T = 255 Loss = 0.4391800783855863 error_rate = 0.21388092539502634\n",
      "T = 260 Loss = 0.43882958768634905 error_rate = 0.21308087205813722\n",
      "T = 265 Loss = 0.4384948111055622 error_rate = 0.21274751650110008\n",
      "T = 270 Loss = 0.43817486883384554 error_rate = 0.21268084538969265\n",
      "T = 275 Loss = 0.43786893864062043 error_rate = 0.21201413427561838\n",
      "T = 280 Loss = 0.43757625164374897 error_rate = 0.21174744982998867\n",
      "T = 285 Loss = 0.4372960884246278 error_rate = 0.21168077871858124\n",
      "T = 290 Loss = 0.4370277754566002 error_rate = 0.21154743649576638\n",
      "T = 295 Loss = 0.4367706818178767 error_rate = 0.21148076538435895\n",
      "T = 300 Loss = 0.4365242161635874 error_rate = 0.21154743649576638\n",
      "T = 305 Loss = 0.4362878239340314 error_rate = 0.21094739649309954\n",
      "T = 310 Loss = 0.43606098477877575 error_rate = 0.2104140276018401\n",
      "T = 315 Loss = 0.43584321017814265 error_rate = 0.21028068537902528\n",
      "T = 320 Loss = 0.4356340412455387 error_rate = 0.20968064537635842\n",
      "T = 325 Loss = 0.43543304669561994 error_rate = 0.20954730315354356\n",
      "T = 330 Loss = 0.43523982096472097 error_rate = 0.20954730315354356\n",
      "T = 335 Loss = 0.4350539824711322 error_rate = 0.20908060537369158\n",
      "T = 340 Loss = 0.43487517200410236 error_rate = 0.20908060537369158\n",
      "T = 345 Loss = 0.43470305123124675 error_rate = 0.20881392092806186\n",
      "T = 350 Loss = 0.43453730131500257 error_rate = 0.20874724981665443\n",
      "T = 355 Loss = 0.4343776216296516 error_rate = 0.20861390759383958\n",
      "T = 360 Loss = 0.43422372857102726 error_rate = 0.20854723648243217\n",
      "T = 365 Loss = 0.4340753544517318 error_rate = 0.20881392092806186\n",
      "T = 370 Loss = 0.43393224647536205 error_rate = 0.20874724981665443\n",
      "T = 375 Loss = 0.4337941657835864 error_rate = 0.209147276485099\n",
      "T = 380 Loss = 0.43366088657063606 error_rate = 0.209147276485099\n",
      "T = 385 Loss = 0.4335321952600236 error_rate = 0.20881392092806186\n",
      "T = 390 Loss = 0.4334078897388679 error_rate = 0.209613974264951\n",
      "T = 395 Loss = 0.4332877786454411 error_rate = 0.20968064537635842\n",
      "T = 400 Loss = 0.43317168070602063 error_rate = 0.20954730315354356\n",
      "T = 405 Loss = 0.4330594241173043 error_rate = 0.209147276485099\n",
      "T = 410 Loss = 0.4329508459711239 error_rate = 0.2088805920394693\n",
      "T = 415 Loss = 0.4328457917181876 error_rate = 0.208680578705247\n",
      "T = 420 Loss = 0.4327441146681553 error_rate = 0.20788052536835788\n",
      "T = 425 Loss = 0.4326456755232327 error_rate = 0.2076138409227282\n",
      "T = 430 Loss = 0.43255034194299186 error_rate = 0.20768051203413562\n",
      "T = 435 Loss = 0.43245798813795217 error_rate = 0.20721381425428362\n",
      "T = 440 Loss = 0.4323684944901125 error_rate = 0.20701380092006133\n",
      "T = 445 Loss = 0.43228174719826234 error_rate = 0.20728048536569105\n",
      "T = 450 Loss = 0.4321976379464111 error_rate = 0.20708047203146876\n",
      "T = 455 Loss = 0.4321160635936715 error_rate = 0.20708047203146876\n",
      "T = 460 Loss = 0.4320369258840835 error_rate = 0.20721381425428362\n",
      "T = 465 Loss = 0.4319601311749402 error_rate = 0.20721381425428362\n",
      "T = 470 Loss = 0.4318855901823608 error_rate = 0.2071471431428762\n",
      "T = 475 Loss = 0.4318132177428434 error_rate = 0.2069471298086539\n",
      "T = 480 Loss = 0.4317429325897832 error_rate = 0.20674711647443164\n",
      "T = 485 Loss = 0.4316746571438186 error_rate = 0.20661377425161678\n",
      "T = 490 Loss = 0.43160831731610566 error_rate = 0.20634708980598707\n",
      "T = 495 Loss = 0.43154384232365245 error_rate = 0.2058803920261351\n"
     ]
    }
   ],
   "source": [
    "# do 500 steps of gradient decent\n",
    "for T in range(500):\n",
    "    # use the initial model(aguments) creatd above to get the first y\n",
    "    prob = np.array(1./(1+np.exp(-np.matmul(X, beta)))).ravel()\n",
    "    # zip the calculated y with real y\n",
    "    prob_y = list(zip(prob, y))\n",
    "    # calculate loss with Logistic Regression cross entropy loss function\n",
    "    loss = -sum([np.log(p) if y == 1 else np.log(1-p) for p, y in prob_y])/len(y)\n",
    "    \n",
    "    # calculate error rate\n",
    "    error_rate = 0\n",
    "    for i in range(len(y)):\n",
    "        if ( prob[i] > 0.5 and y[i] == 0 ) or ( prob[i] <= 0.5 and y[i] == 1 ) :\n",
    "            error_rate += 1\n",
    "    error_rate /= len(y)\n",
    "     \n",
    "    # print progress once 5 steps\n",
    "    if T % 5 == 0:\n",
    "        print( \"T = \" + str(T) + \" Loss = \" + str(loss) + \" error_rate = \" + str(error_rate))\n",
    "    \n",
    "    # calculate Derivative\n",
    "    # df/db = sum[Xi * (yi' - yi)]\n",
    "    deriv = np.zeros(X.shape[1])\n",
    "    for i in range(len(y)):\n",
    "        deriv += np.asarray(X[i,:]).ravel() * (prob[i] - y[i])\n",
    "    deriv /= len(y)\n",
    "    \n",
    "    # update the beta on the oppsite direction of derivative\n",
    "    beta = beta - deriv"
   ]
  },
  {
   "cell_type": "markdown",
   "metadata": {},
   "source": [
    "ending Loss = 0.43154384232365245 error_rate = 0.2058803920261351"
   ]
  },
  {
   "cell_type": "code",
   "execution_count": null,
   "metadata": {
    "collapsed": true
   },
   "outputs": [],
   "source": []
  }
 ],
 "metadata": {
  "anaconda-cloud": {},
  "kernelspec": {
   "display_name": "Python [default]",
   "language": "python",
   "name": "python3"
  },
  "language_info": {
   "codemirror_mode": {
    "name": "ipython",
    "version": 3
   },
   "file_extension": ".py",
   "mimetype": "text/x-python",
   "name": "python",
   "nbconvert_exporter": "python",
   "pygments_lexer": "ipython3",
   "version": "3.5.2"
  }
 },
 "nbformat": 4,
 "nbformat_minor": 1
}

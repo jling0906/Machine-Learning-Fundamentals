{
 "cells": [
  {
   "cell_type": "markdown",
   "metadata": {
    "_cell_guid": "49842f61-a98e-405a-974f-59e94da78ce8",
    "_uuid": "716fa6095cfff789b47e773878f4b82bdd4e31f9"
   },
   "source": [
    "# 垃圾邮件分类\n",
    "\n",
    "https://www.kaggle.com/uciml/sms-spam-collection-dataset"
   ]
  },
  {
   "cell_type": "markdown",
   "metadata": {
    "_cell_guid": "d6b1ab40-34da-4645-98c4-4b61c97895f6",
    "_uuid": "0259bd59e4fad41ffd78aa5a510a83ef07daab7f",
    "collapsed": true
   },
   "source": [
    "读取数据"
   ]
  },
  {
   "cell_type": "code",
   "execution_count": null,
   "metadata": {
    "_cell_guid": "a89760f4-9075-42be-b4c4-c8c87d175c88",
    "_uuid": "4429a082ddabcb23261daec29ee1ae9e68ba2a2e",
    "collapsed": true
   },
   "outputs": [],
   "source": []
  },
  {
   "cell_type": "markdown",
   "metadata": {
    "_cell_guid": "fb7d1a73-39d6-43d9-b23a-171968ab0344",
    "_uuid": "4c97a2d598fdc678ebac37a28485e6b56cd2a0dd"
   },
   "source": [
    "把数据拆分为train 和 test"
   ]
  },
  {
   "cell_type": "code",
   "execution_count": null,
   "metadata": {
    "_cell_guid": "ace4225f-7d4b-429f-86ef-b29091f4b920",
    "_uuid": "8d418776458bcdd5cb059dedf505aad4ad503901",
    "collapsed": true
   },
   "outputs": [],
   "source": []
  },
  {
   "cell_type": "markdown",
   "metadata": {
    "_cell_guid": "920ceb77-3694-45e3-896d-6a6abf7089f7",
    "_uuid": "483d58d9fa3bf5d4e034d7807ff0aed9b9a7675f"
   },
   "source": [
    "统计训练集里面单词个数"
   ]
  },
  {
   "cell_type": "code",
   "execution_count": null,
   "metadata": {
    "_cell_guid": "a2e96086-3318-45cf-931d-20971df3a9ca",
    "_uuid": "5116f876800e6e1647a25e9ef6dfe74f02318c06",
    "collapsed": true
   },
   "outputs": [],
   "source": []
  },
  {
   "cell_type": "markdown",
   "metadata": {
    "_cell_guid": "bb6ae7f3-5cb5-4f67-9a5e-7f92b8c56f4d",
    "_uuid": "08ee317a74217303f5f20f74e4788e1590cabb4e"
   },
   "source": [
    "演示CountVectorizer用法"
   ]
  },
  {
   "cell_type": "code",
   "execution_count": null,
   "metadata": {
    "_cell_guid": "76be376a-0c66-4001-ac99-9b968ce62781",
    "_uuid": "bc7497787d1d19eee918fec0faabe29669a8b3fb",
    "collapsed": true
   },
   "outputs": [],
   "source": [
    "import pandas as pd \n",
    "from sklearn.feature_extraction.text import CountVectorizer\n",
    "import matplotlib.pyplot as plt # 画图常用库\n",
    "vect = CountVectorizer()\n",
    "example = ['I love you, good bad bad', 'you are soo good']\n",
    "\n",
    "result = vect.fit_transform(example)\n",
    "print(result)\n",
    "print (vect.vocabulary_)\n",
    "\n"
   ]
  },
  {
   "cell_type": "code",
   "execution_count": null,
   "metadata": {
    "_cell_guid": "8a93e06e-0c02-41ce-8766-5bb4ab3c9ca4",
    "_uuid": "542b5e7daee7e2c14a560b9e01ba6520e78ee5fa",
    "collapsed": true
   },
   "outputs": [],
   "source": []
  },
  {
   "cell_type": "code",
   "execution_count": null,
   "metadata": {
    "_cell_guid": "81fb5e1c-1eba-44f8-a56c-23cb56fa2251",
    "_uuid": "f8e259bb2ef260294478c4ec7929cdd10b68d84a",
    "collapsed": true
   },
   "outputs": [],
   "source": []
  },
  {
   "cell_type": "markdown",
   "metadata": {
    "_cell_guid": "ab63bd91-b913-4ec5-bd4e-2c731e67cfac",
    "_uuid": "1c236f43a4915a4f3567c7d91b297f0214d57610"
   },
   "source": [
    "选择比较重要的feature"
   ]
  },
  {
   "cell_type": "markdown",
   "metadata": {
    "_cell_guid": "fd0114c9-7e15-4da0-8b1c-e87c0643e073",
    "_uuid": "d1ccbf1a3bfbdd521c52db477e9d40e9d4268212"
   },
   "source": [
    "训练模型"
   ]
  },
  {
   "cell_type": "code",
   "execution_count": null,
   "metadata": {
    "_cell_guid": "708ea854-0c20-4ac0-97b7-90075d8f63c4",
    "_uuid": "ad1c1cf6085fdf9d83c34c68b324f1c73e710315",
    "collapsed": true
   },
   "outputs": [],
   "source": []
  },
  {
   "cell_type": "code",
   "execution_count": null,
   "metadata": {
    "_cell_guid": "9930bb73-6ffb-4de2-a933-b43b329e34cd",
    "_uuid": "d2dd8d2b739e46a895f63cbd55077d47f81a7429",
    "collapsed": true
   },
   "outputs": [],
   "source": []
  },
  {
   "cell_type": "code",
   "execution_count": null,
   "metadata": {
    "_cell_guid": "4cc9d40d-2987-4976-998a-2c30627d2c36",
    "_uuid": "d26e952060201ceabf1868e57ca195346f23cff3",
    "collapsed": true
   },
   "outputs": [],
   "source": []
  }
 ],
 "metadata": {
  "kernelspec": {
   "display_name": "Python 3",
   "language": "python",
   "name": "python3"
  },
  "language_info": {
   "codemirror_mode": {
    "name": "ipython",
    "version": 3
   },
   "file_extension": ".py",
   "mimetype": "text/x-python",
   "name": "python",
   "nbconvert_exporter": "python",
   "pygments_lexer": "ipython3",
   "version": "3.6.3"
  }
 },
 "nbformat": 4,
 "nbformat_minor": 1
}

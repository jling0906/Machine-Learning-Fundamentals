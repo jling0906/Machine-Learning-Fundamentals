{
 "cells": [
  {
   "cell_type": "code",
   "execution_count": 1,
   "metadata": {},
   "outputs": [],
   "source": [
    "import numpy as np\n",
    "import pandas as pd\n",
    "import matplotlib.pyplot as plt"
   ]
  },
  {
   "cell_type": "code",
   "execution_count": 3,
   "metadata": {},
   "outputs": [],
   "source": [
    "dataset = pd.read_csv(\"train.csv\")\n",
    "testset = pd.read_csv(\"test.csv\")"
   ]
  },
  {
   "cell_type": "code",
   "execution_count": 4,
   "metadata": {},
   "outputs": [
    {
     "data": {
      "text/plain": [
       "Index(['PassengerId', 'Survived', 'Pclass', 'Name', 'Sex', 'Age', 'SibSp',\n",
       "       'Parch', 'Ticket', 'Fare', 'Cabin', 'Embarked'],\n",
       "      dtype='object')"
      ]
     },
     "execution_count": 4,
     "metadata": {},
     "output_type": "execute_result"
    }
   ],
   "source": [
    "dataset.columns"
   ]
  },
  {
   "cell_type": "code",
   "execution_count": 5,
   "metadata": {},
   "outputs": [
    {
     "data": {
      "text/plain": [
       "Index(['PassengerId', 'Pclass', 'Name', 'Sex', 'Age', 'SibSp', 'Parch',\n",
       "       'Ticket', 'Fare', 'Cabin', 'Embarked'],\n",
       "      dtype='object')"
      ]
     },
     "execution_count": 5,
     "metadata": {},
     "output_type": "execute_result"
    }
   ],
   "source": [
    "testset.columns"
   ]
  },
  {
   "cell_type": "code",
   "execution_count": 6,
   "metadata": {},
   "outputs": [
    {
     "data": {
      "text/html": [
       "<div>\n",
       "<style scoped>\n",
       "    .dataframe tbody tr th:only-of-type {\n",
       "        vertical-align: middle;\n",
       "    }\n",
       "\n",
       "    .dataframe tbody tr th {\n",
       "        vertical-align: top;\n",
       "    }\n",
       "\n",
       "    .dataframe thead th {\n",
       "        text-align: right;\n",
       "    }\n",
       "</style>\n",
       "<table border=\"1\" class=\"dataframe\">\n",
       "  <thead>\n",
       "    <tr style=\"text-align: right;\">\n",
       "      <th></th>\n",
       "      <th>PassengerId</th>\n",
       "      <th>Survived</th>\n",
       "      <th>Pclass</th>\n",
       "      <th>Name</th>\n",
       "      <th>Sex</th>\n",
       "      <th>Age</th>\n",
       "      <th>SibSp</th>\n",
       "      <th>Parch</th>\n",
       "      <th>Ticket</th>\n",
       "      <th>Fare</th>\n",
       "      <th>Cabin</th>\n",
       "      <th>Embarked</th>\n",
       "    </tr>\n",
       "  </thead>\n",
       "  <tbody>\n",
       "    <tr>\n",
       "      <th>0</th>\n",
       "      <td>1</td>\n",
       "      <td>0</td>\n",
       "      <td>3</td>\n",
       "      <td>Braund, Mr. Owen Harris</td>\n",
       "      <td>male</td>\n",
       "      <td>22.0</td>\n",
       "      <td>1</td>\n",
       "      <td>0</td>\n",
       "      <td>A/5 21171</td>\n",
       "      <td>7.2500</td>\n",
       "      <td>NaN</td>\n",
       "      <td>S</td>\n",
       "    </tr>\n",
       "    <tr>\n",
       "      <th>1</th>\n",
       "      <td>2</td>\n",
       "      <td>1</td>\n",
       "      <td>1</td>\n",
       "      <td>Cumings, Mrs. John Bradley (Florence Briggs Th...</td>\n",
       "      <td>female</td>\n",
       "      <td>38.0</td>\n",
       "      <td>1</td>\n",
       "      <td>0</td>\n",
       "      <td>PC 17599</td>\n",
       "      <td>71.2833</td>\n",
       "      <td>C85</td>\n",
       "      <td>C</td>\n",
       "    </tr>\n",
       "    <tr>\n",
       "      <th>2</th>\n",
       "      <td>3</td>\n",
       "      <td>1</td>\n",
       "      <td>3</td>\n",
       "      <td>Heikkinen, Miss. Laina</td>\n",
       "      <td>female</td>\n",
       "      <td>26.0</td>\n",
       "      <td>0</td>\n",
       "      <td>0</td>\n",
       "      <td>STON/O2. 3101282</td>\n",
       "      <td>7.9250</td>\n",
       "      <td>NaN</td>\n",
       "      <td>S</td>\n",
       "    </tr>\n",
       "    <tr>\n",
       "      <th>3</th>\n",
       "      <td>4</td>\n",
       "      <td>1</td>\n",
       "      <td>1</td>\n",
       "      <td>Futrelle, Mrs. Jacques Heath (Lily May Peel)</td>\n",
       "      <td>female</td>\n",
       "      <td>35.0</td>\n",
       "      <td>1</td>\n",
       "      <td>0</td>\n",
       "      <td>113803</td>\n",
       "      <td>53.1000</td>\n",
       "      <td>C123</td>\n",
       "      <td>S</td>\n",
       "    </tr>\n",
       "    <tr>\n",
       "      <th>4</th>\n",
       "      <td>5</td>\n",
       "      <td>0</td>\n",
       "      <td>3</td>\n",
       "      <td>Allen, Mr. William Henry</td>\n",
       "      <td>male</td>\n",
       "      <td>35.0</td>\n",
       "      <td>0</td>\n",
       "      <td>0</td>\n",
       "      <td>373450</td>\n",
       "      <td>8.0500</td>\n",
       "      <td>NaN</td>\n",
       "      <td>S</td>\n",
       "    </tr>\n",
       "  </tbody>\n",
       "</table>\n",
       "</div>"
      ],
      "text/plain": [
       "   PassengerId  Survived  Pclass  \\\n",
       "0            1         0       3   \n",
       "1            2         1       1   \n",
       "2            3         1       3   \n",
       "3            4         1       1   \n",
       "4            5         0       3   \n",
       "\n",
       "                                                Name     Sex   Age  SibSp  \\\n",
       "0                            Braund, Mr. Owen Harris    male  22.0      1   \n",
       "1  Cumings, Mrs. John Bradley (Florence Briggs Th...  female  38.0      1   \n",
       "2                             Heikkinen, Miss. Laina  female  26.0      0   \n",
       "3       Futrelle, Mrs. Jacques Heath (Lily May Peel)  female  35.0      1   \n",
       "4                           Allen, Mr. William Henry    male  35.0      0   \n",
       "\n",
       "   Parch            Ticket     Fare Cabin Embarked  \n",
       "0      0         A/5 21171   7.2500   NaN        S  \n",
       "1      0          PC 17599  71.2833   C85        C  \n",
       "2      0  STON/O2. 3101282   7.9250   NaN        S  \n",
       "3      0            113803  53.1000  C123        S  \n",
       "4      0            373450   8.0500   NaN        S  "
      ]
     },
     "execution_count": 6,
     "metadata": {},
     "output_type": "execute_result"
    }
   ],
   "source": [
    "dataset.head()"
   ]
  },
  {
   "cell_type": "code",
   "execution_count": 7,
   "metadata": {},
   "outputs": [
    {
     "name": "stdout",
     "output_type": "stream",
     "text": [
      "PassengerId      int64\n",
      "Survived         int64\n",
      "Pclass           int64\n",
      "Name            object\n",
      "Sex             object\n",
      "Age            float64\n",
      "SibSp            int64\n",
      "Parch            int64\n",
      "Ticket          object\n",
      "Fare           float64\n",
      "Cabin           object\n",
      "Embarked        object\n",
      "dtype: object\n"
     ]
    }
   ],
   "source": [
    "print(dataset.dtypes)"
   ]
  },
  {
   "cell_type": "code",
   "execution_count": 8,
   "metadata": {},
   "outputs": [
    {
     "name": "stdout",
     "output_type": "stream",
     "text": [
      "<class 'pandas.core.frame.DataFrame'>\n",
      "RangeIndex: 891 entries, 0 to 890\n",
      "Data columns (total 12 columns):\n",
      "PassengerId    891 non-null int64\n",
      "Survived       891 non-null int64\n",
      "Pclass         891 non-null int64\n",
      "Name           891 non-null object\n",
      "Sex            891 non-null object\n",
      "Age            714 non-null float64\n",
      "SibSp          891 non-null int64\n",
      "Parch          891 non-null int64\n",
      "Ticket         891 non-null object\n",
      "Fare           891 non-null float64\n",
      "Cabin          204 non-null object\n",
      "Embarked       889 non-null object\n",
      "dtypes: float64(2), int64(5), object(5)\n",
      "memory usage: 83.6+ KB\n",
      "None\n"
     ]
    }
   ],
   "source": [
    "print(dataset.info())    # Why no null?"
   ]
  },
  {
   "cell_type": "code",
   "execution_count": 9,
   "metadata": {},
   "outputs": [
    {
     "name": "stdout",
     "output_type": "stream",
     "text": [
      "       PassengerId    Survived      Pclass         Age       SibSp  \\\n",
      "count   891.000000  891.000000  891.000000  714.000000  891.000000   \n",
      "mean    446.000000    0.383838    2.308642   29.699118    0.523008   \n",
      "std     257.353842    0.486592    0.836071   14.526497    1.102743   \n",
      "min       1.000000    0.000000    1.000000    0.420000    0.000000   \n",
      "25%     223.500000    0.000000    2.000000   20.125000    0.000000   \n",
      "50%     446.000000    0.000000    3.000000   28.000000    0.000000   \n",
      "75%     668.500000    1.000000    3.000000   38.000000    1.000000   \n",
      "max     891.000000    1.000000    3.000000   80.000000    8.000000   \n",
      "\n",
      "            Parch        Fare  \n",
      "count  891.000000  891.000000  \n",
      "mean     0.381594   32.204208  \n",
      "std      0.806057   49.693429  \n",
      "min      0.000000    0.000000  \n",
      "25%      0.000000    7.910400  \n",
      "50%      0.000000   14.454200  \n",
      "75%      0.000000   31.000000  \n",
      "max      6.000000  512.329200  \n"
     ]
    }
   ],
   "source": [
    "print(dataset.describe())"
   ]
  },
  {
   "cell_type": "code",
   "execution_count": 11,
   "metadata": {},
   "outputs": [
    {
     "name": "stdout",
     "output_type": "stream",
     "text": [
      "0      male\n",
      "1    female\n",
      "2    female\n",
      "3    female\n",
      "4      male\n",
      "5      male\n",
      "6      male\n",
      "7      male\n",
      "8    female\n",
      "9    female\n",
      "Name: Sex, dtype: object\n"
     ]
    }
   ],
   "source": [
    "print(dataset[\"Sex\"][0:10])"
   ]
  },
  {
   "cell_type": "code",
   "execution_count": 14,
   "metadata": {},
   "outputs": [],
   "source": [
    "# pandas 里面refer各个column可以直接用 dataset名.columnname\n",
    "survived_m_count = dataset.Survived[dataset.Sex == 'male'].value_counts()\n",
    "survived_f_count = dataset.Survived[dataset.Sex == 'female'].value_counts()"
   ]
  },
  {
   "cell_type": "code",
   "execution_count": 17,
   "metadata": {},
   "outputs": [
    {
     "data": {
      "image/png": "[encoded data removed]",
      "text/plain": [
       "<matplotlib.figure.Figure at 0x10da9c8d0>"
      ]
     },
     "metadata": {},
     "output_type": "display_data"
    }
   ],
   "source": [
    "df = pd.DataFrame({\"male\": survived_m_count, \"female\": survived_f_count})\n",
    "df.plot(kind = \"bar\", stacked = True)\n",
    "\n",
    "plt.title(\"Survived by sex\")\n",
    "plt.xlabel(\"sex\")\n",
    "plt.ylabel(\"count\")\n",
    "\n",
    "plt.show()   #?? axis 方向是默认的？ dataframe定义时的方向？？"
   ]
  },
  {
   "cell_type": "code",
   "execution_count": 20,
   "metadata": {},
   "outputs": [
    {
     "name": "stdout",
     "output_type": "stream",
     "text": [
      "0    22.0\n",
      "1    38.0\n",
      "2    26.0\n",
      "3    35.0\n",
      "4    35.0\n",
      "5     NaN\n",
      "6    54.0\n",
      "7     2.0\n",
      "8    27.0\n",
      "9    14.0\n",
      "Name: Age, dtype: float64\n"
     ]
    },
    {
     "data": {
      "image/png": "[encoded data removed]",
      "text/plain": [
       "<matplotlib.figure.Figure at 0x115731518>"
      ]
     },
     "metadata": {},
     "output_type": "display_data"
    },
    {
     "name": "stdout",
     "output_type": "stream",
     "text": [
      "True\n"
     ]
    },
    {
     "data": {
      "image/png": "[encoded data removed]",
      "text/plain": [
       "<matplotlib.figure.Figure at 0x11583ce48>"
      ]
     },
     "metadata": {},
     "output_type": "display_data"
    }
   ],
   "source": [
    "\n",
    "print( dataset[\"Age\"][0:10])\n",
    "dataset[\"Age\"].hist()\n",
    "plt.ylabel(\"Number\")\n",
    "plt.xlabel(\"Age\")\n",
    "plt.show()\n",
    "\n",
    "print( dataset[\"Age\"].isnull().values.any())\n",
    "plt.scatter(dataset['Survived'], dataset['Age'])\n",
    "plt.ylabel(\"Age\")\n",
    "plt.xlabel(\"Survived\")\n",
    "plt.title(\"Age distribution\")\n",
    "plt.show()"
   ]
  },
  {
   "cell_type": "code",
   "execution_count": 24,
   "metadata": {},
   "outputs": [
    {
     "name": "stdout",
     "output_type": "stream",
     "text": [
      "0     7.2500\n",
      "1    71.2833\n",
      "2     7.9250\n",
      "3    53.1000\n",
      "4     8.0500\n",
      "5     8.4583\n",
      "6    51.8625\n",
      "7    21.0750\n",
      "8    11.1333\n",
      "9    30.0708\n",
      "Name: Fare, dtype: float64\n"
     ]
    },
    {
     "data": {
      "image/png": "[encoded data removed]",
      "text/plain": [
       "<matplotlib.figure.Figure at 0x1159e8630>"
      ]
     },
     "metadata": {},
     "output_type": "display_data"
    },
    {
     "name": "stdout",
     "output_type": "stream",
     "text": [
      "False\n"
     ]
    },
    {
     "data": {
      "image/png": "[encoded data removed]",
      "text/plain": [
       "<matplotlib.figure.Figure at 0x115ab93c8>"
      ]
     },
     "metadata": {},
     "output_type": "display_data"
    }
   ],
   "source": [
    "print(dataset[\"Fare\"][0:10])\n",
    "dataset[\"Fare\"].hist()\n",
    "plt.ylabel(\"Numnber\")\n",
    "plt.xlabel(\"Fare\")\n",
    "plt.show()\n",
    "\n",
    "print(dataset[\"Fare\"].isnull().values.any())\n",
    "plt.scatter(dataset[\"Survived\"], dataset[\"Fare\"])\n",
    "plt.ylabel(\"Fare\")\n",
    "plt.xlabel(\"Survived\")\n",
    "plt.title(\"Fare Distribution\")\n",
    "plt.show()"
   ]
  },
  {
   "cell_type": "code",
   "execution_count": 30,
   "metadata": {},
   "outputs": [
    {
     "name": "stdout",
     "output_type": "stream",
     "text": [
      "0    3\n",
      "1    1\n",
      "2    3\n",
      "3    1\n",
      "4    3\n",
      "5    3\n",
      "6    1\n",
      "7    3\n",
      "8    3\n",
      "9    2\n",
      "Name: Pclass, dtype: int64\n"
     ]
    },
    {
     "data": {
      "image/png": "[encoded data removed]",
      "text/plain": [
       "<matplotlib.figure.Figure at 0x115b93ba8>"
      ]
     },
     "metadata": {},
     "output_type": "display_data"
    },
    {
     "name": "stdout",
     "output_type": "stream",
     "text": [
      "False\n",
      "    p1  p2   p3\n",
      "0   80  97  372\n",
      "1  136  87  119\n"
     ]
    },
    {
     "data": {
      "image/png": "[encoded data removed]",
      "text/plain": [
       "<matplotlib.figure.Figure at 0x115a3b390>"
      ]
     },
     "metadata": {},
     "output_type": "display_data"
    }
   ],
   "source": [
    "print(dataset[\"Pclass\"][0:10])\n",
    "dataset[\"Pclass\"].hist()    # hist y axis is count of each value\n",
    "plt.show()\n",
    "print(dataset[\"Pclass\"].isnull().values.any())\n",
    "\n",
    "survived_p1_count = dataset.Survived[dataset[\"Pclass\"] == 1].value_counts()\n",
    "survived_p2_count = dataset.Survived[dataset[\"Pclass\"] == 2].value_counts()\n",
    "survived_p3_count = dataset.Survived[dataset[\"Pclass\"] == 3].value_counts()\n",
    "\n",
    "df = pd.DataFrame({\"p1\":survived_p1_count, \"p2\": survived_p2_count, \"p3\": survived_p3_count})\n",
    "print(df)\n",
    "df.plot(kind = \"bar\", stacked = True)\n",
    "plt.title(\"Survived by pclass\")\n",
    "plt.xlabel(\"plcass\")\n",
    "plt.ylabel(\"count\")\n",
    "plt.show()"
   ]
  },
  {
   "cell_type": "code",
   "execution_count": 32,
   "metadata": {},
   "outputs": [
    {
     "name": "stdout",
     "output_type": "stream",
     "text": [
      "0    S\n",
      "1    C\n",
      "2    S\n",
      "3    S\n",
      "4    S\n",
      "5    Q\n",
      "6    S\n",
      "7    S\n",
      "8    S\n",
      "9    C\n",
      "Name: Embarked, dtype: object\n",
      "0    427\n",
      "1    217\n",
      "Name: Survived, dtype: int64\n"
     ]
    },
    {
     "data": {
      "image/png": "[encoded data removed]",
      "text/plain": [
       "<matplotlib.figure.Figure at 0x115bb68d0>"
      ]
     },
     "metadata": {},
     "output_type": "display_data"
    }
   ],
   "source": [
    "# df.A\n",
    "print(dataset[\"Embarked\"][0:10])\n",
    "survived_s = dataset.Survived[dataset[\"Embarked\"] == \"S\"].value_counts()\n",
    "survived_c = dataset.Survived[dataset[\"Embarked\"] == \"C\"].value_counts()\n",
    "survived_q = dataset.Survived[dataset[\"Embarked\"] == \"Q\"].value_counts()\n",
    "\n",
    "print(survived_s)\n",
    "df = pd.DataFrame({\"S\": survived_s, \"C\": survived_c, \"Q\": survived_q})\n",
    "df.plot(kind = \"bar\", stacked = True)\n",
    "plt.title(\"survived by sex\")\n",
    "plt.xlabel(\"Embarked\")\n",
    "plt.ylabel(\"count\")\n",
    "plt.show()"
   ]
  },
  {
   "cell_type": "code",
   "execution_count": 40,
   "metadata": {},
   "outputs": [
    {
     "name": "stdout",
     "output_type": "stream",
     "text": [
      "(891, 5)\n",
      "     Pclass     Sex   Age      Fare Embarked\n",
      "0         3    male  22.0    7.2500        S\n",
      "1         1  female  38.0   71.2833        C\n",
      "2         3  female  26.0    7.9250        S\n",
      "3         1  female  35.0   53.1000        S\n",
      "4         3    male  35.0    8.0500        S\n",
      "5         3    male   NaN    8.4583        Q\n",
      "6         1    male  54.0   51.8625        S\n",
      "7         3    male   2.0   21.0750        S\n",
      "8         3  female  27.0   11.1333        S\n",
      "9         2  female  14.0   30.0708        C\n",
      "10        3  female   4.0   16.7000        S\n",
      "11        1  female  58.0   26.5500        S\n",
      "12        3    male  20.0    8.0500        S\n",
      "13        3    male  39.0   31.2750        S\n",
      "14        3  female  14.0    7.8542        S\n",
      "15        2  female  55.0   16.0000        S\n",
      "16        3    male   2.0   29.1250        Q\n",
      "17        2    male   NaN   13.0000        S\n",
      "18        3  female  31.0   18.0000        S\n",
      "19        3  female   NaN    7.2250        C\n",
      "20        2    male  35.0   26.0000        S\n",
      "21        2    male  34.0   13.0000        S\n",
      "22        3  female  15.0    8.0292        Q\n",
      "23        1    male  28.0   35.5000        S\n",
      "24        3  female   8.0   21.0750        S\n",
      "25        3  female  38.0   31.3875        S\n",
      "26        3    male   NaN    7.2250        C\n",
      "27        1    male  19.0  263.0000        S\n",
      "28        3  female   NaN    7.8792        Q\n",
      "29        3    male   NaN    7.8958        S\n",
      "..      ...     ...   ...       ...      ...\n",
      "861       2    male  21.0   11.5000        S\n",
      "862       1  female  48.0   25.9292        S\n",
      "863       3  female   NaN   69.5500        S\n",
      "864       2    male  24.0   13.0000        S\n",
      "865       2  female  42.0   13.0000        S\n",
      "866       2  female  27.0   13.8583        C\n",
      "867       1    male  31.0   50.4958        S\n",
      "868       3    male   NaN    9.5000        S\n",
      "869       3    male   4.0   11.1333        S\n",
      "870       3    male  26.0    7.8958        S\n",
      "871       1  female  47.0   52.5542        S\n",
      "872       1    male  33.0    5.0000        S\n",
      "873       3    male  47.0    9.0000        S\n",
      "874       2  female  28.0   24.0000        C\n",
      "875       3  female  15.0    7.2250        C\n",
      "876       3    male  20.0    9.8458        S\n",
      "877       3    male  19.0    7.8958        S\n",
      "878       3    male   NaN    7.8958        S\n",
      "879       1  female  56.0   83.1583        C\n",
      "880       2  female  25.0   26.0000        S\n",
      "881       3    male  33.0    7.8958        S\n",
      "882       3  female  22.0   10.5167        S\n",
      "883       2    male  28.0   10.5000        S\n",
      "884       3    male  25.0    7.0500        S\n",
      "885       3  female  39.0   29.1250        Q\n",
      "886       2    male  27.0   13.0000        S\n",
      "887       1  female  19.0   30.0000        S\n",
      "888       3  female   NaN   23.4500        S\n",
      "889       1    male  26.0   30.0000        C\n",
      "890       3    male  32.0    7.7500        Q\n",
      "\n",
      "[891 rows x 5 columns]\n"
     ]
    }
   ],
   "source": [
    "\n",
    "\n",
    "\n",
    "\n",
    "\n",
    "\n",
    "label    = dataset.loc[:, \"Survived\"]\n",
    "data     = dataset.loc[:, [\"Pclass\", \"Sex\", \"Age\", \"Fare\", \"Embarked\"]]\n",
    "testdata = testset.loc[:, [\"Pclass\", \"Sex\", \"Age\", \"Fare\", \"Embarked\"]]\n",
    "\n",
    "print(data.shape)\n",
    "print(data)"
   ]
  },
  {
   "cell_type": "code",
   "execution_count": 43,
   "metadata": {},
   "outputs": [
    {
     "name": "stdout",
     "output_type": "stream",
     "text": [
      "True\n",
      "False\n",
      "True\n",
      "False\n",
      "     Pclass     Sex   Age      Fare Embarked\n",
      "0         3    male  22.0    7.2500        S\n",
      "1         1  female  38.0   71.2833        C\n",
      "2         3  female  26.0    7.9250        S\n",
      "3         1  female  35.0   53.1000        S\n",
      "4         3    male  35.0    8.0500        S\n",
      "5         3    male  28.0    8.4583        Q\n",
      "6         1    male  54.0   51.8625        S\n",
      "7         3    male   2.0   21.0750        S\n",
      "8         3  female  27.0   11.1333        S\n",
      "9         2  female  14.0   30.0708        C\n",
      "10        3  female   4.0   16.7000        S\n",
      "11        1  female  58.0   26.5500        S\n",
      "12        3    male  20.0    8.0500        S\n",
      "13        3    male  39.0   31.2750        S\n",
      "14        3  female  14.0    7.8542        S\n",
      "15        2  female  55.0   16.0000        S\n",
      "16        3    male   2.0   29.1250        Q\n",
      "17        2    male  28.0   13.0000        S\n",
      "18        3  female  31.0   18.0000        S\n",
      "19        3  female  28.0    7.2250        C\n",
      "20        2    male  35.0   26.0000        S\n",
      "21        2    male  34.0   13.0000        S\n",
      "22        3  female  15.0    8.0292        Q\n",
      "23        1    male  28.0   35.5000        S\n",
      "24        3  female   8.0   21.0750        S\n",
      "25        3  female  38.0   31.3875        S\n",
      "26        3    male  28.0    7.2250        C\n",
      "27        1    male  19.0  263.0000        S\n",
      "28        3  female  28.0    7.8792        Q\n",
      "29        3    male  28.0    7.8958        S\n",
      "..      ...     ...   ...       ...      ...\n",
      "861       2    male  21.0   11.5000        S\n",
      "862       1  female  48.0   25.9292        S\n",
      "863       3  female  28.0   69.5500        S\n",
      "864       2    male  24.0   13.0000        S\n",
      "865       2  female  42.0   13.0000        S\n",
      "866       2  female  27.0   13.8583        C\n",
      "867       1    male  31.0   50.4958        S\n",
      "868       3    male  28.0    9.5000        S\n",
      "869       3    male   4.0   11.1333        S\n",
      "870       3    male  26.0    7.8958        S\n",
      "871       1  female  47.0   52.5542        S\n",
      "872       1    male  33.0    5.0000        S\n",
      "873       3    male  47.0    9.0000        S\n",
      "874       2  female  28.0   24.0000        C\n",
      "875       3  female  15.0    7.2250        C\n",
      "876       3    male  20.0    9.8458        S\n",
      "877       3    male  19.0    7.8958        S\n",
      "878       3    male  28.0    7.8958        S\n",
      "879       1  female  56.0   83.1583        C\n",
      "880       2  female  25.0   26.0000        S\n",
      "881       3    male  33.0    7.8958        S\n",
      "882       3  female  22.0   10.5167        S\n",
      "883       2    male  28.0   10.5000        S\n",
      "884       3    male  25.0    7.0500        S\n",
      "885       3  female  39.0   29.1250        Q\n",
      "886       2    male  27.0   13.0000        S\n",
      "887       1  female  19.0   30.0000        S\n",
      "888       3  female  28.0   23.4500        S\n",
      "889       1    male  26.0   30.0000        C\n",
      "890       3    male  32.0    7.7500        Q\n",
      "\n",
      "[891 rows x 5 columns]\n"
     ]
    }
   ],
   "source": [
    "def fillNan(data) :\n",
    "    dataCopy = data.copy( deep =True )\n",
    "    # ??? why the following cannot just say dataCopy[\"Age\"] =\n",
    "    dataCopy.loc[:, \"Age\"] = dataCopy[\"Age\"].fillna(dataCopy[\"Age\"].median())\n",
    "    dataCopy.loc[:, \"Fare\"]= dataCopy[\"Fare\"].fillna(dataCopy[\"Fare\"].median())\n",
    "    dataCopy.loc[:, \"Pclass\"]= dataCopy[\"Pclass\"].fillna(dataCopy[\"Pclass\"].median())\n",
    "    dataCopy.loc[:, \"Sex\"]= dataCopy[\"Sex\"].fillna(\"female\")\n",
    "    dataCopy.loc[:, \"Embarked\"]= dataCopy[\"Embarked\"].fillna(\"S\")\n",
    "    return dataCopy\n",
    "dataNoNan = fillNan(data)\n",
    "testDataNoNan = fillNan(testdata)\n",
    "\n",
    "print(data.isnull().values.any())\n",
    "print(dataNoNan.isnull().values.any())\n",
    "print(testdata.isnull().values.any())\n",
    "print(testDataNoNan.isnull().values.any())\n",
    "      \n",
    "print(dataNoNan)"
   ]
  },
  {
   "cell_type": "code",
   "execution_count": 44,
   "metadata": {},
   "outputs": [
    {
     "name": "stdout",
     "output_type": "stream",
     "text": [
      "False\n"
     ]
    }
   ],
   "source": [
    "print(dataNoNan[\"Sex\"].isnull().values.any())"
   ]
  },
  {
   "cell_type": "code",
   "execution_count": 51,
   "metadata": {},
   "outputs": [
    {
     "name": "stdout",
     "output_type": "stream",
     "text": [
      "     Pclass  Sex   Age      Fare Embarked\n",
      "0         3    1  34.5    7.8292        Q\n",
      "1         3    0  47.0    7.0000        S\n",
      "2         2    1  62.0    9.6875        Q\n",
      "3         3    1  27.0    8.6625        S\n",
      "4         3    0  22.0   12.2875        S\n",
      "5         3    1  14.0    9.2250        S\n",
      "6         3    0  30.0    7.6292        Q\n",
      "7         2    1  26.0   29.0000        S\n",
      "8         3    0  18.0    7.2292        C\n",
      "9         3    1  21.0   24.1500        S\n",
      "10        3    1  27.0    7.8958        S\n",
      "11        1    1  46.0   26.0000        S\n",
      "12        1    0  23.0   82.2667        S\n",
      "13        2    1  63.0   26.0000        S\n",
      "14        1    0  47.0   61.1750        S\n",
      "15        2    0  24.0   27.7208        C\n",
      "16        2    1  35.0   12.3500        Q\n",
      "17        3    1  21.0    7.2250        C\n",
      "18        3    0  27.0    7.9250        S\n",
      "19        3    0  45.0    7.2250        C\n",
      "20        1    1  55.0   59.4000        C\n",
      "21        3    1   9.0    3.1708        S\n",
      "22        1    0  27.0   31.6833        S\n",
      "23        1    1  21.0   61.3792        C\n",
      "24        1    0  48.0  262.3750        C\n",
      "25        3    1  50.0   14.5000        S\n",
      "26        1    0  22.0   61.9792        C\n",
      "27        3    1  22.5    7.2250        C\n",
      "28        1    1  41.0   30.5000        S\n",
      "29        3    1  27.0   21.6792        C\n",
      "..      ...  ...   ...       ...      ...\n",
      "388       3    1  21.0    7.7500        Q\n",
      "389       3    1   6.0   21.0750        S\n",
      "390       1    1  23.0   93.5000        S\n",
      "391       1    0  51.0   39.4000        S\n",
      "392       3    1  13.0   20.2500        S\n",
      "393       2    1  47.0   10.5000        S\n",
      "394       3    1  29.0   22.0250        S\n",
      "395       1    0  18.0   60.0000        S\n",
      "396       3    1  24.0    7.2500        Q\n",
      "397       1    0  48.0   79.2000        C\n",
      "398       3    1  22.0    7.7750        S\n",
      "399       3    1  31.0    7.7333        Q\n",
      "400       1    0  30.0  164.8667        S\n",
      "401       2    1  38.0   21.0000        S\n",
      "402       1    0  22.0   59.4000        C\n",
      "403       1    1  17.0   47.1000        S\n",
      "404       1    1  43.0   27.7208        C\n",
      "405       2    1  20.0   13.8625        C\n",
      "406       2    1  23.0   10.5000        S\n",
      "407       1    1  50.0  211.5000        C\n",
      "408       3    0  27.0    7.7208        Q\n",
      "409       3    0   3.0   13.7750        S\n",
      "410       3    0  27.0    7.7500        Q\n",
      "411       1    0  37.0   90.0000        Q\n",
      "412       3    0  28.0    7.7750        S\n",
      "413       3    1  27.0    8.0500        S\n",
      "414       1    0  39.0  108.9000        C\n",
      "415       3    1  38.5    7.2500        S\n",
      "416       3    1  27.0    8.0500        S\n",
      "417       3    1  27.0   22.3583        C\n",
      "\n",
      "[418 rows x 5 columns]\n"
     ]
    }
   ],
   "source": [
    "def transferSex(data):\n",
    "    dataCopy = data.copy(deep=True)\n",
    "    dataCopy.loc[dataCopy[\"Sex\"] == \"female\", \"Sex\"] = 0\n",
    "    dataCopy.loc[dataCopy[\"Sex\"] == \"male\", \"Sex\"]   = 1\n",
    "    return dataCopy\n",
    "dataAfterTransfer = transferSex(dataNoNan)\n",
    "testdataAfterTransfer = transferSex(testDataNoNan)\n",
    "print(testdataAfterTransfer)"
   ]
  },
  {
   "cell_type": "code",
   "execution_count": 52,
   "metadata": {},
   "outputs": [
    {
     "name": "stdout",
     "output_type": "stream",
     "text": [
      "     Pclass  Sex   Age      Fare  Embarked\n",
      "0         3    1  34.5    7.8292         2\n",
      "1         3    0  47.0    7.0000         0\n",
      "2         2    1  62.0    9.6875         2\n",
      "3         3    1  27.0    8.6625         0\n",
      "4         3    0  22.0   12.2875         0\n",
      "5         3    1  14.0    9.2250         0\n",
      "6         3    0  30.0    7.6292         2\n",
      "7         2    1  26.0   29.0000         0\n",
      "8         3    0  18.0    7.2292         1\n",
      "9         3    1  21.0   24.1500         0\n",
      "10        3    1  27.0    7.8958         0\n",
      "11        1    1  46.0   26.0000         0\n",
      "12        1    0  23.0   82.2667         0\n",
      "13        2    1  63.0   26.0000         0\n",
      "14        1    0  47.0   61.1750         0\n",
      "15        2    0  24.0   27.7208         1\n",
      "16        2    1  35.0   12.3500         2\n",
      "17        3    1  21.0    7.2250         1\n",
      "18        3    0  27.0    7.9250         0\n",
      "19        3    0  45.0    7.2250         1\n",
      "20        1    1  55.0   59.4000         1\n",
      "21        3    1   9.0    3.1708         0\n",
      "22        1    0  27.0   31.6833         0\n",
      "23        1    1  21.0   61.3792         1\n",
      "24        1    0  48.0  262.3750         1\n",
      "25        3    1  50.0   14.5000         0\n",
      "26        1    0  22.0   61.9792         1\n",
      "27        3    1  22.5    7.2250         1\n",
      "28        1    1  41.0   30.5000         0\n",
      "29        3    1  27.0   21.6792         1\n",
      "..      ...  ...   ...       ...       ...\n",
      "388       3    1  21.0    7.7500         2\n",
      "389       3    1   6.0   21.0750         0\n",
      "390       1    1  23.0   93.5000         0\n",
      "391       1    0  51.0   39.4000         0\n",
      "392       3    1  13.0   20.2500         0\n",
      "393       2    1  47.0   10.5000         0\n",
      "394       3    1  29.0   22.0250         0\n",
      "395       1    0  18.0   60.0000         0\n",
      "396       3    1  24.0    7.2500         2\n",
      "397       1    0  48.0   79.2000         1\n",
      "398       3    1  22.0    7.7750         0\n",
      "399       3    1  31.0    7.7333         2\n",
      "400       1    0  30.0  164.8667         0\n",
      "401       2    1  38.0   21.0000         0\n",
      "402       1    0  22.0   59.4000         1\n",
      "403       1    1  17.0   47.1000         0\n",
      "404       1    1  43.0   27.7208         1\n",
      "405       2    1  20.0   13.8625         1\n",
      "406       2    1  23.0   10.5000         0\n",
      "407       1    1  50.0  211.5000         1\n",
      "408       3    0  27.0    7.7208         2\n",
      "409       3    0   3.0   13.7750         0\n",
      "410       3    0  27.0    7.7500         2\n",
      "411       1    0  37.0   90.0000         2\n",
      "412       3    0  28.0    7.7750         0\n",
      "413       3    1  27.0    8.0500         0\n",
      "414       1    0  39.0  108.9000         1\n",
      "415       3    1  38.5    7.2500         0\n",
      "416       3    1  27.0    8.0500         0\n",
      "417       3    1  27.0   22.3583         1\n",
      "\n",
      "[418 rows x 5 columns]\n"
     ]
    }
   ],
   "source": [
    "def transfer_embark(data):\n",
    "    data_copy = data.copy(deep=True)\n",
    "    data_copy.loc[data_copy['Embarked'] == 'S', 'Embarked'] = 0\n",
    "    data_copy.loc[data_copy['Embarked'] == 'C', 'Embarked'] = 1\n",
    "    data_copy.loc[data_copy['Embarked'] == 'Q', 'Embarked'] = 2\n",
    "    return data_copy\n",
    "\n",
    "data_after_embarked = transfer_embark(dataAfterTransfer)\n",
    "testdat_after_embarked = transfer_embark(testdataAfterTransfer)\n",
    "print(testdat_after_embarked)"
   ]
  },
  {
   "cell_type": "code",
   "execution_count": 54,
   "metadata": {},
   "outputs": [
    {
     "name": "stderr",
     "output_type": "stream",
     "text": [
      "/anaconda3/lib/python3.6/site-packages/sklearn/model_selection/_split.py:2026: FutureWarning: From version 0.21, test_size will always complement train_size unless both are specified.\n",
      "  FutureWarning)\n"
     ]
    }
   ],
   "source": [
    "data_now = data_after_embarked\n",
    "testdat_now = testdat_after_embarked\n",
    "from sklearn.model_selection import train_test_split\n",
    "\n",
    "train_data, test_data, train_labels, test_labels = train_test_split(data_now, label,random_state = 0, train_size = 0.8)"
   ]
  },
  {
   "cell_type": "code",
   "execution_count": 55,
   "metadata": {},
   "outputs": [
    {
     "name": "stdout",
     "output_type": "stream",
     "text": [
      "(712, 5) (179, 5) (712,) (179,)\n"
     ]
    }
   ],
   "source": [
    "print( train_data.shape, test_data.shape, train_labels.shape, test_labels.shape)"
   ]
  },
  {
   "cell_type": "code",
   "execution_count": 59,
   "metadata": {},
   "outputs": [
    {
     "data": {
      "text/plain": [
       "KNeighborsClassifier(algorithm='auto', leaf_size=30, metric='minkowski',\n",
       "           metric_params=None, n_jobs=1, n_neighbors=5, p=2,\n",
       "           weights='uniform')"
      ]
     },
     "execution_count": 59,
     "metadata": {},
     "output_type": "execute_result"
    }
   ],
   "source": [
    "from sklearn.neighbors import KNeighborsClassifier\n",
    "clf = KNeighborsClassifier(n_neighbors = 5)\n",
    "clf.fit(data_now, label)"
   ]
  },
  {
   "cell_type": "code",
   "execution_count": 60,
   "metadata": {},
   "outputs": [],
   "source": [
    "predictions = clf.predict(test_data)"
   ]
  },
  {
   "cell_type": "code",
   "execution_count": 64,
   "metadata": {},
   "outputs": [
    {
     "name": "stdout",
     "output_type": "stream",
     "text": [
      "0.8324022346368715\n",
      "             precision    recall  f1-score   support\n",
      "\n",
      "          0       0.84      0.90      0.87       110\n",
      "          1       0.82      0.72      0.77        69\n",
      "\n",
      "avg / total       0.83      0.83      0.83       179\n",
      "\n",
      "[[99 11]\n",
      " [19 50]]\n"
     ]
    }
   ],
   "source": [
    "from sklearn.metrics import accuracy_score, classification_report, confusion_matrix\n",
    "\n",
    "print(accuracy_score(test_labels, predictions))\n",
    "print(classification_report(test_labels, predictions))\n",
    "print(confusion_matrix(test_labels, predictions))"
   ]
  },
  {
   "cell_type": "code",
   "execution_count": null,
   "metadata": {},
   "outputs": [],
   "source": []
  }
 ],
 "metadata": {
  "kernelspec": {
   "display_name": "Python 3",
   "language": "python",
   "name": "python3"
  },
  "language_info": {
   "codemirror_mode": {
    "name": "ipython",
    "version": 3
   },
   "file_extension": ".py",
   "mimetype": "text/x-python",
   "name": "python",
   "nbconvert_exporter": "python",
   "pygments_lexer": "ipython3",
   "version": "3.6.4"
  }
 },
 "nbformat": 4,
 "nbformat_minor": 2
}

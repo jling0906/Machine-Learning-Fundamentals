{
 "cells": [
  {
   "cell_type": "code",
   "execution_count": 1,
   "metadata": {},
   "outputs": [
    {
     "name": "stderr",
     "output_type": "stream",
     "text": [
      "/anaconda3/lib/python3.6/importlib/_bootstrap.py:219: RuntimeWarning: numpy.dtype size changed, may indicate binary incompatibility. Expected 96, got 88\n",
      "  return f(*args, **kwds)\n"
     ]
    }
   ],
   "source": [
    "import matplotlib.pyplot as plt\n",
    "from sklearn import datasets, metrics\n",
    "from sklearn.linear_model import LogisticRegression"
   ]
  },
  {
   "cell_type": "code",
   "execution_count": 3,
   "metadata": {},
   "outputs": [],
   "source": [
    "digits = datasets.load_digits()"
   ]
  },
  {
   "cell_type": "code",
   "execution_count": 8,
   "metadata": {},
   "outputs": [
    {
     "data": {
      "text/plain": [
       "[(array([[ 0.,  0.,  5., 13.,  9.,  1.,  0.,  0.],\n",
       "         [ 0.,  0., 13., 15., 10., 15.,  5.,  0.],\n",
       "         [ 0.,  3., 15.,  2.,  0., 11.,  8.,  0.],\n",
       "         [ 0.,  4., 12.,  0.,  0.,  8.,  8.,  0.],\n",
       "         [ 0.,  5.,  8.,  0.,  0.,  9.,  8.,  0.],\n",
       "         [ 0.,  4., 11.,  0.,  1., 12.,  7.,  0.],\n",
       "         [ 0.,  2., 14.,  5., 10., 12.,  0.,  0.],\n",
       "         [ 0.,  0.,  6., 13., 10.,  0.,  0.,  0.]]), 0)]"
      ]
     },
     "execution_count": 8,
     "metadata": {},
     "output_type": "execute_result"
    }
   ],
   "source": [
    "samples = list(zip(digits.images, digits.target))\n",
    "samples[:1]"
   ]
  },
  {
   "cell_type": "code",
   "execution_count": 11,
   "metadata": {},
   "outputs": [
    {
     "data": {
      "image/png": "[encoded data removed]",
      "text/plain": [
       "<matplotlib.figure.Figure at 0x10c6feb00>"
      ]
     },
     "metadata": {},
     "output_type": "display_data"
    }
   ],
   "source": [
    "for id, (img, label) in enumerate(samples[:4]):\n",
    "    plt.subplot(2, 2, id + 1)  # the index has to be greater than 0\n",
    "    #plt.axis(\"off\")\n",
    "    plt.imshow(img, cmap = plt.cm.Greys_r, interpolation=\"nearest\")\n",
    "    #plt.title(\"Label: %i\" % label)"
   ]
  },
  {
   "cell_type": "markdown",
   "metadata": {},
   "source": [
    "#start to prepare data for model"
   ]
  },
  {
   "cell_type": "code",
   "execution_count": 15,
   "metadata": {},
   "outputs": [
    {
     "data": {
      "text/plain": [
       "1797"
      ]
     },
     "execution_count": 15,
     "metadata": {},
     "output_type": "execute_result"
    }
   ],
   "source": [
    "n = len(digits.images)\n",
    "n"
   ]
  },
  {
   "cell_type": "code",
   "execution_count": 16,
   "metadata": {},
   "outputs": [
    {
     "data": {
      "text/plain": [
       "(1797, 8, 8)"
      ]
     },
     "execution_count": 16,
     "metadata": {},
     "output_type": "execute_result"
    }
   ],
   "source": [
    "digits.images.shape"
   ]
  },
  {
   "cell_type": "code",
   "execution_count": 17,
   "metadata": {},
   "outputs": [],
   "source": [
    "data = digits.images.reshape(n, -1) # flatten from 3d to 2d"
   ]
  },
  {
   "cell_type": "code",
   "execution_count": 18,
   "metadata": {},
   "outputs": [],
   "source": [
    "model = LogisticRegression(C = 1e5)"
   ]
  },
  {
   "cell_type": "code",
   "execution_count": 20,
   "metadata": {},
   "outputs": [
    {
     "data": {
      "text/plain": [
       "LogisticRegression(C=100000.0, class_weight=None, dual=False,\n",
       "          fit_intercept=True, intercept_scaling=1, max_iter=100,\n",
       "          multi_class='ovr', n_jobs=1, penalty='l2', random_state=None,\n",
       "          solver='liblinear', tol=0.0001, verbose=0, warm_start=False)"
      ]
     },
     "execution_count": 20,
     "metadata": {},
     "output_type": "execute_result"
    }
   ],
   "source": [
    "model.fit(data[:n//2], digits.target[:n//2])"
   ]
  },
  {
   "cell_type": "code",
   "execution_count": 21,
   "metadata": {},
   "outputs": [],
   "source": [
    "answer = digits.target[n//2:]\n",
    "pred = model.predict(data[n//2:])"
   ]
  },
  {
   "cell_type": "code",
   "execution_count": 22,
   "metadata": {},
   "outputs": [
    {
     "data": {
      "text/plain": [
       "array([[84,  0,  0,  0,  1,  1,  2,  0,  0,  0],\n",
       "       [ 1, 76,  2,  2,  0,  0,  0,  0,  8,  2],\n",
       "       [ 1,  0, 85,  0,  0,  0,  0,  0,  0,  0],\n",
       "       [ 0,  1,  0, 76,  0,  7,  0,  2,  3,  2],\n",
       "       [ 1,  2,  0,  0, 85,  0,  1,  0,  2,  1],\n",
       "       [ 0,  2,  0,  0,  0, 83,  2,  0,  0,  4],\n",
       "       [ 0,  0,  1,  0,  0,  0, 90,  0,  0,  0],\n",
       "       [ 0,  1,  0,  0,  0,  5,  0, 79,  1,  3],\n",
       "       [ 0,  6,  7,  3,  3,  3,  1,  1, 61,  3],\n",
       "       [ 2,  3,  0,  1,  0,  0,  0,  0,  1, 85]])"
      ]
     },
     "execution_count": 22,
     "metadata": {},
     "output_type": "execute_result"
    }
   ],
   "source": [
    "metrics.confusion_matrix(answer, pred)"
   ]
  },
  {
   "cell_type": "code",
   "execution_count": 34,
   "metadata": {},
   "outputs": [
    {
     "data": {
      "image/png": "[encoded data removed]",
      "text/plain": [
       "<matplotlib.figure.Figure at 0x1a195c46a0>"
      ]
     },
     "metadata": {},
     "output_type": "display_data"
    }
   ],
   "source": [
    "result = list(zip(digits.images[n//2:], digits.target[n//2:], pred))\n",
    "for id, (image, target, label) in enumerate(result[:4]):\n",
    "    plt.subplot(1, 4, id + 1)\n",
    "    plt.axis(\"off\")\n",
    "    plt.imshow(image, cmap=plt.cm.gray_r, interpolation=\"nearest\")\n",
    "    plt.title(\"Predict: %i \\nTarget: %i\" % (label, target))"
   ]
  }
 ],
 "metadata": {
  "kernelspec": {
   "display_name": "Python 3",
   "language": "python",
   "name": "python3"
  },
  "language_info": {
   "codemirror_mode": {
    "name": "ipython",
    "version": 3
   },
   "file_extension": ".py",
   "mimetype": "text/x-python",
   "name": "python",
   "nbconvert_exporter": "python",
   "pygments_lexer": "ipython3",
   "version": "3.6.4"
  }
 },
 "nbformat": 4,
 "nbformat_minor": 2
}

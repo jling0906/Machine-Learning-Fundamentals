{
 "cells": [
  {
   "cell_type": "markdown",
   "metadata": {
    "_cell_guid": "2f7f172a-71b3-41ac-9943-8115d19c2d28",
    "_uuid": "9c0c9255fa1c402808047b42de00e643bc9e149f",
    "collapsed": true
   },
   "source": [
    "# Linear Regression预测房价"
   ]
  },
  {
   "cell_type": "code",
   "execution_count": 2,
   "metadata": {
    "_cell_guid": "74b1305d-9eb4-4cc7-afa4-4548c1a70d1b",
    "_uuid": "4d25f08838b8863917838261c9cbd9923d9649ee"
   },
   "outputs": [],
   "source": [
    "import numpy as np # 数组常用库\n",
    "import pandas as pd # 读入csv常用库\n",
    "from sklearn.linear_model import LinearRegression # sk-learn库Linear Regression模型\n",
    "from sklearn.model_selection import train_test_split # sk-learn库训练与测试\n",
    "from sklearn import metrics # 生成各项测试指标库\n",
    "import matplotlib.pyplot as plt # 画图常用库\n",
    "import math #数学库"
   ]
  },
  {
   "cell_type": "markdown",
   "metadata": {
    "_cell_guid": "f699b00d-0157-4403-8ed3-94a9b85304c3",
    "_uuid": "138c18c2d2bfccbe7cc2d4ce3001805ce63efd44"
   },
   "source": [
    "从../input/kc_house_data.csv文件中读入数据"
   ]
  },
  {
   "cell_type": "code",
   "execution_count": 3,
   "metadata": {
    "_cell_guid": "237c1253-d8c7-43d6-82ef-d741328a8d5c",
    "_uuid": "bff61fa62c1f949cd99fcbc44c7c7fd99e12129a"
   },
   "outputs": [],
   "source": [
    "data = pd.read_csv(\"./data/kc_house_data.csv\")"
   ]
  },
  {
   "cell_type": "code",
   "execution_count": 4,
   "metadata": {
    "_cell_guid": "8e284bb7-6f24-4bc4-8a62-ca1a3f8df832",
    "_uuid": "05cd9a3df485d07778241eafafb6e89583d9b44f",
    "scrolled": true
   },
   "outputs": [
    {
     "data": {
      "text/plain": [
       "id                 int64\n",
       "date              object\n",
       "price            float64\n",
       "bedrooms           int64\n",
       "bathrooms        float64\n",
       "sqft_living        int64\n",
       "sqft_lot           int64\n",
       "floors           float64\n",
       "waterfront         int64\n",
       "view               int64\n",
       "condition          int64\n",
       "grade              int64\n",
       "sqft_above         int64\n",
       "sqft_basement      int64\n",
       "yr_built           int64\n",
       "yr_renovated       int64\n",
       "zipcode            int64\n",
       "lat              float64\n",
       "long             float64\n",
       "sqft_living15      int64\n",
       "sqft_lot15         int64\n",
       "dtype: object"
      ]
     },
     "execution_count": 4,
     "metadata": {},
     "output_type": "execute_result"
    }
   ],
   "source": [
    "data.dtypes"
   ]
  },
  {
   "cell_type": "markdown",
   "metadata": {
    "_cell_guid": "65d09935-a44d-4b1f-80c9-7d8327a7395b",
    "_uuid": "d300869c0f4ef69258cce03f90a0a8fbce28c442"
   },
   "source": [
    "获得自变量X和因变量Y"
   ]
  },
  {
   "cell_type": "code",
   "execution_count": 5,
   "metadata": {
    "_cell_guid": "85ca7a52-e682-4136-bc61-2bde296f9b69",
    "_uuid": "4d9154cedf1d04ecedea398d4c73d288956e4808"
   },
   "outputs": [],
   "source": [
    "X = data[['bedrooms','bathrooms','sqft_living','floors']]\n",
    "Y = data['price']"
   ]
  },
  {
   "cell_type": "markdown",
   "metadata": {
    "_cell_guid": "dc1db01e-e23b-4715-ac23-a21892a07a9e",
    "_uuid": "a608cf4cbf1bda687e4d48c8156feea8e02af107"
   },
   "source": [
    "获得2:1的训练：测试数据比例"
   ]
  },
  {
   "cell_type": "code",
   "execution_count": 6,
   "metadata": {
    "_cell_guid": "1fbdf9f8-e98a-40a7-aab7-5ff481827f71",
    "_uuid": "ab04a260c7d86e165bd229868729848b21be78a3",
    "scrolled": false
   },
   "outputs": [],
   "source": [
    "xtrain, xtest, ytrain, ytest = train_test_split(X, Y, test_size = 0.33, random_state = 0)"
   ]
  },
  {
   "cell_type": "code",
   "execution_count": 7,
   "metadata": {
    "_cell_guid": "be679c9c-1400-42f4-bc7e-ff86c27ad301",
    "_uuid": "29fd7f170c1ad43832ab0cb68069ce559088916d"
   },
   "outputs": [],
   "source": [
    "xtrain = np.asmatrix(xtrain)\n",
    "xtest = np.asmatrix(xtest)\n",
    "ytrain = np.ravel(ytrain)\n",
    "ytest = np.ravel(ytest)"
   ]
  },
  {
   "cell_type": "markdown",
   "metadata": {
    "_cell_guid": "a4083143-aec5-4488-8349-39f7d360731e",
    "_uuid": "ae4e985db257621887f1038f38afb217ce5d62b9"
   },
   "source": [
    "观察房价和生活面积的关系"
   ]
  },
  {
   "cell_type": "code",
   "execution_count": 8,
   "metadata": {
    "_cell_guid": "1962b6d8-1454-4116-8819-a4dfd00c5901",
    "_uuid": "d051c3b3be23ea2d5cd7cdfffc315d064fdb475c"
   },
   "outputs": [
    {
     "data": {
      "text/plain": [
       "<matplotlib.collections.PathCollection at 0x10ce305c0>"
      ]
     },
     "execution_count": 8,
     "metadata": {},
     "output_type": "execute_result"
    },
    {
     "data": {
      "image/png": "[encoded data removed]",
      "text/plain": [
       "<matplotlib.figure.Figure at 0x1a14515da0>"
      ]
     },
     "metadata": {},
     "output_type": "display_data"
    }
   ],
   "source": [
    "plt.scatter(X[\"sqft_living\"], Y)"
   ]
  },
  {
   "cell_type": "markdown",
   "metadata": {
    "_cell_guid": "2d80aaba-c270-4f24-af87-30f9136bdce0",
    "_uuid": "e39a6602d3e36e5e247b973f578c0c163d1caa84"
   },
   "source": [
    "观察生活面积分布"
   ]
  },
  {
   "cell_type": "code",
   "execution_count": 10,
   "metadata": {
    "_cell_guid": "26fa1fb9-746e-4b40-ab33-52537dd8bf5d",
    "_uuid": "1bbfe8fbd820e319c9b04b16ff444586a183ae17",
    "scrolled": true
   },
   "outputs": [
    {
     "data": {
      "text/plain": [
       "<matplotlib.axes._subplots.AxesSubplot at 0x1a14b79eb8>"
      ]
     },
     "execution_count": 10,
     "metadata": {},
     "output_type": "execute_result"
    },
    {
     "data": {
      "image/png": "[encoded data removed]",
      "text/plain": [
       "<matplotlib.figure.Figure at 0x1a14b79860>"
      ]
     },
     "metadata": {},
     "output_type": "display_data"
    }
   ],
   "source": [
    "X[\"sqft_living\"].hist()"
   ]
  },
  {
   "cell_type": "markdown",
   "metadata": {
    "_cell_guid": "d4dc52ed-98eb-4e20-b974-704fcdfcadc8",
    "_uuid": "5acd3fbbda47807ddb59b8c0c095211211e49554"
   },
   "source": [
    "用xtrain和ytrain训练模型"
   ]
  },
  {
   "cell_type": "code",
   "execution_count": 11,
   "metadata": {
    "_cell_guid": "9be4235a-f09a-4026-a974-0fb4a5115ad7",
    "_uuid": "65ffc35476ed099999b85ae0f7e6d55db5659149"
   },
   "outputs": [
    {
     "data": {
      "text/plain": [
       "LinearRegression(copy_X=True, fit_intercept=True, n_jobs=1, normalize=False)"
      ]
     },
     "execution_count": 11,
     "metadata": {},
     "output_type": "execute_result"
    }
   ],
   "source": [
    "model = LinearRegression()\n",
    "model.fit(xtrain, ytrain)"
   ]
  },
  {
   "cell_type": "code",
   "execution_count": 12,
   "metadata": {
    "_cell_guid": "172b5642-8908-4b83-89d0-e0d3c94257c9",
    "_uuid": "db01009744ee0c581d5b89178e733ce2f44e4d2d",
    "scrolled": true
   },
   "outputs": [
    {
     "data": {
      "text/html": [
       "<div>\n",
       "<style scoped>\n",
       "    .dataframe tbody tr th:only-of-type {\n",
       "        vertical-align: middle;\n",
       "    }\n",
       "\n",
       "    .dataframe tbody tr th {\n",
       "        vertical-align: top;\n",
       "    }\n",
       "\n",
       "    .dataframe thead th {\n",
       "        text-align: right;\n",
       "    }\n",
       "</style>\n",
       "<table border=\"1\" class=\"dataframe\">\n",
       "  <thead>\n",
       "    <tr style=\"text-align: right;\">\n",
       "      <th></th>\n",
       "      <th>0</th>\n",
       "      <th>1</th>\n",
       "    </tr>\n",
       "  </thead>\n",
       "  <tbody>\n",
       "    <tr>\n",
       "      <th>0</th>\n",
       "      <td>bedrooms</td>\n",
       "      <td>-50922.843332</td>\n",
       "    </tr>\n",
       "    <tr>\n",
       "      <th>1</th>\n",
       "      <td>bathrooms</td>\n",
       "      <td>3528.470832</td>\n",
       "    </tr>\n",
       "    <tr>\n",
       "      <th>2</th>\n",
       "      <td>sqft_living</td>\n",
       "      <td>300.531965</td>\n",
       "    </tr>\n",
       "    <tr>\n",
       "      <th>3</th>\n",
       "      <td>floors</td>\n",
       "      <td>5917.950285</td>\n",
       "    </tr>\n",
       "  </tbody>\n",
       "</table>\n",
       "</div>"
      ],
      "text/plain": [
       "             0             1\n",
       "0     bedrooms -50922.843332\n",
       "1    bathrooms   3528.470832\n",
       "2  sqft_living    300.531965\n",
       "3       floors   5917.950285"
      ]
     },
     "execution_count": 12,
     "metadata": {},
     "output_type": "execute_result"
    }
   ],
   "source": [
    "pd.DataFrame(list(zip(X.columns, np.transpose(model.coef_))))"
   ]
  },
  {
   "cell_type": "code",
   "execution_count": 13,
   "metadata": {
    "_cell_guid": "f6ff9e13-d80c-450b-a20c-0ec5875726bf",
    "_uuid": "499790a2445acd48c5bd6b1e16364e92a3a7314c"
   },
   "outputs": [
    {
     "data": {
      "text/plain": [
       "70434.630788151"
      ]
     },
     "execution_count": 13,
     "metadata": {},
     "output_type": "execute_result"
    }
   ],
   "source": [
    "model.intercept_"
   ]
  },
  {
   "cell_type": "code",
   "execution_count": 15,
   "metadata": {
    "_cell_guid": "39373d3d-2133-4a6f-a85d-8b261dbfb508",
    "_uuid": "e41d3e18205275e337b76b5de54c5a688be8b696"
   },
   "outputs": [
    {
     "data": {
      "text/plain": [
       "array([687888.85672979])"
      ]
     },
     "execution_count": 15,
     "metadata": {},
     "output_type": "execute_result"
    }
   ],
   "source": [
    "#一个房子，3个卧室，2个卫生间，2500sqft，2层楼，预测房价\n",
    "model.predict([[3,2,2500,2]])"
   ]
  },
  {
   "cell_type": "markdown",
   "metadata": {
    "_cell_guid": "6b55a2a7-b495-4729-8f07-c359cf56fb76",
    "_uuid": "d84535fd4141640ce4f11f9f1559320e99c069f9"
   },
   "source": [
    "训练集上的均方差MSE"
   ]
  },
  {
   "cell_type": "code",
   "execution_count": 19,
   "metadata": {
    "_cell_guid": "148b24eb-c87a-432a-99ce-a3d79ca399d3",
    "_uuid": "dc3993bd306f25d6263115067caea894731c95df"
   },
   "outputs": [
    {
     "data": {
      "text/plain": [
       "64861227762.77785"
      ]
     },
     "execution_count": 19,
     "metadata": {},
     "output_type": "execute_result"
    }
   ],
   "source": [
    "pred = model.predict(xtrain)\n",
    "((ytrain-pred)*(ytrain-pred)).sum()/len(pred)"
   ]
  },
  {
   "cell_type": "markdown",
   "metadata": {
    "_cell_guid": "7ab9c7f8-71fa-4602-8e16-d9e34d6d5fec",
    "_uuid": "e577d6f84260c1fd3c511ec13600abad94967a6b"
   },
   "source": [
    "平均相对误差"
   ]
  },
  {
   "cell_type": "code",
   "execution_count": 22,
   "metadata": {
    "_cell_guid": "4246fa69-e8de-45b8-a727-efa34e0ae325",
    "_uuid": "619172b327b172d3fb5218d649007bf79ba02480"
   },
   "outputs": [
    {
     "data": {
      "text/plain": [
       "0.3503162107753697"
      ]
     },
     "execution_count": 22,
     "metadata": {},
     "output_type": "execute_result"
    }
   ],
   "source": [
    "(abs(pred-ytrain)/ytrain).sum()/len(pred)"
   ]
  },
  {
   "cell_type": "markdown",
   "metadata": {
    "_cell_guid": "1ca7d8a4-03c2-4af4-8211-986cf3fbdbef",
    "_uuid": "33cf28a54b0133930bccbf11356c4d52c88016d6"
   },
   "source": [
    "训练集合上的MSE"
   ]
  },
  {
   "cell_type": "code",
   "execution_count": null,
   "metadata": {
    "_cell_guid": "bcaa8453-f773-40d2-bb51-a8eac207c82d",
    "_uuid": "f83d0b685501f0ec5bc3afad9b7555243c59c89d",
    "collapsed": true
   },
   "outputs": [],
   "source": [
    "predtest = model.predict(xtest)\n",
    "((predtest-ytest)*(predtest-ytest)).sum() / len(ytest)"
   ]
  },
  {
   "cell_type": "code",
   "execution_count": null,
   "metadata": {
    "_cell_guid": "67472dc8-5694-4aca-905d-b15ae67e4891",
    "_uuid": "2900836dbf4c82dee650e5dc8158135492f869f8",
    "collapsed": true
   },
   "outputs": [],
   "source": [
    "(abs(predtest-ytest)/ytest).sum() / len(ytest)"
   ]
  }
 ],
 "metadata": {
  "kernelspec": {
   "display_name": "Python 3",
   "language": "python",
   "name": "python3"
  },
  "language_info": {
   "codemirror_mode": {
    "name": "ipython",
    "version": 3
   },
   "file_extension": ".py",
   "mimetype": "text/x-python",
   "name": "python",
   "nbconvert_exporter": "python",
   "pygments_lexer": "ipython3",
   "version": "3.6.4"
  }
 },
 "nbformat": 4,
 "nbformat_minor": 1
}

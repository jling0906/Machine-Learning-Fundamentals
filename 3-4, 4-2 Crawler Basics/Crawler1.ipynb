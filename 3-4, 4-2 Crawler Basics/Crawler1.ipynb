{
 "cells": [
  {
   "cell_type": "code",
   "execution_count": 1,
   "metadata": {
    "collapsed": true
   },
   "outputs": [],
   "source": [
    "import requests"
   ]
  },
  {
   "cell_type": "markdown",
   "metadata": {},
   "source": [
    "a basic request using requests.get(url)"
   ]
  },
  {
   "cell_type": "code",
   "execution_count": 9,
   "metadata": {
    "collapsed": true
   },
   "outputs": [],
   "source": [
    "response = requests.get(\"https://www.jiuzhang.com\")"
   ]
  },
  {
   "cell_type": "code",
   "execution_count": 3,
   "metadata": {
    "collapsed": false
   },
   "outputs": [
    {
     "name": "stdout",
     "output_type": "stream",
     "text": [
      "<class 'requests.models.Response'>\n"
     ]
    }
   ],
   "source": [
    "print(type(response))"
   ]
  },
  {
   "cell_type": "code",
   "execution_count": 4,
   "metadata": {
    "collapsed": false
   },
   "outputs": [
    {
     "name": "stdout",
     "output_type": "stream",
     "text": [
      "200\n"
     ]
    }
   ],
   "source": [
    "print(response.status_code)"
   ]
  },
  {
   "cell_type": "code",
   "execution_count": 5,
   "metadata": {
    "collapsed": false
   },
   "outputs": [
    {
     "name": "stdout",
     "output_type": "stream",
     "text": [
      "utf-8\n"
     ]
    }
   ],
   "source": [
    "print(response.encoding)"
   ]
  },
  {
   "cell_type": "code",
   "execution_count": 7,
   "metadata": {
    "collapsed": false
   },
   "outputs": [
    {
     "name": "stdout",
     "output_type": "stream",
     "text": [
      "<!DOCTYPE html>\n",
      "<html>\n",
      "<head>\n",
      "<meta charset=\"utf-8\"/>\n",
      "<meta http-equiv=\"content-type\" content=\"text/html;charset=UTF-8\"/>\n",
      "<meta name=\"viewport\" content=\"width=device-width, initial-scale=1.0, maximum-scale=1.0, user-scalable=no\"/>\n",
      "<meta name=\"apple-mobile-web-app-capable\" content=\"yes\">\n",
      "<meta name=\"apple-touch-fullscreen\" content=\"yes\">\n",
      "<meta name=\"apple-mobile-web-app-status-bar-style\" content=\"default\">\n",
      "<meta name=\"description\" content=\"九章算法致力于让顶尖的工程师在线传授最优质的计算机课程，帮助更多中国人找到好工作\" />\n",
      "<meta name=\"Keywords\" content=\"Interview, Code, Google, Facebook, Linkedin, Amazon, Microsoft, LintCode, LeetCode\" />\n",
      "<title>\n",
      "九章算法 - 帮助更多中国人找到好工作，硅谷顶尖IT企业工程师实时在线授课为你传授面试技巧\n",
      "</title>\n",
      "<link rel=\"apple-touch-icon\" href=\"/static/pages-frontend/ico/60.png\">\n",
      "<link rel=\"apple-touch-icon\" sizes=\"76x76\" href=\"/static/pages-frontend/ico/76.png\">\n",
      "<link rel=\"apple-touch-icon\" sizes=\"120x120\" href=\"/static/pages-frontend/ico/120.png\">\n",
      "<link rel=\"apple-touch-icon\" sizes=\"152x152\" href=\"/static/pages-frontend/ico/152.png\">\n",
      "<link rel=\"icon shortcut\" type=\"image/x-icon\" href=\"/favicon.ico\" />\n",
      "<link href=\"/static/plugins/pace/pace-theme-flash.css\" rel=\"stylesheet\" type=\"text/css\" />\n",
      "<link href=\"/static/plugins/bootstrap/css/bootstrap.min.css\" rel=\"stylesheet\" type=\"text/css\" />\n",
      "<link href=\"/static/plugins/font-awesome/css/font-awesome.css\" rel=\"stylesheet\" type=\"text/css\" />\n",
      "<link href=\"/static/plugins/jquery-dynatree/skin/ui.dynatree.css\" rel=\"stylesheet\" type=\"text/css\" media=\"screen\" />\n",
      "<link href=\"/static/plugins/bootstrap-markdown/css/bootstrap-markdown.min.css\" rel=\"stylesheet\" type=\"text/css\" />\n",
      "<link href=\"/static/plugins/bootstrap3-editable/bootstrap3-editable/css/bootstrap-editable.css\" rel=\"stylesheet\" type=\"text/css\" />\n",
      "<link href=\"/static/pages3/css/pages.css\" rel=\"stylesheet\" type=\"text/css\" />\n",
      "<link href=\"/static/pages3/css/pages-icons.min.css\" rel=\"stylesheet\" type=\"text/css\" />\n",
      "<link rel=\"stylesheet\" href=\"https://media-cdn.jiuzhang.com/cdn/skin.css\">\n",
      "<link rel=\"stylesheet\" href=\"/static/css/pages-fix.min.css\"/>\n",
      "<link href=\"/static/plugins/simplemde/simplemde.min.css\" rel=\"stylesheet\" type=\"text/css\" />\n",
      "<link href=\"//imgcache.qq.com/open/qcloud/video/tcplayer/tcplayer.css\" rel=\"stylesheet\">\n",
      "<link href=\"/static/react/ninechapter-dcd7418475a675dcc15e.css\" rel=\"stylesheet\"></head>\n",
      "<body class=\"pace-white\">\n",
      "<div id=\"react-component\" style=\"height: 100%\">\n",
      "<div class=\"text-center p-t-100\">\n",
      "<i class=\"fa fa-spinner fa-3x fa-spin\"></i>\n",
      "</div>\n",
      "</div>\n",
      "<div id=\"react-portal\"></div>\n",
      "<script src=\"/static/plugins/pace/pace.min.js\"></script>\n",
      "<script src=\"/static/plugins/jquery/jquery-1.11.1.min.js\"></script>\n",
      "<script src=\"/static/pages-compile/js/modernizr.min.js\"></script>\n",
      "<script src=\"/static/pages-admin/js/pages.min.js\"></script>\n",
      "<script src=\"/static/pages-frontend/js/pages.frontend.min.js\"></script>\n",
      "<script src=\"/static/plugins/jquery-ui/jquery-ui.min.js\"></script>\n",
      "<script src=\"/static/plugins/jquery-dynatree/jquery.dynatree.min.js\"></script>\n",
      "<script src=\"/static/plugins/bootstrap/js/bootstrap.min.js\"></script>\n",
      "<script src=\"/static/plugins/bootstrap-markdown/js/bootstrap-markdown.js\"></script>\n",
      "<script src=\"/static/plugins/bootstrap-markdown/locale/bootstrap-markdown.zh.js\"></script>\n",
      "<script src=\"/static/plugins/bootstrap3-editable/bootstrap3-editable/js/bootstrap-editable.min.js\"></script>\n",
      "<script src=\"/static/plugins/bootstrap-markdown/js/markdown.js\"></script>\n",
      "<script src=\"/static/plugins/bootstrap-markdown/js/to-markdown.js\"></script>\n",
      "<script src=\"/static/plugins/jquery-textrange/jquery-textrange.js\"></script>\n",
      "<script src=\"/static/plugins/simplemde/simplemde.min.js\"></script>\n",
      "<script src=\"/static/plugins/videojs/videojs-ie8.min.js\"></script>\n",
      "<script src=\"/static/plugins/videojs/video.js\"></script>\n",
      "<script src=\"https://media-cdn.jiuzhang.com/cdn/flowplayer.min.js\"></script>\n",
      "<script src=\"https://media-cdn.jiuzhang.com/cdn/flowplayer.hlsjs.min.js\"></script>\n",
      "<script src=\"//imgcache.qq.com/open/qcloud/video/tcplayer/lib/hls.min.0.8.8.js\"></script>\n",
      "<script src=\"//imgcache.qq.com/open/qcloud/video/tcplayer/tcplayer.min.js\"></script>\n",
      "<script src=\"/static/plugins/tracking/tracking-min.js\"></script>\n",
      "<script src=\"/static/plugins/tracking/face-min.js\"></script>\n",
      "<script>\"__DISABLE_REACT_DEVTOOL__\"</script>\n",
      "<script>(function(i,s,o,g,r,a,m){i['GoogleAnalyticsObject']=r;i[r]=i[r]||function(){(i[r].q=i[r].q||[]).push(arguments)},i[r].l=1*new Date();a=s.createElement(o),m=s.getElementsByTagName(o)[0];a.async=1;a.src=g;m.parentNode.insertBefore(a,m)\n",
      "})(window,document,'script','https://www.google-analytics.com/analytics.js','ga');ga('create','UA-6324678-13','auto');ga('send','pageview');</script>\n",
      "<script async src=\"https://www.googletagmanager.com/gtag/js?id=AW-808918226\"></script>\n",
      "<script>window.dataLayer =window.dataLayer ||[];function gtag(){dataLayer.push(arguments);}\n",
      "gtag('js',new Date());gtag('config','AW-808918226');</script>\n",
      "<script>window.__INITIAL_AUTH_STORE__ =JSON.parse('{\\u0022detail\\u0022: {\\u0022is_authenticated\\u0022: false, \\u0022loading\\u0022: false, \\u0022is_staff\\u0022: false, \\u0022is_admin\\u0022: false, \\u0022is_tutor\\u0022: false}}');</script>\n",
      "<script src=\"https://qiyukf.com/script/2c00e340766c27382852016ebaa11914.js?hidden=1\" async=\"async\"></script>\n",
      "<script type=\"text/javascript\" src=\"/static/react/vendor-b94727d5f96bc7ad6a25.js\"></script><script type=\"text/javascript\" src=\"/static/react/ninechapter-dcd7418475a675dcc15e.js\"></script></body>\n",
      "</html>\n",
      "\n"
     ]
    }
   ],
   "source": [
    "print(response.text)"
   ]
  },
  {
   "cell_type": "code",
   "execution_count": 8,
   "metadata": {
    "collapsed": false
   },
   "outputs": [
    {
     "name": "stdout",
     "output_type": "stream",
     "text": [
      "<!DOCTYPE html>\n",
      "<html>\n",
      "<head>\n",
      "<meta charset=\"utf-8\"/>\n",
      "<meta http-equiv=\"content-type\" content=\"text/html;charset=UTF-8\"/>\n",
      "<meta name=\"viewport\" content=\"width=device-width, initial-scale=1.0, maximum-scale=1.0, user-scalable=no\"/>\n",
      "<meta name=\"apple-mobile-web-app-capable\" content=\"yes\">\n",
      "<meta name=\"apple-touch-fullscreen\" content=\"yes\">\n",
      "<meta name=\"apple-mobile-web-app-status-bar-style\" content=\"default\">\n",
      "<meta name=\"description\" content=\"九章算法致力于让顶尖的工程师在线传授最优质的计算机课程，帮助更多中国人找到好工作\" />\n",
      "<meta name=\"Keywords\" content=\"Interview, Code, Google, Facebook, Linkedin, Amazon, Microsoft, LintCode, LeetCode\" />\n",
      "<title>\n",
      "九章算法 - 帮助更多中国人找到好工作，硅谷顶尖IT企业工程师实时在线授课为你传授面试技巧\n",
      "</title>\n",
      "<link rel=\"apple-touch-icon\" href=\"/static/pages-frontend/ico/60.png\">\n",
      "<link rel=\"apple-touch-icon\" sizes=\"76x76\" href=\"/static/pages-frontend/ico/76.png\">\n",
      "<link rel=\"apple-touch-icon\" sizes=\"120x120\" href=\"/static/pages-frontend/ico/120.png\">\n",
      "<link rel=\"apple-touch-icon\" sizes=\"152x152\" href=\"/static/pages-frontend/ico/152.png\">\n",
      "<link rel=\"icon shortcut\" type=\"image/x-icon\" href=\"/favicon.ico\" />\n",
      "<link href=\"/static/plugins/pace/pace-theme-flash.css\" rel=\"stylesheet\" type=\"text/css\" />\n",
      "<link href=\"/static/plugins/bootstrap/css/bootstrap.min.css\" rel=\"stylesheet\" type=\"text/css\" />\n",
      "<link href=\"/static/plugins/font-awesome/css/font-awesome.css\" rel=\"stylesheet\" type=\"text/css\" />\n",
      "<link href=\"/static/plugins/jquery-dynatree/skin/ui.dynatree.css\" rel=\"stylesheet\" type=\"text/css\" media=\"screen\" />\n",
      "<link href=\"/static/plugins/bootstrap-markdown/css/bootstrap-markdown.min.css\" rel=\"stylesheet\" type=\"text/css\" />\n",
      "<link href=\"/static/plugins/bootstrap3-editable/bootstrap3-editable/css/bootstrap-editable.css\" rel=\"stylesheet\" type=\"text/css\" />\n",
      "<link href=\"/static/pages3/css/pages.css\" rel=\"stylesheet\" type=\"text/css\" />\n",
      "<link href=\"/static/pages3/css/pages-icons.min.css\" rel=\"stylesheet\" type=\"text/css\" />\n",
      "<link rel=\"stylesheet\" href=\"https://media-cdn.jiuzhang.com/cdn/skin.css\">\n",
      "<link rel=\"stylesheet\" href=\"/static/css/pages-fix.min.css\"/>\n",
      "<link href=\"/static/plugins/simplemde/simplemde.min.css\" rel=\"stylesheet\" type=\"text/css\" />\n",
      "<link href=\"//imgcache.qq.com/open/qcloud/video/tcplayer/tcplayer.css\" rel=\"stylesheet\">\n",
      "<link href=\"/static/react/ninechapter-dcd7418475a675dcc15e.css\" rel=\"stylesheet\"></head>\n",
      "<body class=\"pace-white\">\n",
      "<div id=\"react-component\" style=\"height: 100%\">\n",
      "<div class=\"text-center p-t-100\">\n",
      "<i class=\"fa fa-spinner fa-3x fa-spin\"></i>\n",
      "</div>\n",
      "</div>\n",
      "<div id=\"react-portal\"></div>\n",
      "<script src=\"/static/plugins/pace/pace.min.js\"></script>\n",
      "<script src=\"/static/plugins/jquery/jquery-1.11.1.min.js\"></script>\n",
      "<script src=\"/static/pages-compile/js/modernizr.min.js\"></script>\n",
      "<script src=\"/static/pages-admin/js/pages.min.js\"></script>\n",
      "<script src=\"/static/pages-frontend/js/pages.frontend.min.js\"></script>\n",
      "<script src=\"/static/plugins/jquery-ui/jquery-ui.min.js\"></script>\n",
      "<script src=\"/static/plugins/jquery-dynatree/jquery.dynatree.min.js\"></script>\n",
      "<script src=\"/static/plugins/bootstrap/js/bootstrap.min.js\"></script>\n",
      "<script src=\"/static/plugins/bootstrap-markdown/js/bootstrap-markdown.js\"></script>\n",
      "<script src=\"/static/plugins/bootstrap-markdown/locale/bootstrap-markdown.zh.js\"></script>\n",
      "<script src=\"/static/plugins/bootstrap3-editable/bootstrap3-editable/js/bootstrap-editable.min.js\"></script>\n",
      "<script src=\"/static/plugins/bootstrap-markdown/js/markdown.js\"></script>\n",
      "<script src=\"/static/plugins/bootstrap-markdown/js/to-markdown.js\"></script>\n",
      "<script src=\"/static/plugins/jquery-textrange/jquery-textrange.js\"></script>\n",
      "<script src=\"/static/plugins/simplemde/simplemde.min.js\"></script>\n",
      "<script src=\"/static/plugins/videojs/videojs-ie8.min.js\"></script>\n",
      "<script src=\"/static/plugins/videojs/video.js\"></script>\n",
      "<script src=\"https://media-cdn.jiuzhang.com/cdn/flowplayer.min.js\"></script>\n",
      "<script src=\"https://media-cdn.jiuzhang.com/cdn/flowplayer.hlsjs.min.js\"></script>\n",
      "<script src=\"//imgcache.qq.com/open/qcloud/video/tcplayer/lib/hls.min.0.8.8.js\"></script>\n",
      "<script src=\"//imgcache.qq.com/open/qcloud/video/tcplayer/tcplayer.min.js\"></script>\n",
      "<script src=\"/static/plugins/tracking/tracking-min.js\"></script>\n",
      "<script src=\"/static/plugins/tracking/face-min.js\"></script>\n",
      "<script>\"__DISABLE_REACT_DEVTOOL__\"</script>\n",
      "<script>(function(i,s,o,g,r,a,m){i['GoogleAnalyticsObject']=r;i[r]=i[r]||function(){(i[r].q=i[r].q||[]).push(arguments)},i[r].l=1*new Date();a=s.createElement(o),m=s.getElementsByTagName(o)[0];a.async=1;a.src=g;m.parentNode.insertBefore(a,m)\n",
      "})(window,document,'script','https://www.google-analytics.com/analytics.js','ga');ga('create','UA-6324678-13','auto');ga('send','pageview');</script>\n",
      "<script async src=\"https://www.googletagmanager.com/gtag/js?id=AW-808918226\"></script>\n",
      "<script>window.dataLayer =window.dataLayer ||[];function gtag(){dataLayer.push(arguments);}\n",
      "gtag('js',new Date());gtag('config','AW-808918226');</script>\n",
      "<script>window.__INITIAL_AUTH_STORE__ =JSON.parse('{\\u0022detail\\u0022: {\\u0022is_authenticated\\u0022: false, \\u0022loading\\u0022: false, \\u0022is_staff\\u0022: false, \\u0022is_admin\\u0022: false, \\u0022is_tutor\\u0022: false}}');</script>\n",
      "<script src=\"https://qiyukf.com/script/2c00e340766c27382852016ebaa11914.js?hidden=1\" async=\"async\"></script>\n",
      "<script type=\"text/javascript\" src=\"/static/react/vendor-b94727d5f96bc7ad6a25.js\"></script><script type=\"text/javascript\" src=\"/static/react/ninechapter-dcd7418475a675dcc15e.js\"></script></body>\n",
      "</html>\n",
      "\n"
     ]
    }
   ],
   "source": [
    "response = requests.get(\"https://www.jiuzhang.com/article/?tags=guidance\")\n",
    "print(response.text)"
   ]
  },
  {
   "cell_type": "markdown",
   "metadata": {},
   "source": [
    "pack the parameters in a params dictionary variable"
   ]
  },
  {
   "cell_type": "code",
   "execution_count": 11,
   "metadata": {
    "collapsed": false
   },
   "outputs": [
    {
     "name": "stdout",
     "output_type": "stream",
     "text": [
      "200\n"
     ]
    }
   ],
   "source": [
    "params = {\"tags\": \"guidance\"}\n",
    "url = \"https://www.jiuzhang.com/article/\"\n",
    "response = requests.get(url, params = params)\n",
    "print(response.status_code)"
   ]
  },
  {
   "cell_type": "code",
   "execution_count": 17,
   "metadata": {
    "collapsed": false
   },
   "outputs": [
    {
     "name": "stdout",
     "output_type": "stream",
     "text": [
      "200\n"
     ]
    }
   ],
   "source": [
    "response = requests.get(url, params = params, timeout = 1)\n",
    "print(response.status_code)"
   ]
  },
  {
   "cell_type": "markdown",
   "metadata": {},
   "source": [
    "Now post\n",
    "Post requires data"
   ]
  },
  {
   "cell_type": "code",
   "execution_count": 19,
   "metadata": {
    "collapsed": false
   },
   "outputs": [
    {
     "name": "stdout",
     "output_type": "stream",
     "text": [
      "202\n",
      "{\"email\":\"jieling1010@gmail.com\"}\n"
     ]
    }
   ],
   "source": [
    "data = {\"email\": \"jieling1010@gmail.com\"}\n",
    "url = \"https://www.jiuzhang.com/api/accounts/forget/\"\n",
    "response = requests.post(url, data=data)\n",
    "print(response.status_code)\n",
    "print(response.text)"
   ]
  },
  {
   "cell_type": "markdown",
   "metadata": {},
   "source": [
    "sesion to keep the connection alive"
   ]
  },
  {
   "cell_type": "markdown",
   "metadata": {},
   "source": [
    "assemble a url"
   ]
  },
  {
   "cell_type": "code",
   "execution_count": 30,
   "metadata": {
    "collapsed": true
   },
   "outputs": [],
   "source": [
    "from collections import OrderedDict\n",
    "from urllib import parse\n",
    "def createQuery():\n",
    "    query = OrderedDict()\n",
    "    query[\"type\"] = \"_search_gzh\"\n",
    "    query[\"page\"] = \"page\"\n",
    "    query[\"ie\"]   = \"utf\"\n",
    "    query[\"query\"] = \"jiuzhang\"\n",
    "    urlencode = parse.urlencode(query)\n",
    "    return \"http://weixin.sogou.com/weixin?%s\" % urlencode"
   ]
  },
  {
   "cell_type": "markdown",
   "metadata": {},
   "source": [
    "beautiful soup"
   ]
  },
  {
   "cell_type": "code",
   "execution_count": 31,
   "metadata": {
    "collapsed": true
   },
   "outputs": [],
   "source": [
    "from bs4 import BeautifulSoup"
   ]
  },
  {
   "cell_type": "code",
   "execution_count": 35,
   "metadata": {
    "collapsed": false
   },
   "outputs": [
    {
     "data": {
      "text/plain": [
       "<!DOCTYPE html>\n",
       "<html>\n",
       "<head>\n",
       "<meta charset=\"utf-8\"/>\n",
       "<meta content=\"text/html;charset=utf-8\" http-equiv=\"content-type\"/>\n",
       "<meta content=\"width=device-width, initial-scale=1.0, maximum-scale=1.0, user-scalable=no\" name=\"viewport\"/>\n",
       "<meta content=\"yes\" name=\"apple-mobile-web-app-capable\"/>\n",
       "<meta content=\"yes\" name=\"apple-touch-fullscreen\"/>\n",
       "<meta content=\"default\" name=\"apple-mobile-web-app-status-bar-style\"/>\n",
       "<meta content=\"九章算法致力于让顶尖的工程师在线传授最优质的计算机课程，帮助更多中国人找到好工作\" name=\"description\"/>\n",
       "<meta content=\"Interview, Code, Google, Facebook, Linkedin, Amazon, Microsoft, LintCode, LeetCode\" name=\"Keywords\"/>\n",
       "<title>\n",
       "九章算法 - 帮助更多中国人找到好工作，硅谷顶尖IT企业工程师实时在线授课为你传授面试技巧\n",
       "</title>\n",
       "<link href=\"/static/pages-frontend/ico/60.png\" rel=\"apple-touch-icon\"/>\n",
       "<link href=\"/static/pages-frontend/ico/76.png\" rel=\"apple-touch-icon\" sizes=\"76x76\"/>\n",
       "<link href=\"/static/pages-frontend/ico/120.png\" rel=\"apple-touch-icon\" sizes=\"120x120\"/>\n",
       "<link href=\"/static/pages-frontend/ico/152.png\" rel=\"apple-touch-icon\" sizes=\"152x152\"/>\n",
       "<link href=\"/favicon.ico\" rel=\"icon shortcut\" type=\"image/x-icon\"/>\n",
       "<link href=\"/static/plugins/pace/pace-theme-flash.css\" rel=\"stylesheet\" type=\"text/css\"/>\n",
       "<link href=\"/static/plugins/bootstrap/css/bootstrap.min.css\" rel=\"stylesheet\" type=\"text/css\"/>\n",
       "<link href=\"/static/plugins/font-awesome/css/font-awesome.css\" rel=\"stylesheet\" type=\"text/css\"/>\n",
       "<link href=\"/static/plugins/jquery-dynatree/skin/ui.dynatree.css\" media=\"screen\" rel=\"stylesheet\" type=\"text/css\"/>\n",
       "<link href=\"/static/plugins/bootstrap-markdown/css/bootstrap-markdown.min.css\" rel=\"stylesheet\" type=\"text/css\"/>\n",
       "<link href=\"/static/plugins/bootstrap3-editable/bootstrap3-editable/css/bootstrap-editable.css\" rel=\"stylesheet\" type=\"text/css\"/>\n",
       "<link href=\"/static/pages3/css/pages.css\" rel=\"stylesheet\" type=\"text/css\"/>\n",
       "<link href=\"/static/pages3/css/pages-icons.min.css\" rel=\"stylesheet\" type=\"text/css\"/>\n",
       "<link href=\"https://media-cdn.jiuzhang.com/cdn/skin.css\" rel=\"stylesheet\"/>\n",
       "<link href=\"/static/css/pages-fix.min.css\" rel=\"stylesheet\"/>\n",
       "<link href=\"/static/plugins/simplemde/simplemde.min.css\" rel=\"stylesheet\" type=\"text/css\"/>\n",
       "<link href=\"//imgcache.qq.com/open/qcloud/video/tcplayer/tcplayer.css\" rel=\"stylesheet\"/>\n",
       "<link href=\"/static/react/ninechapter-dcd7418475a675dcc15e.css\" rel=\"stylesheet\"/></head>\n",
       "<body class=\"pace-white\">\n",
       "<div id=\"react-component\" style=\"height: 100%\">\n",
       "<div class=\"text-center p-t-100\">\n",
       "<i class=\"fa fa-spinner fa-3x fa-spin\"></i>\n",
       "</div>\n",
       "</div>\n",
       "<div id=\"react-portal\"></div>\n",
       "<script src=\"/static/plugins/pace/pace.min.js\"></script>\n",
       "<script src=\"/static/plugins/jquery/jquery-1.11.1.min.js\"></script>\n",
       "<script src=\"/static/pages-compile/js/modernizr.min.js\"></script>\n",
       "<script src=\"/static/pages-admin/js/pages.min.js\"></script>\n",
       "<script src=\"/static/pages-frontend/js/pages.frontend.min.js\"></script>\n",
       "<script src=\"/static/plugins/jquery-ui/jquery-ui.min.js\"></script>\n",
       "<script src=\"/static/plugins/jquery-dynatree/jquery.dynatree.min.js\"></script>\n",
       "<script src=\"/static/plugins/bootstrap/js/bootstrap.min.js\"></script>\n",
       "<script src=\"/static/plugins/bootstrap-markdown/js/bootstrap-markdown.js\"></script>\n",
       "<script src=\"/static/plugins/bootstrap-markdown/locale/bootstrap-markdown.zh.js\"></script>\n",
       "<script src=\"/static/plugins/bootstrap3-editable/bootstrap3-editable/js/bootstrap-editable.min.js\"></script>\n",
       "<script src=\"/static/plugins/bootstrap-markdown/js/markdown.js\"></script>\n",
       "<script src=\"/static/plugins/bootstrap-markdown/js/to-markdown.js\"></script>\n",
       "<script src=\"/static/plugins/jquery-textrange/jquery-textrange.js\"></script>\n",
       "<script src=\"/static/plugins/simplemde/simplemde.min.js\"></script>\n",
       "<script src=\"/static/plugins/videojs/videojs-ie8.min.js\"></script>\n",
       "<script src=\"/static/plugins/videojs/video.js\"></script>\n",
       "<script src=\"https://media-cdn.jiuzhang.com/cdn/flowplayer.min.js\"></script>\n",
       "<script src=\"https://media-cdn.jiuzhang.com/cdn/flowplayer.hlsjs.min.js\"></script>\n",
       "<script src=\"//imgcache.qq.com/open/qcloud/video/tcplayer/lib/hls.min.0.8.8.js\"></script>\n",
       "<script src=\"//imgcache.qq.com/open/qcloud/video/tcplayer/tcplayer.min.js\"></script>\n",
       "<script src=\"/static/plugins/tracking/tracking-min.js\"></script>\n",
       "<script src=\"/static/plugins/tracking/face-min.js\"></script>\n",
       "<script>\"__DISABLE_REACT_DEVTOOL__\"</script>\n",
       "<script>(function(i,s,o,g,r,a,m){i['GoogleAnalyticsObject']=r;i[r]=i[r]||function(){(i[r].q=i[r].q||[]).push(arguments)},i[r].l=1*new Date();a=s.createElement(o),m=s.getElementsByTagName(o)[0];a.async=1;a.src=g;m.parentNode.insertBefore(a,m)\n",
       "})(window,document,'script','https://www.google-analytics.com/analytics.js','ga');ga('create','UA-6324678-13','auto');ga('send','pageview');</script>\n",
       "<script async=\"\" src=\"https://www.googletagmanager.com/gtag/js?id=AW-808918226\"></script>\n",
       "<script>window.dataLayer =window.dataLayer ||[];function gtag(){dataLayer.push(arguments);}\n",
       "gtag('js',new Date());gtag('config','AW-808918226');</script>\n",
       "<script>window.__INITIAL_AUTH_STORE__ =JSON.parse('{\\u0022detail\\u0022: {\\u0022is_authenticated\\u0022: false, \\u0022loading\\u0022: false, \\u0022is_staff\\u0022: false, \\u0022is_admin\\u0022: false, \\u0022is_tutor\\u0022: false}}');</script>\n",
       "<script async=\"async\" src=\"https://qiyukf.com/script/2c00e340766c27382852016ebaa11914.js?hidden=1\"></script>\n",
       "<script src=\"/static/react/vendor-b94727d5f96bc7ad6a25.js\" type=\"text/javascript\"></script><script src=\"/static/react/ninechapter-dcd7418475a675dcc15e.js\" type=\"text/javascript\"></script></body>\n",
       "</html>"
      ]
     },
     "execution_count": 35,
     "metadata": {},
     "output_type": "execute_result"
    }
   ],
   "source": [
    "response = requests.get(\"https://www.jiuzhang.com\")\n",
    "html = response.text\n",
    "soup = BeautifulSoup(html, features = \"lxml\")\n",
    "soup"
   ]
  },
  {
   "cell_type": "code",
   "execution_count": 36,
   "metadata": {
    "collapsed": false
   },
   "outputs": [
    {
     "data": {
      "text/plain": [
       "<script src=\"/static/plugins/pace/pace.min.js\"></script>"
      ]
     },
     "execution_count": 36,
     "metadata": {},
     "output_type": "execute_result"
    }
   ],
   "source": [
    "soup.script"
   ]
  },
  {
   "cell_type": "code",
   "execution_count": 37,
   "metadata": {
    "collapsed": false
   },
   "outputs": [
    {
     "data": {
      "text/plain": [
       "[<script src=\"/static/plugins/pace/pace.min.js\"></script>,\n",
       " <script src=\"/static/plugins/jquery/jquery-1.11.1.min.js\"></script>,\n",
       " <script src=\"/static/pages-compile/js/modernizr.min.js\"></script>,\n",
       " <script src=\"/static/pages-admin/js/pages.min.js\"></script>,\n",
       " <script src=\"/static/pages-frontend/js/pages.frontend.min.js\"></script>,\n",
       " <script src=\"/static/plugins/jquery-ui/jquery-ui.min.js\"></script>,\n",
       " <script src=\"/static/plugins/jquery-dynatree/jquery.dynatree.min.js\"></script>,\n",
       " <script src=\"/static/plugins/bootstrap/js/bootstrap.min.js\"></script>,\n",
       " <script src=\"/static/plugins/bootstrap-markdown/js/bootstrap-markdown.js\"></script>,\n",
       " <script src=\"/static/plugins/bootstrap-markdown/locale/bootstrap-markdown.zh.js\"></script>,\n",
       " <script src=\"/static/plugins/bootstrap3-editable/bootstrap3-editable/js/bootstrap-editable.min.js\"></script>,\n",
       " <script src=\"/static/plugins/bootstrap-markdown/js/markdown.js\"></script>,\n",
       " <script src=\"/static/plugins/bootstrap-markdown/js/to-markdown.js\"></script>,\n",
       " <script src=\"/static/plugins/jquery-textrange/jquery-textrange.js\"></script>,\n",
       " <script src=\"/static/plugins/simplemde/simplemde.min.js\"></script>,\n",
       " <script src=\"/static/plugins/videojs/videojs-ie8.min.js\"></script>,\n",
       " <script src=\"/static/plugins/videojs/video.js\"></script>,\n",
       " <script src=\"https://media-cdn.jiuzhang.com/cdn/flowplayer.min.js\"></script>,\n",
       " <script src=\"https://media-cdn.jiuzhang.com/cdn/flowplayer.hlsjs.min.js\"></script>,\n",
       " <script src=\"//imgcache.qq.com/open/qcloud/video/tcplayer/lib/hls.min.0.8.8.js\"></script>,\n",
       " <script src=\"//imgcache.qq.com/open/qcloud/video/tcplayer/tcplayer.min.js\"></script>,\n",
       " <script src=\"/static/plugins/tracking/tracking-min.js\"></script>,\n",
       " <script src=\"/static/plugins/tracking/face-min.js\"></script>,\n",
       " <script>\"__DISABLE_REACT_DEVTOOL__\"</script>,\n",
       " <script>(function(i,s,o,g,r,a,m){i['GoogleAnalyticsObject']=r;i[r]=i[r]||function(){(i[r].q=i[r].q||[]).push(arguments)},i[r].l=1*new Date();a=s.createElement(o),m=s.getElementsByTagName(o)[0];a.async=1;a.src=g;m.parentNode.insertBefore(a,m)\n",
       " })(window,document,'script','https://www.google-analytics.com/analytics.js','ga');ga('create','UA-6324678-13','auto');ga('send','pageview');</script>,\n",
       " <script async=\"\" src=\"https://www.googletagmanager.com/gtag/js?id=AW-808918226\"></script>,\n",
       " <script>window.dataLayer =window.dataLayer ||[];function gtag(){dataLayer.push(arguments);}\n",
       " gtag('js',new Date());gtag('config','AW-808918226');</script>,\n",
       " <script>window.__INITIAL_AUTH_STORE__ =JSON.parse('{\\u0022detail\\u0022: {\\u0022is_authenticated\\u0022: false, \\u0022loading\\u0022: false, \\u0022is_staff\\u0022: false, \\u0022is_admin\\u0022: false, \\u0022is_tutor\\u0022: false}}');</script>,\n",
       " <script async=\"async\" src=\"https://qiyukf.com/script/2c00e340766c27382852016ebaa11914.js?hidden=1\"></script>,\n",
       " <script src=\"/static/react/vendor-b94727d5f96bc7ad6a25.js\" type=\"text/javascript\"></script>,\n",
       " <script src=\"/static/react/ninechapter-dcd7418475a675dcc15e.js\" type=\"text/javascript\"></script>]"
      ]
     },
     "execution_count": 37,
     "metadata": {},
     "output_type": "execute_result"
    }
   ],
   "source": [
    "soup.find_all(\"script\")"
   ]
  },
  {
   "cell_type": "code",
   "execution_count": 39,
   "metadata": {
    "collapsed": false
   },
   "outputs": [
    {
     "data": {
      "text/plain": [
       "[<script src=\"/static/plugins/pace/pace.min.js\"></script>,\n",
       " <script src=\"/static/plugins/jquery/jquery-1.11.1.min.js\"></script>,\n",
       " <script src=\"/static/pages-compile/js/modernizr.min.js\"></script>,\n",
       " <script src=\"/static/pages-admin/js/pages.min.js\"></script>,\n",
       " <script src=\"/static/pages-frontend/js/pages.frontend.min.js\"></script>,\n",
       " <script src=\"/static/plugins/jquery-ui/jquery-ui.min.js\"></script>,\n",
       " <script src=\"/static/plugins/jquery-dynatree/jquery.dynatree.min.js\"></script>,\n",
       " <script src=\"/static/plugins/bootstrap/js/bootstrap.min.js\"></script>,\n",
       " <script src=\"/static/plugins/bootstrap3-editable/bootstrap3-editable/js/bootstrap-editable.min.js\"></script>,\n",
       " <script src=\"/static/plugins/simplemde/simplemde.min.js\"></script>,\n",
       " <script src=\"/static/plugins/videojs/videojs-ie8.min.js\"></script>,\n",
       " <script src=\"https://media-cdn.jiuzhang.com/cdn/flowplayer.min.js\"></script>,\n",
       " <script src=\"https://media-cdn.jiuzhang.com/cdn/flowplayer.hlsjs.min.js\"></script>,\n",
       " <script src=\"//imgcache.qq.com/open/qcloud/video/tcplayer/tcplayer.min.js\"></script>,\n",
       " <script src=\"/static/plugins/tracking/tracking-min.js\"></script>,\n",
       " <script src=\"/static/plugins/tracking/face-min.js\"></script>]"
      ]
     },
     "execution_count": 39,
     "metadata": {},
     "output_type": "execute_result"
    }
   ],
   "source": [
    "import re\n",
    "soup.find_all(\"script\", {\"src\": re.compile(\".*.min.js\")})"
   ]
  },
  {
   "cell_type": "code",
   "execution_count": 42,
   "metadata": {
    "collapsed": false
   },
   "outputs": [
    {
     "data": {
      "text/plain": [
       "[<script src=\"/static/plugins/pace/pace.min.js\"></script>,\n",
       " <script src=\"/static/plugins/jquery/jquery-1.11.1.min.js\"></script>,\n",
       " <script src=\"/static/pages-compile/js/modernizr.min.js\"></script>,\n",
       " <script src=\"/static/pages-admin/js/pages.min.js\"></script>,\n",
       " <script src=\"/static/pages-frontend/js/pages.frontend.min.js\"></script>,\n",
       " <script src=\"/static/plugins/jquery-ui/jquery-ui.min.js\"></script>,\n",
       " <script src=\"/static/plugins/jquery-dynatree/jquery.dynatree.min.js\"></script>,\n",
       " <script src=\"/static/plugins/bootstrap/js/bootstrap.min.js\"></script>,\n",
       " <script src=\"/static/plugins/bootstrap3-editable/bootstrap3-editable/js/bootstrap-editable.min.js\"></script>,\n",
       " <script src=\"/static/plugins/simplemde/simplemde.min.js\"></script>,\n",
       " <script src=\"/static/plugins/videojs/videojs-ie8.min.js\"></script>,\n",
       " <script src=\"https://media-cdn.jiuzhang.com/cdn/flowplayer.min.js\"></script>,\n",
       " <script src=\"https://media-cdn.jiuzhang.com/cdn/flowplayer.hlsjs.min.js\"></script>,\n",
       " <script src=\"//imgcache.qq.com/open/qcloud/video/tcplayer/tcplayer.min.js\"></script>,\n",
       " <script src=\"/static/plugins/tracking/tracking-min.js\"></script>,\n",
       " <script src=\"/static/plugins/tracking/face-min.js\"></script>]"
      ]
     },
     "execution_count": 42,
     "metadata": {},
     "output_type": "execute_result"
    }
   ],
   "source": [
    "soup.find_all(\"script\", {\"src\": re.compile(\".min.js\")})"
   ]
  },
  {
   "cell_type": "code",
   "execution_count": 43,
   "metadata": {
    "collapsed": false
   },
   "outputs": [
    {
     "data": {
      "text/plain": [
       "[<title>\n",
       " 九章算法 - 帮助更多中国人找到好工作，硅谷顶尖IT企业工程师实时在线授课为你传授面试技巧\n",
       " </title>]"
      ]
     },
     "execution_count": 43,
     "metadata": {},
     "output_type": "execute_result"
    }
   ],
   "source": [
    "soup.select(\"title\")"
   ]
  },
  {
   "cell_type": "code",
   "execution_count": 44,
   "metadata": {
    "collapsed": false
   },
   "outputs": [
    {
     "data": {
      "text/plain": [
       "[]"
      ]
     },
     "execution_count": 44,
     "metadata": {},
     "output_type": "execute_result"
    }
   ],
   "source": [
    "soup.select(\".new-list2\")"
   ]
  },
  {
   "cell_type": "code",
   "execution_count": 47,
   "metadata": {
    "collapsed": false
   },
   "outputs": [
    {
     "data": {
      "text/plain": [
       "[]"
      ]
     },
     "execution_count": 47,
     "metadata": {},
     "output_type": "execute_result"
    }
   ],
   "source": [
    "soup.select(\"title #name\")"
   ]
  },
  {
   "cell_type": "code",
   "execution_count": 50,
   "metadata": {
    "collapsed": false
   },
   "outputs": [
    {
     "data": {
      "text/plain": [
       "[<div class=\"text-center p-t-100\">\n",
       " <i class=\"fa fa-spinner fa-3x fa-spin\"></i>\n",
       " </div>]"
      ]
     },
     "execution_count": 50,
     "metadata": {},
     "output_type": "execute_result"
    }
   ],
   "source": [
    "soup.select('div[class~=\"text-center\"]')"
   ]
  },
  {
   "cell_type": "code",
   "execution_count": null,
   "metadata": {
    "collapsed": true
   },
   "outputs": [],
   "source": []
  }
 ],
 "metadata": {
  "anaconda-cloud": {},
  "kernelspec": {
   "display_name": "Python [default]",
   "language": "python",
   "name": "python3"
  },
  "language_info": {
   "codemirror_mode": {
    "name": "ipython",
    "version": 3
   },
   "file_extension": ".py",
   "mimetype": "text/x-python",
   "name": "python",
   "nbconvert_exporter": "python",
   "pygments_lexer": "ipython3",
   "version": "3.5.2"
  }
 },
 "nbformat": 4,
 "nbformat_minor": 2
}

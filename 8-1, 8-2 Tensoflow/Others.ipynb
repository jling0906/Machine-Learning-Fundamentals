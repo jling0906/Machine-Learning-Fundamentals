{
 "cells": [
  {
   "cell_type": "code",
   "execution_count": 2,
   "metadata": {
    "collapsed": false
   },
   "outputs": [
    {
     "name": "stdout",
     "output_type": "stream",
     "text": [
      "Help on package tensorflow:\n",
      "\n",
      "NAME\n",
      "    tensorflow\n",
      "\n",
      "DESCRIPTION\n",
      "    # Copyright 2015 The TensorFlow Authors. All Rights Reserved.\n",
      "    #\n",
      "    # Licensed under the Apache License, Version 2.0 (the \"License\");\n",
      "    # you may not use this file except in compliance with the License.\n",
      "    # You may obtain a copy of the License at\n",
      "    #\n",
      "    #     http://www.apache.org/licenses/LICENSE-2.0\n",
      "    #\n",
      "    # Unless required by applicable law or agreed to in writing, software\n",
      "    # distributed under the License is distributed on an \"AS IS\" BASIS,\n",
      "    # WITHOUT WARRANTIES OR CONDITIONS OF ANY KIND, either express or implied.\n",
      "    # See the License for the specific language governing permissions and\n",
      "    # limitations under the License.\n",
      "    # ==============================================================================\n",
      "\n",
      "PACKAGE CONTENTS\n",
      "    contrib (package)\n",
      "    core (package)\n",
      "    examples (package)\n",
      "    python (package)\n",
      "    tensorboard (package)\n",
      "    tools (package)\n",
      "\n",
      "SUBMODULES\n",
      "    app\n",
      "    compat\n",
      "    errors\n",
      "    estimator\n",
      "    flags\n",
      "    gfile\n",
      "    graph_util\n",
      "    image\n",
      "    layers\n",
      "    logging\n",
      "    losses\n",
      "    metrics\n",
      "    nn\n",
      "    python_io\n",
      "    pywrap_tensorflow\n",
      "    resource_loader\n",
      "    saved_model\n",
      "    sdca\n",
      "    sets\n",
      "    spectral\n",
      "    summary\n",
      "    sysconfig\n",
      "    test\n",
      "    train\n",
      "    user_ops\n",
      "\n",
      "DATA\n",
      "    COMPILER_VERSION = '4.2.1 Compatible Apple LLVM 8.0.0 (clang-800.0.38)...\n",
      "    GIT_VERSION = 'v1.1.0-rc0-61-g1ec6ed5'\n",
      "    GRAPH_DEF_VERSION = 21\n",
      "    GRAPH_DEF_VERSION_MIN_CONSUMER = 0\n",
      "    GRAPH_DEF_VERSION_MIN_PRODUCER = 0\n",
      "    QUANTIZED_DTYPES = frozenset({tf.qint8, tf.quint8, tf.qint32, tf.qint1...\n",
      "    VERSION = '1.1.0'\n",
      "    __compiler_version__ = '4.2.1 Compatible Apple LLVM 8.0.0 (clang-800.0...\n",
      "    __git_version__ = 'v1.1.0-rc0-61-g1ec6ed5'\n",
      "    bfloat16 = tf.bfloat16\n",
      "    bool = tf.bool\n",
      "    complex128 = tf.complex128\n",
      "    complex64 = tf.complex64\n",
      "    contrib = <tensorflow._LazyContribLoader object>\n",
      "    double = tf.float64\n",
      "    float16 = tf.float16\n",
      "    float32 = tf.float32\n",
      "    float64 = tf.float64\n",
      "    half = tf.float16\n",
      "    int16 = tf.int16\n",
      "    int32 = tf.int32\n",
      "    int64 = tf.int64\n",
      "    int8 = tf.int8\n",
      "    newaxis = None\n",
      "    qint16 = tf.qint16\n",
      "    qint32 = tf.qint32\n",
      "    qint8 = tf.qint8\n",
      "    quint16 = tf.quint16\n",
      "    quint8 = tf.quint8\n",
      "    resource = tf.resource\n",
      "    string = tf.string\n",
      "    uint16 = tf.uint16\n",
      "    uint8 = tf.uint8\n",
      "\n",
      "VERSION\n",
      "    1.1.0\n",
      "\n",
      "FILE\n",
      "    /anaconda3/lib/python3.6/site-packages/tensorflow/__init__.py\n",
      "\n",
      "\n"
     ]
    }
   ],
   "source": [
    "import tensorflow as tf\n",
    "help(tf)"
   ]
  },
  {
   "cell_type": "code",
   "execution_count": 5,
   "metadata": {
    "collapsed": true
   },
   "outputs": [],
   "source": [
    "%matplotlib inline\n",
    "\n",
    "import matplotlib.pyplot as plt\n",
    "import numpy as np\n",
    "\n",
    "from sklearn.linear_model import LogisticRegression\n",
    "\n",
    "from sklearn.metrics import mean_squared_error as mse\n",
    "from sklearn.metrics import r2_score"
   ]
  },
  {
   "cell_type": "code",
   "execution_count": 6,
   "metadata": {
    "collapsed": true
   },
   "outputs": [],
   "source": [
    "x = tf.Variable(3, name = \"x\")\n",
    "y = tf.Variable(4, name = \"y\")\n",
    "f = x * x * y + y + 2"
   ]
  },
  {
   "cell_type": "code",
   "execution_count": null,
   "metadata": {
    "collapsed": true
   },
   "outputs": [],
   "source": []
  },
  {
   "cell_type": "code",
   "execution_count": 7,
   "metadata": {
    "collapsed": false
   },
   "outputs": [
    {
     "name": "stdout",
     "output_type": "stream",
     "text": [
      "42\n"
     ]
    }
   ],
   "source": [
    "sess = tf.Session()\n",
    "sess.run(x.initializer)\n",
    "sess.run(y.initializer)\n",
    "result = sess.run(f)\n",
    "print(result)"
   ]
  },
  {
   "cell_type": "code",
   "execution_count": 8,
   "metadata": {
    "collapsed": true
   },
   "outputs": [],
   "source": [
    "sess.close()"
   ]
  },
  {
   "cell_type": "code",
   "execution_count": null,
   "metadata": {
    "collapsed": true
   },
   "outputs": [],
   "source": []
  },
  {
   "cell_type": "code",
   "execution_count": 9,
   "metadata": {
    "collapsed": true
   },
   "outputs": [],
   "source": [
    "with tf.Session() as sess:\n",
    "    x.initializer.run()\n",
    "    y.initializer.run()\n",
    "    result = f.eval()"
   ]
  },
  {
   "cell_type": "code",
   "execution_count": 10,
   "metadata": {
    "collapsed": false
   },
   "outputs": [
    {
     "name": "stdout",
     "output_type": "stream",
     "text": [
      "42\n"
     ]
    }
   ],
   "source": [
    "print(result)"
   ]
  },
  {
   "cell_type": "code",
   "execution_count": null,
   "metadata": {
    "collapsed": true
   },
   "outputs": [],
   "source": []
  },
  {
   "cell_type": "code",
   "execution_count": 11,
   "metadata": {
    "collapsed": true
   },
   "outputs": [],
   "source": [
    "init = tf.global_variables_initializer()\n",
    "with tf.Session() as sess:\n",
    "    init.run()\n",
    "    result = f.eval()"
   ]
  },
  {
   "cell_type": "code",
   "execution_count": 12,
   "metadata": {
    "collapsed": false
   },
   "outputs": [
    {
     "name": "stdout",
     "output_type": "stream",
     "text": [
      "42\n"
     ]
    }
   ],
   "source": [
    "print(result)"
   ]
  },
  {
   "cell_type": "code",
   "execution_count": 13,
   "metadata": {
    "collapsed": false
   },
   "outputs": [
    {
     "name": "stdout",
     "output_type": "stream",
     "text": [
      "3\n",
      "4\n"
     ]
    }
   ],
   "source": [
    "init = tf.global_variables_initializer()\n",
    "with tf.Session() as sess:\n",
    "    init.run()\n",
    "    print(x.eval())\n",
    "    print(y.eval())\n",
    "    result = sess.run(f, {x:3, y:4})"
   ]
  },
  {
   "cell_type": "code",
   "execution_count": 14,
   "metadata": {
    "collapsed": false
   },
   "outputs": [
    {
     "name": "stdout",
     "output_type": "stream",
     "text": [
      "42\n"
     ]
    }
   ],
   "source": [
    "print(result)"
   ]
  },
  {
   "cell_type": "code",
   "execution_count": 15,
   "metadata": {
    "collapsed": false
   },
   "outputs": [
    {
     "data": {
      "text/plain": [
       "-0.24395540229637727"
      ]
     },
     "execution_count": 15,
     "metadata": {},
     "output_type": "execute_result"
    }
   ],
   "source": [
    "a = np.random.randn()\n",
    "a"
   ]
  },
  {
   "cell_type": "code",
   "execution_count": 19,
   "metadata": {
    "collapsed": true
   },
   "outputs": [],
   "source": [
    "def f(X):\n",
    "    return 3*X + 4"
   ]
  },
  {
   "cell_type": "code",
   "execution_count": 26,
   "metadata": {
    "collapsed": true
   },
   "outputs": [],
   "source": [
    "N = 40\n",
    "noise_level = 0.8\n",
    "trainX = np.linspace(-4.0, 4.0, N)\n",
    "np.random.shuffle(trainX)\n",
    "trainY = f(trainX) + np.random.rand(N) * noise_level\n",
    "\n",
    "learning_rate = 0.01\n",
    "training_epochs = 1000\n",
    "display_step = 50"
   ]
  },
  {
   "cell_type": "markdown",
   "metadata": {},
   "source": [
    "#use tensorflow to implement linear regression"
   ]
  },
  {
   "cell_type": "code",
   "execution_count": 27,
   "metadata": {
    "collapsed": true
   },
   "outputs": [],
   "source": [
    "from sklearn.base import BaseEstimator"
   ]
  },
  {
   "cell_type": "code",
   "execution_count": 50,
   "metadata": {
    "collapsed": true
   },
   "outputs": [],
   "source": [
    "class LinearRegressionTF(BaseEstimator):\n",
    "    def __init__(self, learning_rate, training_ecpochs, \n",
    "                 display_step, annotate=False):\n",
    "        self.annotate = annotate\n",
    "        self.sess = tf.Session()\n",
    "        self.training_epochs = training_epochs\n",
    "        self.learning_rate = learning_rate\n",
    "        self.display_step = display_step\n",
    "    \n",
    "    def fit(self, trainX, trainY):\n",
    "        N = trainX.shape[0]\n",
    "        \n",
    "        #########################################################3\n",
    "        # start building a graph\n",
    "        \n",
    "        # define input tensor X and Y\n",
    "        self.X = tf.placeholder(\"float\")\n",
    "        self.Y = tf.placeholder(\"float\")\n",
    "        \n",
    "        # define the assignments tensor W and b\n",
    "        # randomly picking up the values for them at the beginning\n",
    "        self.W = tf.Variable(np.random.randn(), name=\"weight\")\n",
    "        self.b = tf.Variable(np.random.randn(), name=\"bias\")\n",
    "        \n",
    "        # define the function tensor pred\n",
    "        self.pred = tf.add(tf.multiply(self.X, self.W), self.b)\n",
    "        \n",
    "        ##########################################################\n",
    "        cost = tf.reduce_sum(tf.pow(self.pred-self.Y, 2))/(2*N)\n",
    "        \n",
    "        optimizer = tf.train.GradientDescentOptimizer(\n",
    "            self.learning_rate).minimize(cost)\n",
    "        \n",
    "        init = tf.global_variables_initializer()\n",
    "        self.sess.run(init)\n",
    "        \n",
    "        if self.annotate:\n",
    "            plt.plot(trainX, trainY, \"ro\", label=\"Original data\")\n",
    "            plt.plot(trainX, \n",
    "                     self.sess.run(self.W) * trainX + self.sess.run(self.b),\n",
    "                    label=\"Fitted line\")\n",
    "            plt.legend()\n",
    "            plt.title(\"This is where model starts to learn!!\")\n",
    "            plt.show()\n",
    "            \n",
    "        for epoch in range(self.training_epochs):\n",
    "            for(x, y) in zip(trainX, trainY):\n",
    "                self.sess.run(optimizer, feed_dict={self.X:x, self.Y: y})\n",
    "         # cost is a function of pred and y\n",
    "         # but as pred is a function of x and y so cost is a function of X and y\n",
    "            if (epoch  + 1 ) % display_step == 0 :\n",
    "                c = self.sess.run (cost, feed_dict={self.X : trainX,\n",
    "                                               self.Y: trainY})\n",
    "                print(\"Epoch:\", \n",
    "                  \"%4d\" % (epoch + 1),\n",
    "                  \"cost=\",\n",
    "                  \"{:.9f}\".format(c),\n",
    "                  \"W=\",\n",
    "                  self.sess.run(self.W),\n",
    "                  \"b=\",\n",
    "                  self.sess.run(self.b))\n",
    "        \n",
    "        if self.annotate:\n",
    "            plt.plot(trainX, trainY, \"ro\", label= \"origianl data\")\n",
    "            plt.plot(trainX, \n",
    "                      self.sess.run(self.W)*trainX + self.sess.run(self.b),\n",
    "                      label = \"fitted line\")\n",
    "            plt.legend()\n",
    "            plt.show()\n",
    "            \n",
    "        print(\"Optimization Finished\")\n",
    "        training_cost = self.sess.run(cost, \n",
    "                                      feed_dict={self.X:trainX, self.Y:trainY})\n",
    "        \n",
    "        print(\"trianing cost = \" + str(training_cost),\n",
    "             \"W=\",\n",
    "             str(self.sess.run(self.W)),\n",
    "             \"b=\",\n",
    "             str(self.sess.run(self.b)),\n",
    "             \"\\n\")\n",
    "    \n",
    "    def predict(self, testX):\n",
    "        prediction = self.sess.run(self.pred, feed_dict={self.X: testX})\n",
    "        return prediction\n",
    "    \n",
    "    def score(self, testX, testY):\n",
    "        result = self.predict(testY)\n",
    "        return r2_score(testY, result)\n",
    "        \n",
    "        \n",
    "        \n",
    "        # feels that the core of tensorflow is\n",
    "        # define tensors with name\n",
    "        # run self.sess.run( function,  with assignments dictionary)"
   ]
  },
  {
   "cell_type": "code",
   "execution_count": 51,
   "metadata": {
    "collapsed": false
   },
   "outputs": [
    {
     "data": {
      "image/png": "[encoded data removed]",
      "text/plain": [
       "<matplotlib.figure.Figure at 0x1091b9e10>"
      ]
     },
     "metadata": {},
     "output_type": "display_data"
    },
    {
     "name": "stdout",
     "output_type": "stream",
     "text": [
      "Epoch:   50 cost= 3.261534214 W= 2.8673372 b= 1.871668\n",
      "Epoch:  100 cost= 1.200105906 W= 2.973357 b= 2.868298\n",
      "Epoch:  150 cost= 0.455154121 W= 2.9796 b= 3.47255\n",
      "Epoch:  200 cost= 0.181358099 W= 2.979884 b= 3.8388927\n",
      "Epoch:  250 cost= 0.080710337 W= 2.9798439 b= 4.060998\n",
      "Epoch:  300 cost= 0.043709248 W= 2.979804 b= 4.19566\n",
      "Epoch:  350 cost= 0.030106504 W= 2.9797823 b= 4.2773\n",
      "Epoch:  400 cost= 0.025104698 W= 2.9797664 b= 4.326798\n",
      "Epoch:  450 cost= 0.023264766 W= 2.9797578 b= 4.3568177\n",
      "Epoch:  500 cost= 0.022588313 W= 2.9797544 b= 4.375009\n",
      "Epoch:  550 cost= 0.022339258 W= 2.9797516 b= 4.3860426\n",
      "Epoch:  600 cost= 0.022247594 W= 2.9797487 b= 4.392726\n",
      "Epoch:  650 cost= 0.022213714 W= 2.9797475 b= 4.396788\n",
      "Epoch:  700 cost= 0.022201221 W= 2.979747 b= 4.399245\n",
      "Epoch:  750 cost= 0.022196556 W= 2.9797506 b= 4.4007516\n",
      "Epoch:  800 cost= 0.022194907 W= 2.9797418 b= 4.4016037\n",
      "Epoch:  850 cost= 0.022194212 W= 2.9797447 b= 4.4021807\n",
      "Epoch:  900 cost= 0.022193935 W= 2.9797482 b= 4.4025764\n",
      "Epoch:  950 cost= 0.022193875 W= 2.9797528 b= 4.4027343\n",
      "Epoch: 1000 cost= 0.022193829 W= 2.9797444 b= 4.4028263\n"
     ]
    },
    {
     "data": {
      "image/png": "[encoded data removed]",
      "text/plain": [
       "<matplotlib.figure.Figure at 0x1091a5d30>"
      ]
     },
     "metadata": {},
     "output_type": "display_data"
    },
    {
     "name": "stdout",
     "output_type": "stream",
     "text": [
      "Optimization Finished\n",
      "trianing cost = 0.022193829 W= 2.9797444 b= 4.4028263 \n",
      "\n"
     ]
    }
   ],
   "source": [
    "lr_model = LinearRegressionTF(learning_rate, \n",
    "                             1000,\n",
    "                             display_step,\n",
    "                             annotate = True)\n",
    "lr_model.fit(trainX, trainY)"
   ]
  },
  {
   "cell_type": "code",
   "execution_count": 52,
   "metadata": {
    "collapsed": false
   },
   "outputs": [
    {
     "data": {
      "image/png": "[encoded data removed]",
      "text/plain": [
       "<matplotlib.figure.Figure at 0x1a17fe8e48>"
      ]
     },
     "metadata": {},
     "output_type": "display_data"
    },
    {
     "name": "stdout",
     "output_type": "stream",
     "text": [
      "Epoch:   50 cost= 7.685240746 W= 2.751537 b= 0.4842798\n",
      "Epoch:  100 cost= 2.818428040 W= 2.928752 b= 2.0152164\n",
      "Epoch:  150 cost= 1.050522327 W= 2.9555938 b= 2.9459157\n",
      "Epoch:  200 cost= 0.399591506 W= 2.9672234 b= 3.510776\n",
      "Epoch:  250 cost= 0.159907386 W= 2.97401 b= 3.8535457\n",
      "Epoch:  300 cost= 0.071654871 W= 2.978114 b= 4.061536\n",
      "Epoch:  350 cost= 0.039158195 W= 2.980602 b= 4.18775\n",
      "Epoch:  400 cost= 0.027193155 W= 2.9821124 b= 4.264334\n",
      "Epoch:  450 cost= 0.022787301 W= 2.9830294 b= 4.3108087\n",
      "Epoch:  500 cost= 0.021165017 W= 2.983582 b= 4.339011\n",
      "Epoch:  550 cost= 0.020567778 W= 2.9839215 b= 4.3561244\n",
      "Epoch:  600 cost= 0.020347858 W= 2.9841268 b= 4.3665123\n",
      "Epoch:  650 cost= 0.020266905 W= 2.9842498 b= 4.372817\n",
      "Epoch:  700 cost= 0.020237174 W= 2.9843266 b= 4.3766375\n",
      "Epoch:  750 cost= 0.020226195 W= 2.9843712 b= 4.3789663\n",
      "Epoch:  800 cost= 0.020222189 W= 2.984402 b= 4.3803763\n",
      "Epoch:  850 cost= 0.020220775 W= 2.9844193 b= 4.3811984\n",
      "Epoch:  900 cost= 0.020220198 W= 2.9844306 b= 4.3817525\n",
      "Epoch:  950 cost= 0.020219970 W= 2.9844337 b= 4.3820896\n",
      "Epoch: 1000 cost= 0.020219922 W= 2.9844425 b= 4.382281\n"
     ]
    },
    {
     "data": {
      "image/png": "[encoded data removed]",
      "text/plain": [
       "<matplotlib.figure.Figure at 0x1a21a9c668>"
      ]
     },
     "metadata": {},
     "output_type": "display_data"
    },
    {
     "name": "stdout",
     "output_type": "stream",
     "text": [
      "Optimization Finished\n",
      "trianing cost = 0.020219922 W= 2.9844425 b= 4.382281 \n",
      "\n"
     ]
    },
    {
     "data": {
      "image/png": "[encoded data removed]",
      "text/plain": [
       "<matplotlib.figure.Figure at 0x1a2191bcc0>"
      ]
     },
     "metadata": {},
     "output_type": "display_data"
    },
    {
     "name": "stdout",
     "output_type": "stream",
     "text": [
      "Epoch:   50 cost= 2.164143801 W= 2.8773162 b= 2.3787575\n",
      "Epoch:  100 cost= 0.778482080 W= 3.0219283 b= 3.1795552\n",
      "Epoch:  150 cost= 0.302064359 W= 3.0109992 b= 3.6627443\n",
      "Epoch:  200 cost= 0.125358522 W= 2.997908 b= 3.956835\n",
      "Epoch:  250 cost= 0.059756309 W= 2.989517 b= 4.1359935\n",
      "Epoch:  300 cost= 0.035398319 W= 2.984377 b= 4.2451506\n",
      "Epoch:  350 cost= 0.026352730 W= 2.981244 b= 4.3116617\n",
      "Epoch:  400 cost= 0.022993561 W= 2.9793336 b= 4.352179\n",
      "Epoch:  450 cost= 0.021745391 W= 2.9781694 b= 4.3768663\n",
      "Epoch:  500 cost= 0.021281285 W= 2.9774601 b= 4.391911\n",
      "Epoch:  550 cost= 0.021108599 W= 2.9770257 b= 4.4010763\n",
      "Epoch:  600 cost= 0.021044293 W= 2.9767659 b= 4.406658\n",
      "Epoch:  650 cost= 0.021020234 W= 2.9766083 b= 4.4100657\n",
      "Epoch:  700 cost= 0.021011272 W= 2.9765098 b= 4.4121256\n",
      "Epoch:  750 cost= 0.021007828 W= 2.976444 b= 4.413393\n",
      "Epoch:  800 cost= 0.021006521 W= 2.9764142 b= 4.414169\n",
      "Epoch:  850 cost= 0.021006038 W= 2.97639 b= 4.414642\n",
      "Epoch:  900 cost= 0.021005813 W= 2.97637 b= 4.4149218\n",
      "Epoch:  950 cost= 0.021005742 W= 2.9763625 b= 4.4150767\n",
      "Epoch: 1000 cost= 0.021005724 W= 2.9763587 b= 4.415176\n"
     ]
    },
    {
     "data": {
      "image/png": "[encoded data removed]",
      "text/plain": [
       "<matplotlib.figure.Figure at 0x1a21936048>"
      ]
     },
     "metadata": {},
     "output_type": "display_data"
    },
    {
     "name": "stdout",
     "output_type": "stream",
     "text": [
      "Optimization Finished\n",
      "trianing cost = 0.021005724 W= 2.9763587 b= 4.415176 \n",
      "\n"
     ]
    },
    {
     "data": {
      "image/png": "[encoded data removed]",
      "text/plain": [
       "<matplotlib.figure.Figure at 0x1a18c590b8>"
      ]
     },
     "metadata": {},
     "output_type": "display_data"
    },
    {
     "name": "stdout",
     "output_type": "stream",
     "text": [
      "Epoch:   50 cost= 2.437917471 W= 2.878676 b= 2.1974876\n",
      "Epoch:  100 cost= 0.904416800 W= 2.9702823 b= 3.0576637\n",
      "Epoch:  150 cost= 0.348021746 W= 2.9810212 b= 3.5798604\n",
      "Epoch:  200 cost= 0.143415749 W= 2.985003 b= 3.8965642\n",
      "Epoch:  250 cost= 0.068165660 W= 2.9872801 b= 4.088625\n",
      "Epoch:  300 cost= 0.040489677 W= 2.9886508 b= 4.205094\n",
      "Epoch:  350 cost= 0.030310851 W= 2.9894793 b= 4.2757144\n",
      "Epoch:  400 cost= 0.026565811 W= 2.9899838 b= 4.318544\n",
      "Epoch:  450 cost= 0.025187615 W= 2.9902902 b= 4.3445196\n",
      "Epoch:  500 cost= 0.024680316 W= 2.9904742 b= 4.3602724\n",
      "Epoch:  550 cost= 0.024493475 W= 2.990586 b= 4.3698244\n",
      "Epoch:  600 cost= 0.024424586 W= 2.9906542 b= 4.375617\n",
      "Epoch:  650 cost= 0.024399169 W= 2.9906955 b= 4.379128\n",
      "Epoch:  700 cost= 0.024389766 W= 2.9907215 b= 4.381253\n",
      "Epoch:  750 cost= 0.024386242 W= 2.9907355 b= 4.3825483\n",
      "Epoch:  800 cost= 0.024384901 W= 2.9907465 b= 4.3833437\n",
      "Epoch:  850 cost= 0.024384424 W= 2.990751 b= 4.3838115\n",
      "Epoch:  900 cost= 0.024384234 W= 2.9907498 b= 4.384072\n",
      "Epoch:  950 cost= 0.024384206 W= 2.9907572 b= 4.384209\n",
      "Epoch: 1000 cost= 0.024384152 W= 2.9907622 b= 4.384328\n"
     ]
    },
    {
     "data": {
      "image/png": "[encoded data removed]",
      "text/plain": [
       "<matplotlib.figure.Figure at 0x1a22b95710>"
      ]
     },
     "metadata": {},
     "output_type": "display_data"
    },
    {
     "name": "stdout",
     "output_type": "stream",
     "text": [
      "Optimization Finished\n",
      "trianing cost = 0.024384152 W= 2.9907622 b= 4.384328 \n",
      "\n"
     ]
    },
    {
     "data": {
      "image/png": "[encoded data removed]",
      "text/plain": [
       "<matplotlib.figure.Figure at 0x1a171bea58>"
      ]
     },
     "metadata": {},
     "output_type": "display_data"
    },
    {
     "name": "stdout",
     "output_type": "stream",
     "text": [
      "Epoch:   50 cost= 3.711640835 W= 2.4786534 b= 1.8669134\n",
      "Epoch:  100 cost= 1.248667598 W= 2.8779752 b= 2.862168\n",
      "Epoch:  150 cost= 0.475084722 W= 2.9321384 b= 3.475392\n",
      "Epoch:  200 cost= 0.189686835 W= 2.9499443 b= 3.8490605\n",
      "Epoch:  250 cost= 0.084065124 W= 2.959559 b= 4.0764313\n",
      "Epoch:  300 cost= 0.044972673 W= 2.965312 b= 4.2147555\n",
      "Epoch:  350 cost= 0.030503910 W= 2.9688022 b= 4.298898\n",
      "Epoch:  400 cost= 0.025147224 W= 2.9709277 b= 4.3500915\n",
      "Epoch:  450 cost= 0.023163937 W= 2.9722197 b= 4.381236\n",
      "Epoch:  500 cost= 0.022429515 W= 2.9730055 b= 4.400181\n",
      "Epoch:  550 cost= 0.022157446 W= 2.9734828 b= 4.411704\n",
      "Epoch:  600 cost= 0.022056539 W= 2.9737747 b= 4.418716\n",
      "Epoch:  650 cost= 0.022019077 W= 2.97395 b= 4.422983\n",
      "Epoch:  700 cost= 0.022005197 W= 2.9740589 b= 4.4255657\n",
      "Epoch:  750 cost= 0.022000000 W= 2.974125 b= 4.427139\n",
      "Epoch:  800 cost= 0.021997990 W= 2.9741657 b= 4.428129\n",
      "Epoch:  850 cost= 0.021997299 W= 2.9741886 b= 4.4286757\n",
      "Epoch:  900 cost= 0.021997016 W= 2.9742029 b= 4.429048\n",
      "Epoch:  950 cost= 0.021996874 W= 2.9742057 b= 4.4292846\n",
      "Epoch: 1000 cost= 0.021996852 W= 2.9742107 b= 4.4294133\n"
     ]
    },
    {
     "data": {
      "image/png": "[encoded data removed]",
      "text/plain": [
       "<matplotlib.figure.Figure at 0x1a21a9c6d8>"
      ]
     },
     "metadata": {},
     "output_type": "display_data"
    },
    {
     "name": "stdout",
     "output_type": "stream",
     "text": [
      "Optimization Finished\n",
      "trianing cost = 0.021996852 W= 2.9742107 b= 4.4294133 \n",
      "\n"
     ]
    },
    {
     "data": {
      "image/png": "[encoded data removed]",
      "text/plain": [
       "<matplotlib.figure.Figure at 0x1a1830f940>"
      ]
     },
     "metadata": {},
     "output_type": "display_data"
    },
    {
     "name": "stdout",
     "output_type": "stream",
     "text": [
      "Epoch:   50 cost= 3.126509905 W= 2.852625 b= 1.943682\n",
      "Epoch:  100 cost= 1.132398605 W= 2.9973807 b= 2.913127\n",
      "Epoch:  150 cost= 0.430885077 W= 2.9920528 b= 3.499595\n",
      "Epoch:  200 cost= 0.172527671 W= 2.9844909 b= 3.8554292\n",
      "Epoch:  250 cost= 0.077354372 W= 2.9797013 b= 4.071384\n",
      "Epoch:  300 cost= 0.042295136 W= 2.9767847 b= 4.2024355\n",
      "Epoch:  350 cost= 0.029376604 W= 2.9750147 b= 4.281974\n",
      "Epoch:  400 cost= 0.024615422 W= 2.9739368 b= 4.3302474\n",
      "Epoch:  450 cost= 0.022860045 W= 2.9732869 b= 4.3595457\n",
      "Epoch:  500 cost= 0.022212524 W= 2.9728901 b= 4.377327\n",
      "Epoch:  550 cost= 0.021973489 W= 2.97265 b= 4.388114\n",
      "Epoch:  600 cost= 0.021885050 W= 2.9725034 b= 4.3946633\n",
      "Epoch:  650 cost= 0.021852229 W= 2.9724174 b= 4.398641\n",
      "Epoch:  700 cost= 0.021840017 W= 2.9723606 b= 4.401052\n",
      "Epoch:  750 cost= 0.021835433 W= 2.9723287 b= 4.402517\n",
      "Epoch:  800 cost= 0.021833729 W= 2.9723094 b= 4.403397\n",
      "Epoch:  850 cost= 0.021833017 W= 2.9722948 b= 4.4039397\n",
      "Epoch:  900 cost= 0.021832746 W= 2.9722853 b= 4.404292\n",
      "Epoch:  950 cost= 0.021832673 W= 2.9722793 b= 4.4044547\n",
      "Epoch: 1000 cost= 0.021832634 W= 2.972297 b= 4.404551\n"
     ]
    },
    {
     "data": {
      "image/png": "[encoded data removed]",
      "text/plain": [
       "<matplotlib.figure.Figure at 0x1a22fdd780>"
      ]
     },
     "metadata": {},
     "output_type": "display_data"
    },
    {
     "name": "stdout",
     "output_type": "stream",
     "text": [
      "Optimization Finished\n",
      "trianing cost = 0.021832634 W= 2.972297 b= 4.404551 \n",
      "\n"
     ]
    },
    {
     "data": {
      "text/plain": [
       "-6.824797464139555"
      ]
     },
     "execution_count": 52,
     "metadata": {},
     "output_type": "execute_result"
    }
   ],
   "source": [
    "from sklearn.model_selection import cross_val_score\n",
    "cross_val_score(lr_model, trainX, trainY, cv=5).mean()"
   ]
  },
  {
   "cell_type": "markdown",
   "metadata": {},
   "source": [
    "#use tensorflow to implement logistic regression"
   ]
  },
  {
   "cell_type": "code",
   "execution_count": 53,
   "metadata": {
    "collapsed": true
   },
   "outputs": [],
   "source": [
    "tf.reset_default_graph()"
   ]
  },
  {
   "cell_type": "code",
   "execution_count": 54,
   "metadata": {
    "collapsed": false
   },
   "outputs": [
    {
     "data": {
      "image/png": "[encoded data removed]",
      "text/plain": [
       "<matplotlib.figure.Figure at 0x1a230cbcf8>"
      ]
     },
     "metadata": {},
     "output_type": "display_data"
    }
   ],
   "source": [
    "N = 100\n",
    "D = 2\n",
    "trainX = np.random.randn(N,D)\n",
    "\n",
    "delta = 1.75\n",
    "trainX[:N//2] += np.array([delta, delta])\n",
    "trainX[N//2:] += np.array([-delta, -delta])  #linear seperable data set\n",
    "\n",
    "# generate a one d array, with the first N//2 as 0, second N//2 as 1\n",
    "trainY = np.array([0] * (N//2) + [1] * (N//2))\n",
    "plt.scatter(trainX[:, 0], trainX[:,1], s = 100, c = trainY, alpha = 0.5)\n",
    "plt.show()"
   ]
  },
  {
   "cell_type": "code",
   "execution_count": 55,
   "metadata": {
    "collapsed": true
   },
   "outputs": [],
   "source": [
    "original_label = np.array([0] * (N//2) + [1] * (N//2))"
   ]
  },
  {
   "cell_type": "code",
   "execution_count": 76,
   "metadata": {
    "collapsed": true
   },
   "outputs": [],
   "source": [
    "from sklearn.metrics import accuracy_score\n",
    "class LogisticRegressionTF(BaseEstimator):    # inherit the BaseEstimator\n",
    "    def __init__(self, learning_rate, training_epochs, display_step, annotate=False):\n",
    "        self.sess = tf.Session()\n",
    "        self.training_epochs = training_epochs\n",
    "        self.learning_rate = learning_rate\n",
    "        \n",
    "        self.display_step = display_step\n",
    "        self.annotate = annotate\n",
    "        \n",
    "    def fit( self, trainX, trainY):\n",
    "        N, D = trainX.shape\n",
    "        _, c = trainY.shape\n",
    "        \n",
    "        # build a graph\n",
    "        # define the input\n",
    "        self.X = tf.placeholder(tf.float64, shape=[None, D])\n",
    "        self.Y = tf.placeholder(tf.float64, shape=[None, c])\n",
    "        \n",
    "        # define the assignemnts\n",
    "        self.W = tf.Variable(np.random.randn(D,c), name = \"weight\")\n",
    "        self.b = tf.Variable(np.random.randn(c), name = \"bias\")\n",
    "        \n",
    "        # build the function f tensor p1 = sigmoid(WX+b)\n",
    "        output_logits = tf.add(tf.matmul(self.X, self.W), self.b)\n",
    "        self.pred = tf.sigmoid(output_logits)\n",
    "        \n",
    "        # cost function\n",
    "        # call the \n",
    "        # ??? why reduce mean ?\n",
    "        cost = tf.reduce_mean(\n",
    "            tf.nn.sigmoid_cross_entropy_with_logits(\n",
    "                logits=output_logits, labels = self.Y))\n",
    "        \n",
    "        optimizer = tf.train.GradientDescentOptimizer(\n",
    "            self.learning_rate).minimize(cost)\n",
    "        \n",
    "        init = tf.global_variables_initializer()\n",
    "        self.sess.run(init)\n",
    "        \n",
    "        # 可视化初始化的模型边界\n",
    "        if self.annotate:\n",
    "            assert len(trainX.shape) == 2, \"Only 2d points are allowed!!\"\n",
    "\n",
    "            plt.scatter(trainX[:,0], trainX[:,1], s=100, c=original_label, alpha=0.5) \n",
    "\n",
    "            h = .02 \n",
    "            x_min, x_max = trainX[:, 0].min() - 1, trainX[:, 0].max() + 1\n",
    "            y_min, y_max = trainX[:, 1].min() - 1, trainX[:, 1].max() + 1\n",
    "            xx, yy = np.meshgrid(np.arange(x_min, x_max, h),np.arange(y_min, y_max, h))\n",
    "\n",
    "            Z = self.predict(np.c_[xx.ravel(), yy.ravel()])\n",
    "            Z = Z.reshape(xx.shape)\n",
    "            plt.contour(xx, yy, Z, cmap=plt.cm.Paired)\n",
    "            plt.title(\"This is where model starts to learn!!\")\n",
    "            plt.show()\n",
    "        \n",
    "        # start training\n",
    "        for epoch in range(self.training_epochs):\n",
    "            for (x, y) in zip(trainX, trainY):\n",
    "                self.sess.run(optimizer, \n",
    "                              feed_dict = {self.X: np.asmatrix(x),\n",
    "                                           self.Y: np.asmatrix(y)})\n",
    "                \n",
    "            if (epoch+1) % display_step == 0:\n",
    "                c = self.sess.run(cost, feed_dict={self.X: trainX, self.Y:trainY})\n",
    "                print(\"Epoch:\", '%04d' % (epoch+1), \"cost=\", \"{:.9f}\".format(c), \\\n",
    "            \"W=\", self.sess.run(self.W), \"b=\", self.sess.run(self.b))\n",
    "        \n",
    "                if self.annotate:\n",
    "                    assert len(trainX.shape) == 2, \"Only 2d points are allowed!!\"\n",
    "\n",
    "                    plt.scatter(trainX[:,0], trainX[:,1], s=100, c=original_label, alpha=0.5) \n",
    "             \n",
    "                    h = .02 \n",
    "                    x_min, x_max = trainX[:, 0].min() - 1, trainX[:, 0].max() + 1\n",
    "                    y_min, y_max = trainX[:, 1].min() - 1, trainX[:, 1].max() + 1\n",
    "                    xx, yy = np.meshgrid(np.arange(x_min, x_max, h),np.arange(y_min, y_max, h))\n",
    "\n",
    "                    Z = self.predict(np.c_[xx.ravel(), yy.ravel()])\n",
    "                    Z = Z.reshape(xx.shape)\n",
    "                    plt.contour(xx, yy, Z, cmap=plt.cm.Paired)\n",
    "                    plt.show()\n",
    "        print(\"Optiomization finished\")\n",
    "        training_cost = self.sess.run(cost, \n",
    "                                      feed_dict={self.X: trainX,\n",
    "                                           self.Y: trainY})\n",
    "        print(\"Training cost=\", training_cost, \"W=\", self.sess.run(self.W), \"b=\", self.sess.run(self.b), '\\n')\n",
    "\n",
    "\n",
    "    def predict(self, testX):\n",
    "        predictio = self.sess.run(self.pred, feed_dict={self.X: test})\n",
    "        return np.argmax(prediction, axis = 1)\n",
    "    \n",
    "    def score(self, testX, testY):\n",
    "        _, true_result = np.where(testY == 1)\n",
    "        result = self.predict(testX)\n",
    "        return accuracy_score(true_result, result)"
   ]
  },
  {
   "cell_type": "code",
   "execution_count": 77,
   "metadata": {
    "collapsed": true
   },
   "outputs": [],
   "source": [
    "from sklearn.preprocessing import OneHotEncoder"
   ]
  },
  {
   "cell_type": "code",
   "execution_count": 78,
   "metadata": {
    "collapsed": true
   },
   "outputs": [],
   "source": [
    "le = OneHotEncoder()\n",
    "le.fit(trainY.reshape(N, -1))\n",
    "trainY = le.transform(trainY.reshape(N, -1)).toarray()"
   ]
  },
  {
   "cell_type": "code",
   "execution_count": 79,
   "metadata": {
    "collapsed": false
   },
   "outputs": [
    {
     "name": "stdout",
     "output_type": "stream",
     "text": [
      "Epoch: 0050 cost= 0.185211072 W= [[ 0.61878979 -0.06627527 -1.3345135   1.39410876 -0.3127128   2.00758166\n",
      "   1.57491563 -1.44520932 -0.89701807  0.78938473 -0.62218779 -0.07263491\n",
      "   1.70864318 -0.09974167 -0.31299991  2.46252314  0.67540933  1.32578304\n",
      "   2.43803001 -0.54856686  0.81479959 -0.85238095 -0.34695052  1.56578915\n",
      "   0.9463715  -0.99804067 -1.37721359  0.88163037 -0.46637119  1.67629769\n",
      "   0.37148086 -0.98189905]\n",
      " [ 0.33303691 -2.36271732 -0.7525539   0.26926889 -1.22571978 -0.55569618\n",
      "  -0.2927742   0.10188607 -0.12780812  0.27820882  2.21197466 -1.31186813\n",
      "  -0.15462363 -1.02753221 -0.87190418 -1.0529351  -1.85197344 -0.02710253\n",
      "   0.58547524 -1.25395812  0.47315184 -0.52147742 -0.59821045  1.03903722\n",
      "   0.34621872 -0.45284331  0.0131128   0.66755562 -0.35354803  0.24587929\n",
      "   0.87074043 -0.79762762]] b= [ 0.23108677 -0.14010489  1.25436562  0.09059065  1.33001141 -0.01062537\n",
      " -0.06591978  1.13315046 -0.75104813  0.22935501  0.1235277  -0.43298432\n",
      " -0.7762467  -0.09580024  0.07768713  0.0629684  -1.80582107 -0.1740252\n",
      "  0.50330136  1.30328315  0.96981821  1.84929821 -0.29415434  0.28122462\n",
      " -1.17467196 -1.62695314  0.16719436 -0.61620866 -0.01299993  0.23414154\n",
      " -0.45067332  1.1294765 ]\n",
      "Epoch: 0100 cost= 0.104762675 W= [[ 0.87250538 -0.23993501 -1.43064247  1.50162497 -0.5653003   2.16199522\n",
      "   1.73978263 -1.62966305 -1.14138401  1.00631709 -0.21496447 -0.34942898\n",
      "   1.84614524 -0.39896452 -0.56036206  2.65601977  0.11226581  1.48331376\n",
      "   2.46958778 -0.73059287  1.03379041 -1.11818818 -0.63924942  1.60888988\n",
      "   1.15513579 -1.23949573 -1.52445859  1.02419697 -0.760822    1.76035419\n",
      "   0.60551219 -1.11606092]\n",
      " [ 0.60767888 -2.40831583 -0.88838856  0.4408818  -1.39909988 -0.19307339\n",
      "   0.03779441 -0.24101407 -0.43803786  0.53824604  2.33236673 -1.45069537\n",
      "   0.13539537 -1.20865101 -1.0517768  -0.55363712 -2.10915459  0.24750675\n",
      "   0.64291847 -1.38880441  0.70238515 -0.83938157 -0.84378883  1.08889732\n",
      "   0.62560844 -0.71575219 -0.24811088  0.82769831 -0.65241488  0.3937495\n",
      "   1.05128783 -0.95137796]] b= [ 0.19186343 -0.11246086  1.17305357  0.08316251  1.20722464  0.0061162\n",
      " -0.04799662  0.99419694 -0.64385923  0.19454172  0.08566896 -0.36566543\n",
      " -0.68374704 -0.06816166  0.07932939  0.07804635 -1.55839348 -0.14824265\n",
      "  0.48635581  1.20435186  0.85041315  1.65410616 -0.24071426  0.26709968\n",
      " -1.04094417 -1.45017     0.14286813 -0.56192613 -0.00477168  0.21784824\n",
      " -0.40614036  1.04207077]\n",
      "Epoch: 0150 cost= 0.076653818 W= [[ 1.01856576 -0.37212359 -1.50302714  1.58101826 -0.72108689  2.25112125\n",
      "   1.83713768 -1.73346983 -1.27904659  1.13744383  0.03715814 -0.52505932\n",
      "   1.93150145 -0.57721732 -0.71496245  2.75304355 -0.21096381  1.58228509\n",
      "   2.49833922 -0.8548107   1.16905733 -1.26024792 -0.8055067   1.64806208\n",
      "   1.27639619 -1.38237854 -1.61914323  1.12508723 -0.92041418  1.82564466\n",
      "   0.7527823  -1.21109066]\n",
      " [ 0.76438184 -2.44360136 -0.98955005  0.56473595 -1.50547013  0.01892146\n",
      "   0.23184451 -0.43957353 -0.61073439  0.69344197  2.39859722 -1.5388664\n",
      "   0.31709365 -1.31708801 -1.16513771 -0.28553695 -2.22617187  0.41732409\n",
      "   0.69444095 -1.48118673  0.84281966 -1.01286714 -0.98321771  1.13384452\n",
      "   0.78915159 -0.87036982 -0.41321851  0.94024221 -0.81354271  0.5058574\n",
      "   1.16563445 -1.0598182 ]] b= [ 0.16694094 -0.09082655  1.10983904  0.07709662  1.12637849  0.01666513\n",
      " -0.0375894   0.90770091 -0.57867152  0.17165102  0.05661465 -0.32014964\n",
      " -0.62264285 -0.04936445  0.08173473  0.08888291 -1.40065293 -0.1326658\n",
      "  0.47126694  1.13318511  0.77240003  1.5363841  -0.20745271  0.25460238\n",
      " -0.95792337 -1.33538974  0.12786689 -0.52372204  0.00211598  0.20491927\n",
      " -0.37861294  0.97807184]\n",
      "Epoch: 0200 cost= 0.062199921 W= [[ 1.12335132 -0.47813597 -1.56140977  1.64475175 -0.83365938  2.31477408\n",
      "   1.90774591 -1.80631414 -1.37697473  1.23337064  0.21417205 -0.65334836\n",
      "   1.99409743 -0.70494606 -0.82858817  2.81764012 -0.42813818  1.6559585\n",
      "   2.52480432 -0.94922875  1.26820276 -1.35743612 -0.92355182  1.68403042\n",
      "   1.36294414 -1.48478084 -1.69031043  1.20400726 -1.03251304  1.87956412\n",
      "   0.86139031 -1.28520616]\n",
      " [ 0.87590926 -2.47273696 -1.07009857  0.66203916 -1.58290304  0.16780519\n",
      "   0.36934375 -0.57761291 -0.73179768  0.80555942  2.44410805 -1.60464365\n",
      "   0.44829045 -1.39620917 -1.249394   -0.10590566 -2.2976445   0.54080019\n",
      "   0.74118163 -1.55192413  0.9450396  -1.13139924 -1.08263586  1.17480379\n",
      "   0.90479836 -0.98014147 -0.53439424  1.02755587 -0.92619689  0.5963817\n",
      "   1.25063583 -1.14381916]] b= [ 0.14853975 -0.07337774  1.05774349  0.07200447  1.06533864  0.02388361\n",
      " -0.03066737  0.84507805 -0.53139843  0.15447867  0.03448783 -0.28613676\n",
      " -0.57737302 -0.03537058  0.08390112  0.09679127 -1.28841769 -0.12177206\n",
      "  0.45771684  1.07699731  0.71404276  1.45047437 -0.18325292  0.24345146\n",
      " -0.89713467 -1.2492798   0.11726669 -0.49412616  0.00769909  0.19423018\n",
      " -0.35859139  0.92714786]\n",
      "Epoch: 0250 cost= 0.053329902 W= [[ 1.20593236 -0.56639567 -1.61055266  1.69842194 -0.92188569  2.36490382\n",
      "   1.96390439 -1.86292791 -1.45386054  1.30981862  0.34844869 -0.7544821\n",
      "   2.04400681 -0.8049071  -0.91896468  2.86645937 -0.58633629  1.71536742\n",
      "   2.54936775 -1.02552435  1.34708196 -1.43154797 -1.01582156  1.71733229\n",
      "   1.43082582 -1.56510559 -1.74800474  1.26927307 -1.11987327  1.92580733\n",
      "   0.94797431 -1.34627905]\n",
      " [ 0.9631765  -2.49780425 -1.13703389  0.74239136 -1.64418005  0.28234655\n",
      "   0.47598639 -0.68289934 -0.82557292  0.89390527  2.47917161 -1.65773184\n",
      "   0.55062367 -1.45925995 -1.31708783  0.02805593 -2.34831931  0.63809245\n",
      "   0.78397904 -1.60951173  1.02584541 -1.22123604 -1.16067402  1.21245907\n",
      "   0.99436826 -1.06537652 -0.63036316  1.09917551 -1.01360548  0.67244583\n",
      "   1.31887367 -1.21253265]] b= [ 0.13399713 -0.05895751  1.01318987  0.06766997  1.01587929  0.02918074\n",
      " -0.02561699  0.79588436 -0.49427524  0.14077677  0.01722037 -0.25917249\n",
      " -0.54145951 -0.02437299  0.0857      0.10267105 -1.20270089 -0.11345933\n",
      "  0.4454649   1.03022448  0.66736743  1.38197468 -0.16431117  0.23343456\n",
      " -0.8488494  -1.1800023   0.10912721 -0.46988277  0.01228439  0.18517021\n",
      " -0.34276006  0.88460539]\n",
      "Epoch: 0300 cost= 0.047286564 W= [[ 1.27453198 -0.64193647 -1.65313662  1.7450399  -0.99454054  2.4066321\n",
      "   2.01095729 -1.90957093 -1.5176201   1.37379973  0.4558726  -0.83809507\n",
      "   2.08583221 -0.8872999  -0.99430991  2.90601433 -0.70862029  1.76555272\n",
      "   2.57232244 -1.08965732  1.41293777 -1.49161874 -1.09196334  1.74837767\n",
      "   1.48702173 -1.63150697 -1.79690753  1.32519208 -1.19192899  1.96649396\n",
      "   1.02028354 -1.39842688]\n",
      " [ 1.03519687 -2.51997801 -1.19432842  0.81096208 -1.695124    0.3754166\n",
      "   0.56322032 -0.76786548 -0.90239632  0.96709541  2.50804809 -1.70260257\n",
      "   0.63443169 -1.51207412 -1.37400706  0.13449103 -2.38766162  0.71854041\n",
      "   0.82346842 -1.65824829  1.09290615 -1.29352644 -1.22529502  1.24733067\n",
      "   1.0675712  -1.13513328 -0.70997137  1.1600636  -1.08539933  0.73813598\n",
      "   1.3761932  -1.27078054]] b= [ 0.12205082 -0.04681165  0.97410146  0.06395141  0.97404064  0.03330953\n",
      " -0.0216665   0.75523284 -0.46376797  0.12944806  0.00338187 -0.23696872\n",
      " -0.51165531 -0.01543286  0.08714172  0.10721614 -1.13375107 -0.10673009\n",
      "  0.43432425  0.98993996  0.62851273  1.32450945 -0.14884597  0.22438709\n",
      " -0.80859143 -1.12192476  0.10251058 -0.4492821   0.01609173  0.17736328\n",
      " -0.32958306  0.84791105]\n",
      "Epoch: 0350 cost= 0.042875436 W= [[ 1.33347286 -0.70796695 -1.6908198   1.7864194  -1.05639963  2.4426172\n",
      "   2.05171521 -1.94946515 -1.57236633  1.42907381  0.54514727 -0.90949526\n",
      "   2.12204976 -0.95756864 -1.05911579  2.93948562 -0.8074671   1.80925057\n",
      "   2.59389682 -1.14507214  1.4696933  -1.54225041 -1.15702726  1.77748681\n",
      "   1.53519687 -1.68831042 -1.83959001  1.37429097 -1.25353119  2.0029571\n",
      "   1.08256579 -1.44407508]\n",
      " [ 1.096705   -2.53998242 -1.24444675  0.87085803 -1.73887696  0.45383722\n",
      "   0.63712538 -0.8390733  -0.96763547  1.02974453  2.53285093 -1.74168826\n",
      "   0.70540296 -1.55775419 -1.42331837  0.22267036 -2.42002184  0.7872346\n",
      "   0.86014259 -1.70061193  1.15037552 -1.35401059 -1.28066461  1.27982381\n",
      "   1.12955693 -1.1942376  -0.77809692  1.21313684 -1.14653174  0.79601459\n",
      "   1.42580243 -1.32141347]] b= [ 0.11199158 -0.03642977  0.93916524  0.06074769  0.9376116   0.03669564\n",
      " -0.01840296  0.72047435 -0.43795049  0.11986415 -0.00796024 -0.21820235\n",
      " -0.48612673 -0.00800114  0.08826224  0.11088369 -1.07616319 -0.10104393\n",
      "  0.4241466   0.95441217  0.59529706  1.27469491 -0.13587     0.21617863\n",
      " -0.77393228 -1.07189871  0.09690285 -0.43131608  0.01927416  0.17055789\n",
      " -0.31822713  0.81553953]\n",
      "Epoch: 0400 cost= 0.039495600 W= [[ 1.38531816 -0.76664111 -1.72469946  1.82374133 -1.11034285  2.47441573\n",
      "   2.0878429  -1.98448259 -1.62051823  1.47790025  0.62145259 -0.97190474\n",
      "   2.154142   -1.01896028 -1.11610985  2.96865408 -0.89011112  1.84811769\n",
      "   2.61427263 -1.19393592  1.51971643 -1.58610249 -1.21399462  1.80491481\n",
      "   1.57751556 -1.7380866  -1.87762128  1.4181821  -1.30751515  2.03609201\n",
      "   1.13740566 -1.48477361]\n",
      " [ 1.15050607 -2.55829459 -1.28902041  0.924094   -1.77732887  0.52164187\n",
      "   0.70131193 -0.90038048 -1.02444192  1.08462073  2.55476629 -1.77646241\n",
      "   0.76698007 -1.59815482 -1.46695105  0.29791797 -2.44768283  0.84725549\n",
      "   0.89439154 -1.73816254  1.20076064 -1.40602255 -1.32924591  1.31026041\n",
      "   1.18337948 -1.24556496 -0.83771475  1.26025745 -1.19989848  0.84779526\n",
      "   1.46965871 -1.36625625]] b= [ 0.10337642 -0.02745359  0.90749766  0.05798281  0.90523108  0.03959314\n",
      " -0.01558695  0.69002176 -0.41564893  0.11162706 -0.01742188 -0.20204041\n",
      " -0.46374639 -0.00172807  0.08909902  0.1139656  -1.02672957 -0.09608053\n",
      "  0.41481212  0.92253039  0.56635929  1.2305174  -0.12477475  0.20870394\n",
      " -0.7434068  -1.02797342  0.091997   -0.4153413   0.02194166  0.16457577\n",
      " -0.30819165  0.78649993]\n",
      "Epoch: 0450 cost= 0.036811332 W= [[ 1.4317171  -0.81946736 -1.75553954  1.85781955 -1.15823764  2.50301839\n",
      "   2.12041033 -2.01580632 -1.66362299  1.52174713  0.68807969 -1.0274214\n",
      "   2.18306645 -1.07356688 -1.16707454  2.99461447 -0.96101095  1.88323631\n",
      "   2.63359697 -1.23769918  1.56454819 -1.6248498  -1.26477552  1.83086837\n",
      "   1.6153637  -1.7824885  -1.9120321   1.45795915 -1.35568655  2.06653037\n",
      "   1.18649489 -1.52157375]\n",
      " [ 1.19840348 -2.57524556 -1.32918406  0.97205201 -1.81170601  0.58140653\n",
      "   0.75809739 -0.95423622 -1.07482682  1.13351875  2.57452241 -1.80788769\n",
      "   0.82139579 -1.63447718 -1.50617143  0.36355247 -2.47197013  0.90060918\n",
      "   0.92652926 -1.77194639  1.24569297 -1.45166651 -1.37262098  1.33890055\n",
      "   1.23099666 -1.29096659 -0.89077304  1.30268818 -1.24734408  0.8946809\n",
      "   1.50904759 -1.40654729]] b= [ 0.09590783 -0.01962317  0.87847528  0.05559763  0.87600111  0.04216096\n",
      " -0.01307107  0.66285248 -0.39609107  0.10446667 -0.0254227  -0.18792433\n",
      " -0.44377551  0.00362365  0.08968554  0.11665021 -0.98342443 -0.09163725\n",
      "  0.4062225   0.89353879  0.54078909  1.19067986 -0.1151565   0.20187675\n",
      " -0.71606271 -0.9888503   0.08759772 -0.40092245  0.0241761   0.15928502\n",
      " -0.29915346  0.76011152]\n",
      "Epoch: 0500 cost= 0.034619927 W= [[ 1.47379566 -0.86753937 -1.78389347  1.88923998 -1.20136248  2.52909549\n",
      "   2.15014745 -2.04423162 -1.70273221  1.56162433  0.74723245 -1.07748564\n",
      "   2.20947763 -1.1228155  -1.21323982  3.01808716 -1.0230646   1.91535404\n",
      "   2.65199065 -1.27737978  1.60524884 -1.65961502 -1.31066889  1.85551739\n",
      "   1.64968291 -1.82264248 -1.94353755  1.49439915 -1.39926876  2.09473536\n",
      "   1.23100235 -1.55522167]\n",
      " [ 1.24162737 -2.5910746  -1.36575796  1.01572186 -1.84284994  0.63487367\n",
      "   0.80905738 -1.00228794 -1.12015355  1.1776704   2.59259757 -1.83662924\n",
      "   0.87017674 -1.66754599 -1.54185755  0.42177295 -2.49371575  0.94867541\n",
      "   0.95681224 -1.80269983  1.28629473 -1.4923538  -1.41186876  1.36595743\n",
      "   1.27373787 -1.33170415 -0.93861726  1.34132542 -1.29011831  0.93754875\n",
      "   1.54486061 -1.4431655 ]] b= [ 0.08937516 -0.01274439  0.85164141  0.05354491  0.8492976   0.04450249\n",
      " -0.01076035  0.6382704  -0.37873973  0.09819003 -0.03225849 -0.17546079\n",
      " -0.42570548  0.00822303  0.09005057  0.11906173 -0.94489767 -0.08757942\n",
      "  0.39829596  0.8668992   0.51794543  1.15429668 -0.10673252  0.19562537\n",
      " -0.69124591 -0.95361784  0.08357466 -0.38775165  0.0260403   0.15458474\n",
      " -0.2908925   0.73588599]\n",
      "Epoch: 0550 cost= 0.032791463 W= [[ 1.51235808 -0.91167351 -1.81017517  1.91843914 -1.24063032  2.55312225\n",
      "   2.17757549 -2.070319   -1.73859433  1.59825757  0.80045107 -1.12312838\n",
      "   2.23384292 -1.1677233  -1.25549079  3.03957134 -1.07824306  1.94500999\n",
      "   2.66955421 -1.31371906  1.64257978 -1.6911873  -1.35259908  1.87900333\n",
      "   1.68114264 -1.85935098 -1.97265497  1.52807464 -1.43913028  2.12105723\n",
      "   1.27177009 -1.58626638]\n",
      " [ 1.28105554 -2.60596051 -1.39935399  1.05583705 -1.87136362  0.68327571\n",
      "   0.85531167 -1.04569468 -1.16138979  1.21795871  2.60932278 -1.86316686\n",
      "   0.91441094 -1.69795331 -1.5746444   0.47410752 -2.51347458  0.99244398\n",
      "   0.98545276 -1.83096102  1.32337142 -1.52907613 -1.44775932  1.39160805\n",
      "   1.31254674 -1.36867591 -0.98221579  1.37682886 -1.32910845  0.97705841\n",
      "   1.57774242 -1.47675719]] b= [ 0.08362306 -0.00666867  0.82665125  0.05178615  0.82466888  0.04668716\n",
      " -0.00859134  0.61578071 -0.36320504  0.09265386 -0.03814438 -0.16436203\n",
      " -0.40917207  0.01219505  0.09021854  0.12128404 -0.91020781 -0.08381394\n",
      "  0.39096372  0.84221446  0.4973586   1.12073554 -0.09929641  0.18988955\n",
      " -0.66848749 -0.9216095   0.07983743 -0.37560334  0.02758366  0.15039565\n",
      " -0.28325262  0.71346092]\n",
      "Epoch: 0600 cost= 0.031238641 W= [[ 1.54799953 -0.95249422 -1.83470237  1.94575152 -1.27671545  2.57544824\n",
      "   2.2030802  -2.09447852 -1.77176175  1.63218658  0.84885051 -1.16511253\n",
      "   2.25650799 -1.20904101 -1.29448604  3.05942728 -1.127939    1.97260639\n",
      "   2.68637222 -1.34727352  1.67710673 -1.72014244 -1.39124781  1.90144526\n",
      "   1.71023619 -1.89320623 -1.99977136  1.55942006 -1.47591071  2.14576763\n",
      "   1.30942524 -1.61512375]\n",
      " [ 1.31733696 -2.62004062 -1.43044049  1.09295654 -1.89769416  0.72751579\n",
      "   0.89768455 -1.08530172 -1.19924764  1.25503887  2.62493682 -1.88785868\n",
      "   0.95490029 -1.72613935 -1.60500678  0.52165913 -2.53163487  1.03264927\n",
      "   1.01262849 -1.85713537  1.35752118 -1.56255644 -1.48086229  1.41600099\n",
      "   1.34811704 -1.40254395 -1.02228894  1.4096984  -1.36496788  1.01371852\n",
      "   1.60817489 -1.5078115 ]] b= [ 0.07853327 -0.0012798   0.80323783  0.0502894   0.80177728  0.04876282\n",
      " -0.00652045  0.59501931 -0.34919433  0.08774841 -0.04324129 -0.15441082\n",
      " -0.39390592  0.01563502  0.09021024  0.12337499 -0.87867305 -0.08027449\n",
      "  0.38416729  0.81918289  0.47867336  1.0895287  -0.09269242  0.18461809\n",
      " -0.6474397  -0.89232188  0.07632145 -0.36430748  0.02884592  0.14665415\n",
      " -0.27611928  0.69255971]\n",
      "Epoch: 0650 cost= 0.029900514 W= [[ 1.5811733  -0.99048929 -1.85772438  1.97143936 -1.31012982  2.59633842\n",
      "   2.22695554 -2.11701941 -1.80265424  1.6638242   0.89326184 -1.20401838\n",
      "   2.2777359  -1.24733863 -1.33072912  3.07792367 -1.17316862  1.99845174\n",
      "   2.70251656 -1.37847142  1.70926181 -1.74691346 -1.42713265  1.9229444\n",
      "   1.73733775 -1.92465799 -2.02518421  1.58877313 -1.5100952   2.16908174\n",
      "   1.34444767 -1.64211644]\n",
      " [ 1.35096539 -2.63342284 -1.45938381  1.12751618 -1.92218244  0.76827526\n",
      "   0.93680047 -1.12174389 -1.23426665  1.28941079  2.6396178  -1.91097955\n",
      "   0.99225231 -1.7524408  -1.63330946  0.56524887 -2.54847894  1.06985127\n",
      "   1.03848964 -1.88153603  1.38920052 -1.59333774 -1.51161138  1.43926225\n",
      "   1.38097367 -1.43381022 -1.05938714  1.44032206 -1.39819214  1.04792963\n",
      "   1.6365281  -1.53670755]] b= [ 0.07401338  0.00351483  0.78119013  0.04902785  0.78036354  0.05076317\n",
      " -0.00451706  0.57571056 -0.33648189  0.08338751 -0.04767253 -0.14543896\n",
      " -0.37970251  0.01861746  0.09004346  0.12537525 -0.84978379 -0.07691253\n",
      "  0.37785651  0.79756968  0.46161401  1.06032003 -0.0867999   0.17976709\n",
      " -0.62783738 -0.86536459  0.07297939 -0.35373282  0.02985956  0.14330823\n",
      " -0.26940617  0.6729663 ]\n",
      "Epoch: 0700 cost= 0.028733169 W= [[ 1.6122329  -1.02604665 -1.87944046  1.9957123  -1.34127119  2.61599862\n",
      "   2.24943091 -2.13818078 -1.83159858  1.69349355  0.93432007 -1.24029751\n",
      "   2.2977316  -1.2830593  -1.36461385  3.09526635 -1.2146939   2.02278815\n",
      "   2.71804886 -1.40764932  1.73938275 -1.77183423 -1.46065605  1.94358756\n",
      "   1.76273805 -1.95405606 -2.04912739  1.61640181 -1.5420608   2.19117308\n",
      "   1.37721298 -1.66749992]\n",
      " [ 1.38232549 -2.64619362 -1.48647578  1.15986251 -1.94509443  0.80608067\n",
      "   0.97314383 -1.15550979 -1.26686563  1.32146477  2.65350232 -1.9327453\n",
      "   1.02693806 -1.77712134 -1.65983904  0.60550395 -2.56421867  1.10448688\n",
      "   1.06316436 -1.90441002  1.41876593 -1.62183803 -1.54034472  1.46149958\n",
      "   1.41152331 -1.46286426 -1.09394059  1.4690072  -1.42916628  1.08001292\n",
      "   1.66309267 -1.56374517]] b= [ 0.06998967  0.00779023  0.76033829  0.04797867  0.76022412  0.05271233\n",
      " -0.00255925  0.55764079 -0.32488966  0.07950206 -0.05153463 -0.13731334\n",
      " -0.36640304  0.02120188  0.08973346  0.12731384 -0.82314887 -0.07369184\n",
      "  0.371988    0.7771884   0.445962    1.03283187 -0.08152325  0.17529862\n",
      " -0.60947364 -0.84042823  0.06977585 -0.343776    0.03065161  0.14031479\n",
      " -0.26304676  0.65450865]\n",
      "Epoch: 0750 cost= 0.027704114 W= [[ 1.64145953 -1.0594797  -1.90001242  2.01874072 -1.37045463  2.63459208\n",
      "   2.270689   -2.1581514  -1.85885436  1.72145248  0.97252074 -1.27430827\n",
      "   2.31665803 -1.3165544  -1.39645421  3.11161662 -1.25309967  2.04580933\n",
      "   2.7330224  -1.43507648  1.7677387  -1.79516755 -1.4921373   1.9634498\n",
      "   1.78666762 -1.98167798 -2.07178832  1.64252238 -1.57210659  2.21218376\n",
      "   1.40802075 -1.69147995]\n",
      " [ 1.41172293 -2.6584234  -1.51195265  1.19027571 -1.96664176  0.8413473\n",
      "   1.00709797 -1.1869833  -1.29737626  1.35151159  2.66669759 -1.95332874\n",
      "   1.05932998 -1.8003915  -1.684825    0.64291401 -2.5790173   1.13690356\n",
      "   1.08676284 -1.92595564  1.44650122 -1.64838583 -1.56733128  1.48280591\n",
      "   1.44008745 -1.4900144  -1.12629193  1.49600149 -1.45819564  1.11022989\n",
      "   1.68810118 -1.58916553]] b= [ 6.64022078e-02  1.16080045e-02  7.40543497e-01  4.71222576e-02\n",
      "  7.41196205e-01  5.46278118e-02 -6.31148060e-04  5.40640974e-01\n",
      " -3.14274535e-01  7.60357043e-02 -5.49045599e-02 -1.29926740e-01\n",
      " -3.53881798e-01  2.34366250e-02  8.92935063e-02  1.29211765e-01\n",
      " -7.98461213e-01 -7.05848414e-02  3.66523972e-01  7.57888416e-01\n",
      "  4.31540865e-01  1.00684328e+00 -7.67853370e-02  1.71179633e-01\n",
      " -5.92183873e-01 -8.17262994e-01  6.66838527e-02 -3.34354218e-01\n",
      "  3.12447763e-02  1.37637566e-01 -2.56988809e-01  6.37047421e-01]\n",
      "Epoch: 0800 cost= 0.026788758 W= [[ 1.66908074 -1.09104515 -1.91957348  2.04066509 -1.39793395  2.65225057\n",
      "   2.29087779 -2.17708301 -1.8846314   1.74791024  1.00825762 -1.3063398\n",
      "   2.33464693 -1.34810733 -1.4265046   3.1271033  -1.28884385  2.06767282\n",
      "   2.74748356 -1.46097165  1.79454771 -1.81712403 -1.52183409  1.98259646\n",
      "   1.80931234 -2.00774775 -2.0933196   1.66731205 -1.60047392  2.23223169\n",
      "   1.4371139  -1.71422478]\n",
      " [ 1.43940477 -2.6701704  -1.53600827  1.21898552 -1.98699561  0.87440845\n",
      "   1.03897152 -1.21647142 -1.32606582  1.37980277  2.6792894  -1.97287053\n",
      "   1.08972759 -1.82242226 -1.70845411  0.67786841 -2.59300336  1.16738229\n",
      "   1.10938054 -1.94633459  1.47263608 -1.67324395 -1.59278867  1.50326192\n",
      "   1.46692457 -1.5155088  -1.15671856  1.52150751 -1.48552654  1.13879635\n",
      "   1.71174282 -1.61316558]] b= [ 0.06320155  0.01501941  0.72169074  0.04644163  0.72314739  0.05652245\n",
      "  0.00127889  0.52457512 -0.30451961  0.07294178 -0.05784469 -0.12319138\n",
      " -0.34203766  0.02536159  0.08873514  0.13108435 -0.77547503 -0.06757025\n",
      "  0.36143129  0.7395462   0.41820594  0.98217547 -0.07252292  0.16738118\n",
      " -0.57583492 -0.79566403  0.06368256 -0.32540018  0.03165842  0.13524576\n",
      " -0.2511906   0.62046812]\n",
      "Epoch: 0850 cost= 0.025968127 W= [[ 1.69528335 -1.12095582 -1.93823465  2.06160267 -1.42391659  2.66908206\n",
      "   2.31011896 -2.19509948 -1.90910177  1.77303902  1.04184861 -1.33662876\n",
      "   2.35180642 -1.37795003 -1.45497414  3.14183097 -1.32229127  2.08850857\n",
      "   2.76147299 -1.48551497  1.81998902 -1.83787504 -1.54995749  2.00108478\n",
      "   1.83082443 -2.03244883 -2.11384731  1.69091789 -1.62736051  2.25141588\n",
      "   1.46469218 -1.73587374]\n",
      " [ 1.46557362 -2.68148335 -1.55880368  1.24618275 -2.00629647  0.90553563\n",
      "   1.06901666 -1.24422343 -1.35315289  1.40654488  2.6913476  -1.9914868\n",
      "   1.11837528 -1.84335445 -1.73088046  0.71068183 -2.60627999  1.19615351\n",
      "   1.13110071 -1.96568046  1.49735908 -1.69662587 -1.61689551  1.52293813\n",
      "   1.49224566 -1.53955016 -1.18544828  1.54569313 -1.51136072  1.16589249\n",
      "   1.73417359 -1.6359082 ]] b= [ 0.06034637  0.01806757  0.70368362  0.04592193  0.70596853  0.05840572\n",
      "  0.00317944  0.50933216 -0.29552807  0.07018115 -0.06040629 -0.11703444\n",
      " -0.33078807  0.02701011  0.08806848  0.13294288 -0.75399028 -0.06463143\n",
      "  0.35668072  0.72205911  0.40583703  0.95868153 -0.06868343  0.16387772\n",
      " -0.56031749 -0.77546106  0.06075563 -0.31685846  0.03190919  0.13311295\n",
      " -0.24561835  0.60467552]\n",
      "Epoch: 0900 cost= 0.025227330 W= [[ 1.7202227  -1.14939008 -1.95608944  2.08165241 -1.44857421  2.68517625\n",
      "   2.32851383 -2.21230326 -1.93240846  1.79698236  1.07355393 -1.36537138\n",
      "   2.36822639 -1.40627478 -1.48203683  3.15588576 -1.35373705  2.10842515\n",
      "   2.7750265  -1.5088565   1.84421179 -1.8575619  -1.57668262  2.01896523\n",
      "   1.85133009 -2.05593346 -2.13347685  1.71346338 -1.65293043  2.26982032\n",
      "   1.49092187 -1.75654355]\n",
      " [ 1.49039779 -2.69240349 -1.58047407  1.27202763 -2.02466109  0.93495301\n",
      "   1.0974421  -1.27044449 -1.37881856  1.43190965  2.70292985 -2.00927462\n",
      "   1.14547507 -1.86330557 -1.75223278  0.7416121  -2.61893125  1.22340861\n",
      "   1.15199637 -1.9841049   1.52082695 -1.7187073  -1.63980034  1.54189655\n",
      "   1.51622513 -1.56230614 -1.21267043  1.56869901 -1.53586551  1.19167033\n",
      "   1.75552375 -1.65752965]] b= [ 0.05780171  0.02078911  0.68644051  0.04555013  0.68956849  0.06028465\n",
      "  0.00507689  0.49482017 -0.28721876  0.06772063 -0.06263198 -0.11139481\n",
      " -0.32006483  0.0284104   0.08730249  0.1347957  -0.73384182 -0.06175518\n",
      "  0.35224634  0.70534088  0.39433308  0.93623923 -0.06522265  0.1606466\n",
      " -0.54554076 -0.75651081  0.05789015 -0.30868292  0.03201149  0.13121623\n",
      " -0.24024435  0.58958947]\n",
      "Epoch: 0950 cost= 0.024554506 W= [[ 1.74402942 -1.17649887 -1.97321735  2.10089866 -1.47205051  2.70060844\n",
      "   2.34614773 -2.22878013 -1.95467165  1.81986118  1.10358919 -1.39273214\n",
      "   2.38398237 -1.4332428  -1.50783904  3.16933949 -1.38342315  2.12751422\n",
      "   2.78817586 -1.53112259  1.86734153 -1.87630251 -1.60215643  2.03628254\n",
      "   1.87093516 -2.07832937 -2.15229728  1.73505321 -1.67732139  2.28751692\n",
      "   1.51594291 -1.776333  ]\n",
      " [ 1.5140186  -2.70296607 -1.60113403  1.29665602 -2.04218759  0.96284777\n",
      "   1.12442254 -1.29530542 -1.40321459  1.45604148  2.71408438 -2.02631605\n",
      "   1.1711958  -1.88237473 -1.77261977  0.77087313 -2.63102666  1.24930829\n",
      "   1.17213195 -2.00170222  1.54317143 -1.73963458 -1.66162803  1.56019201\n",
      "   1.53900882 -1.583917   -1.23854413  1.59064424 -1.5591813   1.21625934\n",
      "   1.77590323 -1.67814506]] b= [ 0.05553772  0.02321543  0.66989158  0.04531466  0.67387038  0.06216449\n",
      "  0.00697596  0.48096222 -0.27952291  0.06553181 -0.06455767 -0.10622063\n",
      " -0.30981091  0.02958652  0.08644511  0.13664897 -0.71489152 -0.05893098\n",
      "  0.34810503  0.6893183   0.38360828  0.91474564 -0.06210302  0.15766766\n",
      " -0.53142838 -0.73869153  0.05507577 -0.30083472  0.03197795  0.12953565\n",
      " -0.23504564  0.57514189]\n",
      "Epoch: 1000 cost= 0.023940080 W= [[ 1.76681443 -1.20241102 -1.98968654  2.11941389 -1.49446696  2.71544259\n",
      "   2.36309326 -2.24460263 -1.97599334  1.84177839  1.132135   -1.41885034\n",
      "   2.39913855 -1.45899059 -1.53250512  3.18225268 -1.41155028  2.14585393\n",
      "   2.80094936 -1.5524206   1.88948489 -1.89419624 -1.62650347  2.05307652\n",
      "   1.88972933 -2.09974481 -2.17038463  1.75577698 -1.70065016  2.30456774\n",
      "   1.53987424 -1.79532641]\n",
      " [ 1.53655599 -2.71320147 -1.62088153  1.32018415 -2.05895921  0.98937783\n",
      "   1.15010574 -1.31894997 -1.42646942  1.47906292  2.72485198 -2.04268107\n",
      "   1.19568007 -1.90064633 -1.79213406  0.79864431 -2.64262438  1.27398883\n",
      "   1.19156456 -2.01855281  1.5645043  -1.75953082 -1.68248462  1.5778732\n",
      "   1.56071994 -1.60450123 -1.26320444  1.61163054 -1.58142707  1.23977069\n",
      "   1.79540566 -1.69785262]] b= [ 0.05352868  0.02537366  0.65397667  0.04520524  0.65880865  0.06404909\n",
      "  0.00888013  0.46769324 -0.27238173  0.06359015 -0.06621385 -0.1014675\n",
      " -0.29997818  0.03055922  0.08550341  0.13850725 -0.69702256 -0.05615034\n",
      "  0.3442361   0.67392861  0.37358907  0.89411325 -0.05929229  0.15492283\n",
      " -0.51791557 -0.72189878  0.05230416 -0.29328092  0.03181966  0.12805366\n",
      " -0.23000299  0.56127443]\n",
      "Optiomization finished\n",
      "Training cost= 0.02394008008142456 W= [[ 1.76681443 -1.20241102 -1.98968654  2.11941389 -1.49446696  2.71544259\n",
      "   2.36309326 -2.24460263 -1.97599334  1.84177839  1.132135   -1.41885034\n",
      "   2.39913855 -1.45899059 -1.53250512  3.18225268 -1.41155028  2.14585393\n",
      "   2.80094936 -1.5524206   1.88948489 -1.89419624 -1.62650347  2.05307652\n",
      "   1.88972933 -2.09974481 -2.17038463  1.75577698 -1.70065016  2.30456774\n",
      "   1.53987424 -1.79532641]\n",
      " [ 1.53655599 -2.71320147 -1.62088153  1.32018415 -2.05895921  0.98937783\n",
      "   1.15010574 -1.31894997 -1.42646942  1.47906292  2.72485198 -2.04268107\n",
      "   1.19568007 -1.90064633 -1.79213406  0.79864431 -2.64262438  1.27398883\n",
      "   1.19156456 -2.01855281  1.5645043  -1.75953082 -1.68248462  1.5778732\n",
      "   1.56071994 -1.60450123 -1.26320444  1.61163054 -1.58142707  1.23977069\n",
      "   1.79540566 -1.69785262]] b= [ 0.05352868  0.02537366  0.65397667  0.04520524  0.65880865  0.06404909\n",
      "  0.00888013  0.46769324 -0.27238173  0.06359015 -0.06621385 -0.1014675\n",
      " -0.29997818  0.03055922  0.08550341  0.13850725 -0.69702256 -0.05615034\n",
      "  0.3442361   0.67392861  0.37358907  0.89411325 -0.05929229  0.15492283\n",
      " -0.51791557 -0.72189878  0.05230416 -0.29328092  0.03181966  0.12805366\n",
      " -0.23000299  0.56127443] \n",
      "\n"
     ]
    }
   ],
   "source": [
    "logisticTF = LogisticRegressionTF(learning_rate, 1000, display_step, annotate=False)\n",
    "logisticTF.fit(trainX, trainY)"
   ]
  },
  {
   "cell_type": "code",
   "execution_count": null,
   "metadata": {
    "collapsed": true
   },
   "outputs": [],
   "source": []
  }
 ],
 "metadata": {
  "anaconda-cloud": {},
  "kernelspec": {
   "display_name": "Python [default]",
   "language": "python",
   "name": "python3"
  },
  "language_info": {
   "codemirror_mode": {
    "name": "ipython",
    "version": 3
   },
   "file_extension": ".py",
   "mimetype": "text/x-python",
   "name": "python",
   "nbconvert_exporter": "python",
   "pygments_lexer": "ipython3",
   "version": "3.5.2"
  }
 },
 "nbformat": 4,
 "nbformat_minor": 2
}

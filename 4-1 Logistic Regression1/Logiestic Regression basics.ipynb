{
 "cells": [
  {
   "cell_type": "code",
   "execution_count": 2,
   "metadata": {
    "_cell_guid": "77969736-cfdc-4ee9-b2e3-b857eeefbf01",
    "_uuid": "ad02eb531efe632714d46e27c2b75650f1091d95"
   },
   "outputs": [],
   "source": [
    "import numpy as np # 数组常用库\n",
    "import pandas as pd # 读入csv常用库\n",
    "from patsy import dmatrices # 可根据离散变量自动生成哑变量\n",
    "from sklearn.linear_model import LogisticRegression # sk-learn库Logistic Regression模型\n",
    "from sklearn.model_selection import train_test_split, cross_val_score # sk-learn库训练与测试\n",
    "from sklearn import metrics # 生成各项测试指标库\n",
    "import matplotlib.pyplot as plt # 画图常用库"
   ]
  },
  {
   "cell_type": "markdown",
   "metadata": {
    "_cell_guid": "90bf7950-9acb-49c5-a689-b1905a175d2b",
    "_uuid": "ca15c434cc6cf696b266ec0a45a3472dd988a22d"
   },
   "source": [
    "> 从../input/HR_comma_sep.csv文件中读入数据，存入data"
   ]
  },
  {
   "cell_type": "code",
   "execution_count": 3,
   "metadata": {
    "_cell_guid": "e966ee66-30af-48f5-a3e4-ab820ef4943e",
    "_uuid": "2eb75455aadea9b434086eda2fc542cd0e9508ae"
   },
   "outputs": [
    {
     "data": {
      "text/plain": [
       "0    1\n",
       "1    1\n",
       "2    1\n",
       "3    1\n",
       "4    1\n",
       "Name: left, dtype: int64"
      ]
     },
     "execution_count": 3,
     "metadata": {},
     "output_type": "execute_result"
    }
   ],
   "source": [
    "data = pd.read_csv(\"./data/HR_comma_sep.csv\")\n",
    "data.left.head()"
   ]
  },
  {
   "cell_type": "code",
   "execution_count": 4,
   "metadata": {},
   "outputs": [
    {
     "data": {
      "text/html": [
       "<div>\n",
       "<style scoped>\n",
       "    .dataframe tbody tr th:only-of-type {\n",
       "        vertical-align: middle;\n",
       "    }\n",
       "\n",
       "    .dataframe tbody tr th {\n",
       "        vertical-align: top;\n",
       "    }\n",
       "\n",
       "    .dataframe thead th {\n",
       "        text-align: right;\n",
       "    }\n",
       "</style>\n",
       "<table border=\"1\" class=\"dataframe\">\n",
       "  <thead>\n",
       "    <tr style=\"text-align: right;\">\n",
       "      <th></th>\n",
       "      <th>satisfaction_level</th>\n",
       "      <th>last_evaluation</th>\n",
       "      <th>number_project</th>\n",
       "      <th>average_montly_hours</th>\n",
       "      <th>time_spend_company</th>\n",
       "      <th>Work_accident</th>\n",
       "      <th>left</th>\n",
       "      <th>promotion_last_5years</th>\n",
       "      <th>sales</th>\n",
       "      <th>salary</th>\n",
       "    </tr>\n",
       "  </thead>\n",
       "  <tbody>\n",
       "    <tr>\n",
       "      <th>0</th>\n",
       "      <td>0.38</td>\n",
       "      <td>0.53</td>\n",
       "      <td>2</td>\n",
       "      <td>157</td>\n",
       "      <td>3</td>\n",
       "      <td>0</td>\n",
       "      <td>1</td>\n",
       "      <td>0</td>\n",
       "      <td>sales</td>\n",
       "      <td>low</td>\n",
       "    </tr>\n",
       "    <tr>\n",
       "      <th>1</th>\n",
       "      <td>0.80</td>\n",
       "      <td>0.86</td>\n",
       "      <td>5</td>\n",
       "      <td>262</td>\n",
       "      <td>6</td>\n",
       "      <td>0</td>\n",
       "      <td>1</td>\n",
       "      <td>0</td>\n",
       "      <td>sales</td>\n",
       "      <td>medium</td>\n",
       "    </tr>\n",
       "    <tr>\n",
       "      <th>2</th>\n",
       "      <td>0.11</td>\n",
       "      <td>0.88</td>\n",
       "      <td>7</td>\n",
       "      <td>272</td>\n",
       "      <td>4</td>\n",
       "      <td>0</td>\n",
       "      <td>1</td>\n",
       "      <td>0</td>\n",
       "      <td>sales</td>\n",
       "      <td>medium</td>\n",
       "    </tr>\n",
       "    <tr>\n",
       "      <th>3</th>\n",
       "      <td>0.72</td>\n",
       "      <td>0.87</td>\n",
       "      <td>5</td>\n",
       "      <td>223</td>\n",
       "      <td>5</td>\n",
       "      <td>0</td>\n",
       "      <td>1</td>\n",
       "      <td>0</td>\n",
       "      <td>sales</td>\n",
       "      <td>low</td>\n",
       "    </tr>\n",
       "    <tr>\n",
       "      <th>4</th>\n",
       "      <td>0.37</td>\n",
       "      <td>0.52</td>\n",
       "      <td>2</td>\n",
       "      <td>159</td>\n",
       "      <td>3</td>\n",
       "      <td>0</td>\n",
       "      <td>1</td>\n",
       "      <td>0</td>\n",
       "      <td>sales</td>\n",
       "      <td>low</td>\n",
       "    </tr>\n",
       "  </tbody>\n",
       "</table>\n",
       "</div>"
      ],
      "text/plain": [
       "   satisfaction_level  last_evaluation  number_project  average_montly_hours  \\\n",
       "0                0.38             0.53               2                   157   \n",
       "1                0.80             0.86               5                   262   \n",
       "2                0.11             0.88               7                   272   \n",
       "3                0.72             0.87               5                   223   \n",
       "4                0.37             0.52               2                   159   \n",
       "\n",
       "   time_spend_company  Work_accident  left  promotion_last_5years  sales  \\\n",
       "0                   3              0     1                      0  sales   \n",
       "1                   6              0     1                      0  sales   \n",
       "2                   4              0     1                      0  sales   \n",
       "3                   5              0     1                      0  sales   \n",
       "4                   3              0     1                      0  sales   \n",
       "\n",
       "   salary  \n",
       "0     low  \n",
       "1  medium  \n",
       "2  medium  \n",
       "3     low  \n",
       "4     low  "
      ]
     },
     "execution_count": 4,
     "metadata": {},
     "output_type": "execute_result"
    }
   ],
   "source": [
    "data.head()"
   ]
  },
  {
   "cell_type": "code",
   "execution_count": 7,
   "metadata": {
    "_cell_guid": "e2f8855f-73be-4dcd-963d-c14052ec2d7f",
    "_uuid": "b3d5dc57ed0affb65929147e64226a3ec61ced55"
   },
   "outputs": [],
   "source": [
    "# why ?? already int\n",
    "data.left = data.left.astype(int)"
   ]
  },
  {
   "cell_type": "code",
   "execution_count": 8,
   "metadata": {},
   "outputs": [
    {
     "data": {
      "text/plain": [
       "<matplotlib.collections.PathCollection at 0x1113b96a0>"
      ]
     },
     "execution_count": 8,
     "metadata": {},
     "output_type": "execute_result"
    },
    {
     "data": {
      "image/png": "[encoded data removed]",
      "text/plain": [
       "<matplotlib.figure.Figure at 0x110dc2898>"
      ]
     },
     "metadata": {},
     "output_type": "display_data"
    }
   ],
   "source": [
    "plt.scatter(data.salary, data.left)"
   ]
  },
  {
   "cell_type": "markdown",
   "metadata": {
    "_cell_guid": "249842d2-183a-4f72-8f53-2e71b8ce8b8a",
    "_uuid": "c23d2f0743ab60a19f78f6af4ff82b431a920b0e"
   },
   "source": [
    "观察离职人数与工资分布的关系"
   ]
  },
  {
   "cell_type": "code",
   "execution_count": 9,
   "metadata": {
    "_cell_guid": "6e7f5195-13f6-4a29-919c-94e161bfb3ae",
    "_uuid": "95af0a3af1b5e083bc27f47c6741a35482b6cb21",
    "scrolled": false
   },
   "outputs": [
    {
     "data": {
      "text/plain": [
       "<matplotlib.axes._subplots.AxesSubplot at 0x1113cf748>"
      ]
     },
     "execution_count": 9,
     "metadata": {},
     "output_type": "execute_result"
    },
    {
     "data": {
      "image/png": "[encoded data removed]",
      "text/plain": [
       "<matplotlib.figure.Figure at 0x111474828>"
      ]
     },
     "metadata": {},
     "output_type": "display_data"
    }
   ],
   "source": [
    "pd.crosstab(data.salary, data.left).plot(kind = \"bar\", stacked = True)"
   ]
  },
  {
   "cell_type": "markdown",
   "metadata": {
    "_cell_guid": "94a57ee3-697f-41d7-8fa8-146342306214",
    "_uuid": "e14320ef10e60dd09d35f4aceb7bcbf454c6d72c"
   },
   "source": [
    "观察离职比例与工资分布的关系"
   ]
  },
  {
   "cell_type": "code",
   "execution_count": 10,
   "metadata": {
    "_cell_guid": "32409925-3701-409a-80f8-8f694ecca20c",
    "_uuid": "bc8a05e1c22540fea2b04c6f211dfb467a2a090f"
   },
   "outputs": [
    {
     "data": {
      "text/plain": [
       "<matplotlib.axes._subplots.AxesSubplot at 0x1a1b7c6c18>"
      ]
     },
     "execution_count": 10,
     "metadata": {},
     "output_type": "execute_result"
    },
    {
     "data": {
      "image/png": "[encoded data removed]",
      "text/plain": [
       "<matplotlib.figure.Figure at 0x111485a58>"
      ]
     },
     "metadata": {},
     "output_type": "display_data"
    }
   ],
   "source": [
    "q = pd.crosstab(data.salary, data.left)\n",
    "q.div(q.sum(1), axis=0).plot(kind=\"bar\", stacked = True)"
   ]
  },
  {
   "cell_type": "code",
   "execution_count": null,
   "metadata": {
    "_cell_guid": "d09cd052-fe5c-49da-b1d7-2919ee115d79",
    "_uuid": "7daa9c48e839a02630d9ceefc40cca45c8603993",
    "collapsed": true
   },
   "outputs": [],
   "source": [
    "观察员工满意度的分布图(histogram)"
   ]
  },
  {
   "cell_type": "code",
   "execution_count": 11,
   "metadata": {
    "_cell_guid": "0c8ef928-f0f5-4b47-9267-3e38054930b0",
    "_uuid": "9215288f0a1031c8edd815fe6b30f63a15753538"
   },
   "outputs": [
    {
     "data": {
      "text/plain": [
       "<matplotlib.axes._subplots.AxesSubplot at 0x1a1b7f9240>"
      ]
     },
     "execution_count": 11,
     "metadata": {},
     "output_type": "execute_result"
    },
    {
     "data": {
      "image/png": "[encoded data removed]",
      "text/plain": [
       "<matplotlib.figure.Figure at 0x115050c50>"
      ]
     },
     "metadata": {},
     "output_type": "display_data"
    }
   ],
   "source": [
    "data.satisfaction_level.hist()"
   ]
  },
  {
   "cell_type": "code",
   "execution_count": 12,
   "metadata": {},
   "outputs": [
    {
     "data": {
      "text/plain": [
       "<matplotlib.axes._subplots.AxesSubplot at 0x1a1b8564a8>"
      ]
     },
     "execution_count": 12,
     "metadata": {},
     "output_type": "execute_result"
    },
    {
     "data": {
      "image/png": "[encoded data removed]",
      "text/plain": [
       "<matplotlib.figure.Figure at 0x1a1b8a7e10>"
      ]
     },
     "metadata": {},
     "output_type": "display_data"
    }
   ],
   "source": [
    "data[data.left == 0].satisfaction_level.hist()"
   ]
  },
  {
   "cell_type": "code",
   "execution_count": 17,
   "metadata": {},
   "outputs": [
    {
     "data": {
      "text/plain": [
       "<matplotlib.axes._subplots.AxesSubplot at 0x1a20505160>"
      ]
     },
     "execution_count": 17,
     "metadata": {},
     "output_type": "execute_result"
    },
    {
     "data": {
      "image/png": "[encoded data removed]",
      "text/plain": [
       "<matplotlib.figure.Figure at 0x1a1feb11d0>"
      ]
     },
     "metadata": {},
     "output_type": "display_data"
    }
   ],
   "source": [
    "data[data.left == 1].satisfaction_level.hist()"
   ]
  },
  {
   "cell_type": "markdown",
   "metadata": {
    "_cell_guid": "cf280342-84fe-4184-b444-9984def900db",
    "_uuid": "160351404a8bcaac0ffd7c698718b43756f5fe85"
   },
   "source": [
    "dmatrices将数据中的离散变量变成哑变量，并指明用satisfaction_level, last_evaluation, ... 来预测left"
   ]
  },
  {
   "cell_type": "code",
   "execution_count": 13,
   "metadata": {
    "_cell_guid": "847bcf74-6477-4386-99c5-677135d6528f",
    "_uuid": "d721ca50770cd4c2b0b273390234cbf74ca714e6"
   },
   "outputs": [],
   "source": [
    "y, X = dmatrices(\"left~satisfaction_level+last_evaluation+number_project+average_montly_hours+time_spend_company+Work_accident+promotion_last_5years+C(sales)+C(salary)\", data, return_type = \"dataframe\")"
   ]
  },
  {
   "cell_type": "code",
   "execution_count": 14,
   "metadata": {
    "_cell_guid": "534045b8-9733-43cf-97cd-4b201861d59b",
    "_uuid": "4a943ffc269aee7cbb39460f3637e45e491c874b"
   },
   "outputs": [],
   "source": [
    "X = X.rename(columns = {\n",
    "    'C(sales)[T.RandD]': 'Department: Random',\n",
    "    'C(sales)[T.accounting]': 'Department: Accounting',\n",
    "    'C(sales)[T.hr]': 'Department: HR',\n",
    "    'C(sales)[T.management]': 'Department: Management',\n",
    "    'C(sales)[T.marketing]': 'Department: Marketing',\n",
    "    'C(sales)[T.product_mng]': 'Department: Product_Management',\n",
    "    'C(sales)[T.sales]': 'Department: Sales',\n",
    "    'C(sales)[T.support]': 'Department: Support',\n",
    "    'C(sales)[T.technical]': 'Department: Technical',\n",
    "    'C(salary)[T.low]': 'Salary: Low',\n",
    "    'C(salary)[T.medium]': 'Salary: Medium'}) \n",
    "y = np.ravel(y) # 将y变成np的一维数组"
   ]
  },
  {
   "cell_type": "markdown",
   "metadata": {
    "_cell_guid": "a720ec93-af2c-4eb8-a53c-5dd04a668768",
    "_uuid": "270a673242bc7c24f768bc967810eb7be14f9fc1"
   },
   "source": [
    "用X和y训练模型，然后输出X中每一项自变量对于y的影响\n",
    "zip(a,b)可将a的每一个元素和b里对应位置的元素组成一对"
   ]
  },
  {
   "cell_type": "code",
   "execution_count": 15,
   "metadata": {
    "_cell_guid": "87de375b-7230-4156-a032-9f83cb0a5a00",
    "_uuid": "d8284ba71de31a1bdc0d2fcead8249b8adf09cf2"
   },
   "outputs": [
    {
     "data": {
      "text/plain": [
       "LogisticRegression(C=1.0, class_weight=None, dual=False, fit_intercept=True,\n",
       "          intercept_scaling=1, max_iter=100, multi_class='ovr', n_jobs=1,\n",
       "          penalty='l2', random_state=None, solver='liblinear', tol=0.0001,\n",
       "          verbose=0, warm_start=False)"
      ]
     },
     "execution_count": 15,
     "metadata": {},
     "output_type": "execute_result"
    }
   ],
   "source": [
    "model = LogisticRegression()\n",
    "model.fit(X,y)"
   ]
  },
  {
   "cell_type": "code",
   "execution_count": 16,
   "metadata": {},
   "outputs": [
    {
     "data": {
      "text/plain": [
       "array([[-0.68682172, -0.48976297,  0.09539256,  0.3286715 , -0.40109702,\n",
       "         0.08974407, -0.04095296,  0.07497091,  0.16836019,  0.17302139,\n",
       "         1.78210339,  1.25625653, -4.12823733,  0.733142  , -0.31413789,\n",
       "         0.00424471,  0.2606884 , -1.52308122, -1.0878429 ]])"
      ]
     },
     "execution_count": 16,
     "metadata": {},
     "output_type": "execute_result"
    }
   ],
   "source": [
    "model.coef_"
   ]
  },
  {
   "cell_type": "code",
   "execution_count": 17,
   "metadata": {},
   "outputs": [
    {
     "data": {
      "text/html": [
       "<div>\n",
       "<style scoped>\n",
       "    .dataframe tbody tr th:only-of-type {\n",
       "        vertical-align: middle;\n",
       "    }\n",
       "\n",
       "    .dataframe tbody tr th {\n",
       "        vertical-align: top;\n",
       "    }\n",
       "\n",
       "    .dataframe thead th {\n",
       "        text-align: right;\n",
       "    }\n",
       "</style>\n",
       "<table border=\"1\" class=\"dataframe\">\n",
       "  <thead>\n",
       "    <tr style=\"text-align: right;\">\n",
       "      <th></th>\n",
       "      <th>0</th>\n",
       "      <th>1</th>\n",
       "    </tr>\n",
       "  </thead>\n",
       "  <tbody>\n",
       "    <tr>\n",
       "      <th>0</th>\n",
       "      <td>Intercept</td>\n",
       "      <td>[-0.6868217174961861]</td>\n",
       "    </tr>\n",
       "    <tr>\n",
       "      <th>1</th>\n",
       "      <td>Department: Random</td>\n",
       "      <td>[-0.4897629682296885]</td>\n",
       "    </tr>\n",
       "    <tr>\n",
       "      <th>2</th>\n",
       "      <td>Department: Accounting</td>\n",
       "      <td>[0.0953925580335726]</td>\n",
       "    </tr>\n",
       "    <tr>\n",
       "      <th>3</th>\n",
       "      <td>Department: HR</td>\n",
       "      <td>[0.3286714981642167]</td>\n",
       "    </tr>\n",
       "    <tr>\n",
       "      <th>4</th>\n",
       "      <td>Department: Management</td>\n",
       "      <td>[-0.40109702371168127]</td>\n",
       "    </tr>\n",
       "    <tr>\n",
       "      <th>5</th>\n",
       "      <td>Department: Marketing</td>\n",
       "      <td>[0.08974406507701978]</td>\n",
       "    </tr>\n",
       "    <tr>\n",
       "      <th>6</th>\n",
       "      <td>Department: Product_Management</td>\n",
       "      <td>[-0.04095296197839871]</td>\n",
       "    </tr>\n",
       "    <tr>\n",
       "      <th>7</th>\n",
       "      <td>Department: Sales</td>\n",
       "      <td>[0.07497090973637695]</td>\n",
       "    </tr>\n",
       "    <tr>\n",
       "      <th>8</th>\n",
       "      <td>Department: Support</td>\n",
       "      <td>[0.16836019132759383]</td>\n",
       "    </tr>\n",
       "    <tr>\n",
       "      <th>9</th>\n",
       "      <td>Department: Technical</td>\n",
       "      <td>[0.17302138814471082]</td>\n",
       "    </tr>\n",
       "    <tr>\n",
       "      <th>10</th>\n",
       "      <td>Salary: Low</td>\n",
       "      <td>[1.7821033918589804]</td>\n",
       "    </tr>\n",
       "    <tr>\n",
       "      <th>11</th>\n",
       "      <td>Salary: Medium</td>\n",
       "      <td>[1.2562565293841659]</td>\n",
       "    </tr>\n",
       "    <tr>\n",
       "      <th>12</th>\n",
       "      <td>satisfaction_level</td>\n",
       "      <td>[-4.128237327879692]</td>\n",
       "    </tr>\n",
       "    <tr>\n",
       "      <th>13</th>\n",
       "      <td>last_evaluation</td>\n",
       "      <td>[0.7331420024807476]</td>\n",
       "    </tr>\n",
       "    <tr>\n",
       "      <th>14</th>\n",
       "      <td>number_project</td>\n",
       "      <td>[-0.31413789207741843]</td>\n",
       "    </tr>\n",
       "    <tr>\n",
       "      <th>15</th>\n",
       "      <td>average_montly_hours</td>\n",
       "      <td>[0.004244711861886729]</td>\n",
       "    </tr>\n",
       "    <tr>\n",
       "      <th>16</th>\n",
       "      <td>time_spend_company</td>\n",
       "      <td>[0.26068840394230786]</td>\n",
       "    </tr>\n",
       "    <tr>\n",
       "      <th>17</th>\n",
       "      <td>Work_accident</td>\n",
       "      <td>[-1.5230812218541776]</td>\n",
       "    </tr>\n",
       "    <tr>\n",
       "      <th>18</th>\n",
       "      <td>promotion_last_5years</td>\n",
       "      <td>[-1.0878429027539034]</td>\n",
       "    </tr>\n",
       "  </tbody>\n",
       "</table>\n",
       "</div>"
      ],
      "text/plain": [
       "                                 0                       1\n",
       "0                        Intercept   [-0.6868217174961861]\n",
       "1               Department: Random   [-0.4897629682296885]\n",
       "2           Department: Accounting    [0.0953925580335726]\n",
       "3                   Department: HR    [0.3286714981642167]\n",
       "4           Department: Management  [-0.40109702371168127]\n",
       "5            Department: Marketing   [0.08974406507701978]\n",
       "6   Department: Product_Management  [-0.04095296197839871]\n",
       "7                Department: Sales   [0.07497090973637695]\n",
       "8              Department: Support   [0.16836019132759383]\n",
       "9            Department: Technical   [0.17302138814471082]\n",
       "10                     Salary: Low    [1.7821033918589804]\n",
       "11                  Salary: Medium    [1.2562565293841659]\n",
       "12              satisfaction_level    [-4.128237327879692]\n",
       "13                 last_evaluation    [0.7331420024807476]\n",
       "14                  number_project  [-0.31413789207741843]\n",
       "15            average_montly_hours  [0.004244711861886729]\n",
       "16              time_spend_company   [0.26068840394230786]\n",
       "17                   Work_accident   [-1.5230812218541776]\n",
       "18           promotion_last_5years   [-1.0878429027539034]"
      ]
     },
     "execution_count": 17,
     "metadata": {},
     "output_type": "execute_result"
    }
   ],
   "source": [
    "pd.DataFrame(list(zip(X.columns, np.transpose(model.coef_))))"
   ]
  },
  {
   "cell_type": "markdown",
   "metadata": {
    "_cell_guid": "4182ce56-ae4c-4db5-a475-aae5c17f8162",
    "_uuid": "12e2ed8e940c526a07f0bc326bc003f2ed4f0fc2"
   },
   "source": [
    "model.score为准确率(0到1之间)"
   ]
  },
  {
   "cell_type": "code",
   "execution_count": 18,
   "metadata": {},
   "outputs": [
    {
     "data": {
      "text/plain": [
       "0.793652910194013"
      ]
     },
     "execution_count": 18,
     "metadata": {},
     "output_type": "execute_result"
    }
   ],
   "source": [
    "model.score(X,y)"
   ]
  },
  {
   "cell_type": "code",
   "execution_count": 19,
   "metadata": {
    "_cell_guid": "5a822461-56fe-49ba-90fa-4241bf629bd4",
    "_uuid": "ec85fe99d0aa11d45499dc0b881f2b27af0a37b7"
   },
   "outputs": [
    {
     "name": "stdout",
     "output_type": "stream",
     "text": [
      "0.793652910194013\n"
     ]
    },
    {
     "data": {
      "text/plain": [
       "array([[-0.68682172, -0.48976297,  0.09539256,  0.3286715 , -0.40109702,\n",
       "         0.08974407, -0.04095296,  0.07497091,  0.16836019,  0.17302139,\n",
       "         1.78210339,  1.25625653, -4.12823733,  0.733142  , -0.31413789,\n",
       "         0.00424471,  0.2606884 , -1.52308122, -1.0878429 ]])"
      ]
     },
     "execution_count": 19,
     "metadata": {},
     "output_type": "execute_result"
    }
   ],
   "source": [
    "print(model.score(X,y))\n",
    "model.coef_"
   ]
  },
  {
   "cell_type": "code",
   "execution_count": 20,
   "metadata": {},
   "outputs": [
    {
     "data": {
      "text/html": [
       "<div>\n",
       "<style scoped>\n",
       "    .dataframe tbody tr th:only-of-type {\n",
       "        vertical-align: middle;\n",
       "    }\n",
       "\n",
       "    .dataframe tbody tr th {\n",
       "        vertical-align: top;\n",
       "    }\n",
       "\n",
       "    .dataframe thead th {\n",
       "        text-align: right;\n",
       "    }\n",
       "</style>\n",
       "<table border=\"1\" class=\"dataframe\">\n",
       "  <thead>\n",
       "    <tr style=\"text-align: right;\">\n",
       "      <th></th>\n",
       "      <th>Intercept</th>\n",
       "      <th>Department: Random</th>\n",
       "      <th>Department: Accounting</th>\n",
       "      <th>Department: HR</th>\n",
       "      <th>Department: Management</th>\n",
       "      <th>Department: Marketing</th>\n",
       "      <th>Department: Product_Management</th>\n",
       "      <th>Department: Sales</th>\n",
       "      <th>Department: Support</th>\n",
       "      <th>Department: Technical</th>\n",
       "      <th>Salary: Low</th>\n",
       "      <th>Salary: Medium</th>\n",
       "      <th>satisfaction_level</th>\n",
       "      <th>last_evaluation</th>\n",
       "      <th>number_project</th>\n",
       "      <th>average_montly_hours</th>\n",
       "      <th>time_spend_company</th>\n",
       "      <th>Work_accident</th>\n",
       "      <th>promotion_last_5years</th>\n",
       "    </tr>\n",
       "  </thead>\n",
       "  <tbody>\n",
       "    <tr>\n",
       "      <th>0</th>\n",
       "      <td>1.0</td>\n",
       "      <td>0.0</td>\n",
       "      <td>0.0</td>\n",
       "      <td>0.0</td>\n",
       "      <td>0.0</td>\n",
       "      <td>0.0</td>\n",
       "      <td>0.0</td>\n",
       "      <td>1.0</td>\n",
       "      <td>0.0</td>\n",
       "      <td>0.0</td>\n",
       "      <td>1.0</td>\n",
       "      <td>0.0</td>\n",
       "      <td>0.38</td>\n",
       "      <td>0.53</td>\n",
       "      <td>2.0</td>\n",
       "      <td>157.0</td>\n",
       "      <td>3.0</td>\n",
       "      <td>0.0</td>\n",
       "      <td>0.0</td>\n",
       "    </tr>\n",
       "    <tr>\n",
       "      <th>1</th>\n",
       "      <td>1.0</td>\n",
       "      <td>0.0</td>\n",
       "      <td>0.0</td>\n",
       "      <td>0.0</td>\n",
       "      <td>0.0</td>\n",
       "      <td>0.0</td>\n",
       "      <td>0.0</td>\n",
       "      <td>1.0</td>\n",
       "      <td>0.0</td>\n",
       "      <td>0.0</td>\n",
       "      <td>0.0</td>\n",
       "      <td>1.0</td>\n",
       "      <td>0.80</td>\n",
       "      <td>0.86</td>\n",
       "      <td>5.0</td>\n",
       "      <td>262.0</td>\n",
       "      <td>6.0</td>\n",
       "      <td>0.0</td>\n",
       "      <td>0.0</td>\n",
       "    </tr>\n",
       "    <tr>\n",
       "      <th>2</th>\n",
       "      <td>1.0</td>\n",
       "      <td>0.0</td>\n",
       "      <td>0.0</td>\n",
       "      <td>0.0</td>\n",
       "      <td>0.0</td>\n",
       "      <td>0.0</td>\n",
       "      <td>0.0</td>\n",
       "      <td>1.0</td>\n",
       "      <td>0.0</td>\n",
       "      <td>0.0</td>\n",
       "      <td>0.0</td>\n",
       "      <td>1.0</td>\n",
       "      <td>0.11</td>\n",
       "      <td>0.88</td>\n",
       "      <td>7.0</td>\n",
       "      <td>272.0</td>\n",
       "      <td>4.0</td>\n",
       "      <td>0.0</td>\n",
       "      <td>0.0</td>\n",
       "    </tr>\n",
       "    <tr>\n",
       "      <th>3</th>\n",
       "      <td>1.0</td>\n",
       "      <td>0.0</td>\n",
       "      <td>0.0</td>\n",
       "      <td>0.0</td>\n",
       "      <td>0.0</td>\n",
       "      <td>0.0</td>\n",
       "      <td>0.0</td>\n",
       "      <td>1.0</td>\n",
       "      <td>0.0</td>\n",
       "      <td>0.0</td>\n",
       "      <td>1.0</td>\n",
       "      <td>0.0</td>\n",
       "      <td>0.72</td>\n",
       "      <td>0.87</td>\n",
       "      <td>5.0</td>\n",
       "      <td>223.0</td>\n",
       "      <td>5.0</td>\n",
       "      <td>0.0</td>\n",
       "      <td>0.0</td>\n",
       "    </tr>\n",
       "    <tr>\n",
       "      <th>4</th>\n",
       "      <td>1.0</td>\n",
       "      <td>0.0</td>\n",
       "      <td>0.0</td>\n",
       "      <td>0.0</td>\n",
       "      <td>0.0</td>\n",
       "      <td>0.0</td>\n",
       "      <td>0.0</td>\n",
       "      <td>1.0</td>\n",
       "      <td>0.0</td>\n",
       "      <td>0.0</td>\n",
       "      <td>1.0</td>\n",
       "      <td>0.0</td>\n",
       "      <td>0.37</td>\n",
       "      <td>0.52</td>\n",
       "      <td>2.0</td>\n",
       "      <td>159.0</td>\n",
       "      <td>3.0</td>\n",
       "      <td>0.0</td>\n",
       "      <td>0.0</td>\n",
       "    </tr>\n",
       "  </tbody>\n",
       "</table>\n",
       "</div>"
      ],
      "text/plain": [
       "   Intercept  Department: Random  Department: Accounting  Department: HR  \\\n",
       "0        1.0                 0.0                     0.0             0.0   \n",
       "1        1.0                 0.0                     0.0             0.0   \n",
       "2        1.0                 0.0                     0.0             0.0   \n",
       "3        1.0                 0.0                     0.0             0.0   \n",
       "4        1.0                 0.0                     0.0             0.0   \n",
       "\n",
       "   Department: Management  Department: Marketing  \\\n",
       "0                     0.0                    0.0   \n",
       "1                     0.0                    0.0   \n",
       "2                     0.0                    0.0   \n",
       "3                     0.0                    0.0   \n",
       "4                     0.0                    0.0   \n",
       "\n",
       "   Department: Product_Management  Department: Sales  Department: Support  \\\n",
       "0                             0.0                1.0                  0.0   \n",
       "1                             0.0                1.0                  0.0   \n",
       "2                             0.0                1.0                  0.0   \n",
       "3                             0.0                1.0                  0.0   \n",
       "4                             0.0                1.0                  0.0   \n",
       "\n",
       "   Department: Technical  Salary: Low  Salary: Medium  satisfaction_level  \\\n",
       "0                    0.0          1.0             0.0                0.38   \n",
       "1                    0.0          0.0             1.0                0.80   \n",
       "2                    0.0          0.0             1.0                0.11   \n",
       "3                    0.0          1.0             0.0                0.72   \n",
       "4                    0.0          1.0             0.0                0.37   \n",
       "\n",
       "   last_evaluation  number_project  average_montly_hours  time_spend_company  \\\n",
       "0             0.53             2.0                 157.0                 3.0   \n",
       "1             0.86             5.0                 262.0                 6.0   \n",
       "2             0.88             7.0                 272.0                 4.0   \n",
       "3             0.87             5.0                 223.0                 5.0   \n",
       "4             0.52             2.0                 159.0                 3.0   \n",
       "\n",
       "   Work_accident  promotion_last_5years  \n",
       "0            0.0                    0.0  \n",
       "1            0.0                    0.0  \n",
       "2            0.0                    0.0  \n",
       "3            0.0                    0.0  \n",
       "4            0.0                    0.0  "
      ]
     },
     "execution_count": 20,
     "metadata": {},
     "output_type": "execute_result"
    }
   ],
   "source": [
    "X.head()"
   ]
  },
  {
   "cell_type": "markdown",
   "metadata": {
    "_cell_guid": "fb93d064-d543-489b-ac24-3fcbeb7cbed5",
    "_uuid": "103679f9c979e6875fafe26227c49e3d4dea8cb1"
   },
   "source": [
    "预测这样一个人的离职概率：\n",
    "一个高工资HR，\n",
    "对公司满意度0.5, \n",
    "上次评审0.7分，\n",
    "做过4个项目，\n",
    "每月平均工作160小时，\n",
    "在公司呆了3年，\n",
    "过去5年没有被晋升，\n",
    "没有工伤"
   ]
  },
  {
   "cell_type": "code",
   "execution_count": 21,
   "metadata": {
    "_cell_guid": "b2bbb122-c614-42cb-bb49-9319ce4663f2",
    "_uuid": "daba871db1049b1b23704e9e414e12b606ec3bac"
   },
   "outputs": [
    {
     "data": {
      "text/plain": [
       "array([0.])"
      ]
     },
     "execution_count": 21,
     "metadata": {},
     "output_type": "execute_result"
    }
   ],
   "source": [
    "model.predict([[1,0,0,1,0,0,0,0,0,0,0,0,0,0.5,0.7,4,3,0,0]])"
   ]
  },
  {
   "cell_type": "code",
   "execution_count": 26,
   "metadata": {},
   "outputs": [
    {
     "data": {
      "text/plain": [
       "array([[0.524793, 0.475207]])"
      ]
     },
     "execution_count": 26,
     "metadata": {},
     "output_type": "execute_result"
    }
   ],
   "source": [
    "model.predict_proba([[1,0,0,1,0,0,0,0,0,0,0,0,0,0.5,0.7,4,3,0,0]])"
   ]
  },
  {
   "cell_type": "code",
   "execution_count": 23,
   "metadata": {},
   "outputs": [
    {
     "data": {
      "text/plain": [
       "array([[0.46917038, 0.53082962],\n",
       "       [0.83326532, 0.16673468],\n",
       "       [0.46331781, 0.53668219],\n",
       "       ...,\n",
       "       [0.45048264, 0.54951736],\n",
       "       [0.23631749, 0.76368251],\n",
       "       [0.43657844, 0.56342156]])"
      ]
     },
     "execution_count": 23,
     "metadata": {},
     "output_type": "execute_result"
    }
   ],
   "source": [
    "model.predict_proba(X)"
   ]
  },
  {
   "cell_type": "code",
   "execution_count": 25,
   "metadata": {},
   "outputs": [
    {
     "data": {
      "text/plain": [
       "array([1., 0., 1., ..., 1., 1., 1.])"
      ]
     },
     "execution_count": 25,
     "metadata": {},
     "output_type": "execute_result"
    }
   ],
   "source": [
    "pred = model.predict(X)\n",
    "pred"
   ]
  },
  {
   "cell_type": "code",
   "execution_count": 22,
   "metadata": {
    "_cell_guid": "4802d71d-8a7e-488c-b764-c562c2eda037",
    "_uuid": "1f78682aab843da194dee65d4217126e58c29394"
   },
   "outputs": [
    {
     "data": {
      "text/plain": [
       "0.20634708980598707"
      ]
     },
     "execution_count": 22,
     "metadata": {},
     "output_type": "execute_result"
    }
   ],
   "source": [
    "(abs(pred-y)).sum() / len(y)"
   ]
  },
  {
   "cell_type": "markdown",
   "metadata": {
    "_cell_guid": "12480fa3-1dfd-4b3e-807c-ef24acbdd498",
    "_uuid": "80f15698f78ccb9bdb7a7fe5c955b6206ad09e1d"
   },
   "source": [
    "生成7:3的训练测试集并在训练集上训练模型model2"
   ]
  },
  {
   "cell_type": "code",
   "execution_count": 29,
   "metadata": {
    "_cell_guid": "1fff0f45-59e3-4e2a-be9c-0176ebabcaa1",
    "_uuid": "70f79a975660832117aa49c86461aff32fef5200"
   },
   "outputs": [],
   "source": [
    "Xtrain, Xtest, ytrain, ytest = train_test_split(X, y, test_size = 0.3, random_state = 0)"
   ]
  },
  {
   "cell_type": "code",
   "execution_count": 30,
   "metadata": {
    "_cell_guid": "9ab4b548-e570-4376-95fe-c8dd8f88ff02",
    "_uuid": "760a61dd0cea60fef3fd5534967039e029677258"
   },
   "outputs": [
    {
     "data": {
      "text/plain": [
       "0.7917777777777778"
      ]
     },
     "execution_count": 30,
     "metadata": {},
     "output_type": "execute_result"
    }
   ],
   "source": [
    "model2 = LogisticRegression(C=10000)\n",
    "model2.fit(Xtrain, ytrain)\n",
    "pred = model2.predict(Xtest)\n",
    "metrics.accuracy_score(ytest, pred)\n"
   ]
  },
  {
   "cell_type": "markdown",
   "metadata": {
    "_cell_guid": "dbaba81b-00cb-4376-8b6d-77a810eb2db4",
    "_uuid": "551e47941e89d79d1915b28f6000d81f5efd5879"
   },
   "source": [
    "用metrics观察实际离职/未离职被预测成为离职/未离职的数目"
   ]
  },
  {
   "cell_type": "code",
   "execution_count": 31,
   "metadata": {
    "_cell_guid": "5c40a094-1f4f-4bde-b6ad-a9b716a6866b",
    "_uuid": "c5ce3a19e2e6cf8537f1c7f5f6d48eedfc36b883"
   },
   "outputs": [
    {
     "data": {
      "text/plain": [
       "array([[3199,  263],\n",
       "       [ 674,  364]])"
      ]
     },
     "execution_count": 31,
     "metadata": {},
     "output_type": "execute_result"
    }
   ],
   "source": [
    "metrics.confusion_matrix(ytest, pred)"
   ]
  },
  {
   "cell_type": "code",
   "execution_count": 32,
   "metadata": {
    "_cell_guid": "253aab4c-7423-4ec1-966e-97da336ea009",
    "_uuid": "ad7ca824708c72d9c93476c2deb55cd8f0bf7d07",
    "scrolled": false
   },
   "outputs": [
    {
     "name": "stdout",
     "output_type": "stream",
     "text": [
      "             precision    recall  f1-score   support\n",
      "\n",
      "        0.0       0.83      0.92      0.87      3462\n",
      "        1.0       0.58      0.35      0.44      1038\n",
      "\n",
      "avg / total       0.77      0.79      0.77      4500\n",
      "\n"
     ]
    }
   ],
   "source": [
    "print(metrics.classification_report(ytest, pred))"
   ]
  },
  {
   "cell_type": "markdown",
   "metadata": {
    "_cell_guid": "2b00b004-258a-4daa-ad18-94e4ce02236e",
    "_uuid": "9f21fc4bcc5ea4e8c100986f0f023b159dba3178"
   },
   "source": [
    "10份的交叉验证Cross Validation"
   ]
  },
  {
   "cell_type": "code",
   "execution_count": 34,
   "metadata": {
    "_cell_guid": "7aff3149-bfb8-406d-869c-ad488d478fb6",
    "_uuid": "62d1fe5b8645d66568fe025a10ac1dd908cf573b"
   },
   "outputs": [
    {
     "name": "stdout",
     "output_type": "stream",
     "text": [
      "[0.80746169 0.792      0.79533333 0.78733333 0.804      0.804\n",
      " 0.79266667 0.79       0.74449633 0.73582388]\n"
     ]
    }
   ],
   "source": [
    "print(cross_val_score(LogisticRegression(), X, y, scoring = \"accuracy\", cv = 10))"
   ]
  },
  {
   "cell_type": "code",
   "execution_count": null,
   "metadata": {},
   "outputs": [],
   "source": []
  }
 ],
 "metadata": {
  "kernelspec": {
   "display_name": "Python 3",
   "language": "python",
   "name": "python3"
  },
  "language_info": {
   "codemirror_mode": {
    "name": "ipython",
    "version": 3
   },
   "file_extension": ".py",
   "mimetype": "text/x-python",
   "name": "python",
   "nbconvert_exporter": "python",
   "pygments_lexer": "ipython3",
   "version": "3.6.4"
  }
 },
 "nbformat": 4,
 "nbformat_minor": 1
}

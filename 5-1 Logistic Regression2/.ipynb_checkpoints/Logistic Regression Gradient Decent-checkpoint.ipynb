{
 "cells": [
  {
   "cell_type": "code",
   "execution_count": 1,
   "metadata": {
    "collapsed": false
   },
   "outputs": [
    {
     "name": "stderr",
     "output_type": "stream",
     "text": [
      "/anaconda3/lib/python3.6/importlib/_bootstrap.py:219: RuntimeWarning: numpy.dtype size changed, may indicate binary incompatibility. Expected 96, got 88\n",
      "  return f(*args, **kwds)\n"
     ]
    }
   ],
   "source": [
    "import numpy as np\n",
    "import pandas as pd\n",
    "import matplotlib.pyplot as plt\n",
    "\n",
    "from sklearn.linear_model import LogisticRegression\n",
    "from sklearn import metrics\n",
    "from patsy import dmatrices"
   ]
  },
  {
   "cell_type": "code",
   "execution_count": 2,
   "metadata": {
    "collapsed": true
   },
   "outputs": [],
   "source": [
    "data = pd.read_csv(\"./data/HR_comma_sep.csv\")"
   ]
  },
  {
   "cell_type": "code",
   "execution_count": 3,
   "metadata": {
    "collapsed": false
   },
   "outputs": [
    {
     "data": {
      "text/html": [
       "<div>\n",
       "<style scoped>\n",
       "    .dataframe tbody tr th:only-of-type {\n",
       "        vertical-align: middle;\n",
       "    }\n",
       "\n",
       "    .dataframe tbody tr th {\n",
       "        vertical-align: top;\n",
       "    }\n",
       "\n",
       "    .dataframe thead th {\n",
       "        text-align: right;\n",
       "    }\n",
       "</style>\n",
       "<table border=\"1\" class=\"dataframe\">\n",
       "  <thead>\n",
       "    <tr style=\"text-align: right;\">\n",
       "      <th></th>\n",
       "      <th>satisfaction_level</th>\n",
       "      <th>last_evaluation</th>\n",
       "      <th>number_project</th>\n",
       "      <th>average_montly_hours</th>\n",
       "      <th>time_spend_company</th>\n",
       "      <th>Work_accident</th>\n",
       "      <th>left</th>\n",
       "      <th>promotion_last_5years</th>\n",
       "      <th>sales</th>\n",
       "      <th>salary</th>\n",
       "    </tr>\n",
       "  </thead>\n",
       "  <tbody>\n",
       "    <tr>\n",
       "      <th>0</th>\n",
       "      <td>0.38</td>\n",
       "      <td>0.53</td>\n",
       "      <td>2</td>\n",
       "      <td>157</td>\n",
       "      <td>3</td>\n",
       "      <td>0</td>\n",
       "      <td>1</td>\n",
       "      <td>0</td>\n",
       "      <td>sales</td>\n",
       "      <td>low</td>\n",
       "    </tr>\n",
       "    <tr>\n",
       "      <th>1</th>\n",
       "      <td>0.80</td>\n",
       "      <td>0.86</td>\n",
       "      <td>5</td>\n",
       "      <td>262</td>\n",
       "      <td>6</td>\n",
       "      <td>0</td>\n",
       "      <td>1</td>\n",
       "      <td>0</td>\n",
       "      <td>sales</td>\n",
       "      <td>medium</td>\n",
       "    </tr>\n",
       "    <tr>\n",
       "      <th>2</th>\n",
       "      <td>0.11</td>\n",
       "      <td>0.88</td>\n",
       "      <td>7</td>\n",
       "      <td>272</td>\n",
       "      <td>4</td>\n",
       "      <td>0</td>\n",
       "      <td>1</td>\n",
       "      <td>0</td>\n",
       "      <td>sales</td>\n",
       "      <td>medium</td>\n",
       "    </tr>\n",
       "    <tr>\n",
       "      <th>3</th>\n",
       "      <td>0.72</td>\n",
       "      <td>0.87</td>\n",
       "      <td>5</td>\n",
       "      <td>223</td>\n",
       "      <td>5</td>\n",
       "      <td>0</td>\n",
       "      <td>1</td>\n",
       "      <td>0</td>\n",
       "      <td>sales</td>\n",
       "      <td>low</td>\n",
       "    </tr>\n",
       "    <tr>\n",
       "      <th>4</th>\n",
       "      <td>0.37</td>\n",
       "      <td>0.52</td>\n",
       "      <td>2</td>\n",
       "      <td>159</td>\n",
       "      <td>3</td>\n",
       "      <td>0</td>\n",
       "      <td>1</td>\n",
       "      <td>0</td>\n",
       "      <td>sales</td>\n",
       "      <td>low</td>\n",
       "    </tr>\n",
       "  </tbody>\n",
       "</table>\n",
       "</div>"
      ],
      "text/plain": [
       "   satisfaction_level  last_evaluation  number_project  average_montly_hours  \\\n",
       "0                0.38             0.53               2                   157   \n",
       "1                0.80             0.86               5                   262   \n",
       "2                0.11             0.88               7                   272   \n",
       "3                0.72             0.87               5                   223   \n",
       "4                0.37             0.52               2                   159   \n",
       "\n",
       "   time_spend_company  Work_accident  left  promotion_last_5years  sales  \\\n",
       "0                   3              0     1                      0  sales   \n",
       "1                   6              0     1                      0  sales   \n",
       "2                   4              0     1                      0  sales   \n",
       "3                   5              0     1                      0  sales   \n",
       "4                   3              0     1                      0  sales   \n",
       "\n",
       "   salary  \n",
       "0     low  \n",
       "1  medium  \n",
       "2  medium  \n",
       "3     low  \n",
       "4     low  "
      ]
     },
     "execution_count": 3,
     "metadata": {},
     "output_type": "execute_result"
    }
   ],
   "source": [
    "data.head()"
   ]
  },
  {
   "cell_type": "code",
   "execution_count": 9,
   "metadata": {
    "collapsed": false
   },
   "outputs": [
    {
     "data": {
      "text/plain": [
       "satisfaction_level       float64\n",
       "last_evaluation          float64\n",
       "number_project             int64\n",
       "average_montly_hours       int64\n",
       "time_spend_company         int64\n",
       "Work_accident              int64\n",
       "left                       int64\n",
       "promotion_last_5years      int64\n",
       "sales                     object\n",
       "salary                    object\n",
       "dtype: object"
      ]
     },
     "execution_count": 9,
     "metadata": {},
     "output_type": "execute_result"
    }
   ],
   "source": [
    "data.dtypes"
   ]
  },
  {
   "cell_type": "markdown",
   "metadata": {},
   "source": [
    "#standard operation to make one hot encoding for non-digit fetures"
   ]
  },
  {
   "cell_type": "code",
   "execution_count": 11,
   "metadata": {
    "collapsed": true
   },
   "outputs": [],
   "source": [
    "y, X = dmatrices(\"left~satisfaction_level+last_evaluation+number_project+average_montly_hours+time_spend_company+Work_accident+promotion_last_5years+C(sales)+C(salary)\", data, return_type = \"dataframe\")"
   ]
  },
  {
   "cell_type": "code",
   "execution_count": 12,
   "metadata": {
    "collapsed": false
   },
   "outputs": [
    {
     "data": {
      "text/html": [
       "<div>\n",
       "<style scoped>\n",
       "    .dataframe tbody tr th:only-of-type {\n",
       "        vertical-align: middle;\n",
       "    }\n",
       "\n",
       "    .dataframe tbody tr th {\n",
       "        vertical-align: top;\n",
       "    }\n",
       "\n",
       "    .dataframe thead th {\n",
       "        text-align: right;\n",
       "    }\n",
       "</style>\n",
       "<table border=\"1\" class=\"dataframe\">\n",
       "  <thead>\n",
       "    <tr style=\"text-align: right;\">\n",
       "      <th></th>\n",
       "      <th>Intercept</th>\n",
       "      <th>C(sales)[T.RandD]</th>\n",
       "      <th>C(sales)[T.accounting]</th>\n",
       "      <th>C(sales)[T.hr]</th>\n",
       "      <th>C(sales)[T.management]</th>\n",
       "      <th>C(sales)[T.marketing]</th>\n",
       "      <th>C(sales)[T.product_mng]</th>\n",
       "      <th>C(sales)[T.sales]</th>\n",
       "      <th>C(sales)[T.support]</th>\n",
       "      <th>C(sales)[T.technical]</th>\n",
       "      <th>C(salary)[T.low]</th>\n",
       "      <th>C(salary)[T.medium]</th>\n",
       "      <th>satisfaction_level</th>\n",
       "      <th>last_evaluation</th>\n",
       "      <th>number_project</th>\n",
       "      <th>average_montly_hours</th>\n",
       "      <th>time_spend_company</th>\n",
       "      <th>Work_accident</th>\n",
       "      <th>promotion_last_5years</th>\n",
       "    </tr>\n",
       "  </thead>\n",
       "  <tbody>\n",
       "    <tr>\n",
       "      <th>0</th>\n",
       "      <td>1.0</td>\n",
       "      <td>0.0</td>\n",
       "      <td>0.0</td>\n",
       "      <td>0.0</td>\n",
       "      <td>0.0</td>\n",
       "      <td>0.0</td>\n",
       "      <td>0.0</td>\n",
       "      <td>1.0</td>\n",
       "      <td>0.0</td>\n",
       "      <td>0.0</td>\n",
       "      <td>1.0</td>\n",
       "      <td>0.0</td>\n",
       "      <td>0.38</td>\n",
       "      <td>0.53</td>\n",
       "      <td>2.0</td>\n",
       "      <td>157.0</td>\n",
       "      <td>3.0</td>\n",
       "      <td>0.0</td>\n",
       "      <td>0.0</td>\n",
       "    </tr>\n",
       "    <tr>\n",
       "      <th>1</th>\n",
       "      <td>1.0</td>\n",
       "      <td>0.0</td>\n",
       "      <td>0.0</td>\n",
       "      <td>0.0</td>\n",
       "      <td>0.0</td>\n",
       "      <td>0.0</td>\n",
       "      <td>0.0</td>\n",
       "      <td>1.0</td>\n",
       "      <td>0.0</td>\n",
       "      <td>0.0</td>\n",
       "      <td>0.0</td>\n",
       "      <td>1.0</td>\n",
       "      <td>0.80</td>\n",
       "      <td>0.86</td>\n",
       "      <td>5.0</td>\n",
       "      <td>262.0</td>\n",
       "      <td>6.0</td>\n",
       "      <td>0.0</td>\n",
       "      <td>0.0</td>\n",
       "    </tr>\n",
       "    <tr>\n",
       "      <th>2</th>\n",
       "      <td>1.0</td>\n",
       "      <td>0.0</td>\n",
       "      <td>0.0</td>\n",
       "      <td>0.0</td>\n",
       "      <td>0.0</td>\n",
       "      <td>0.0</td>\n",
       "      <td>0.0</td>\n",
       "      <td>1.0</td>\n",
       "      <td>0.0</td>\n",
       "      <td>0.0</td>\n",
       "      <td>0.0</td>\n",
       "      <td>1.0</td>\n",
       "      <td>0.11</td>\n",
       "      <td>0.88</td>\n",
       "      <td>7.0</td>\n",
       "      <td>272.0</td>\n",
       "      <td>4.0</td>\n",
       "      <td>0.0</td>\n",
       "      <td>0.0</td>\n",
       "    </tr>\n",
       "    <tr>\n",
       "      <th>3</th>\n",
       "      <td>1.0</td>\n",
       "      <td>0.0</td>\n",
       "      <td>0.0</td>\n",
       "      <td>0.0</td>\n",
       "      <td>0.0</td>\n",
       "      <td>0.0</td>\n",
       "      <td>0.0</td>\n",
       "      <td>1.0</td>\n",
       "      <td>0.0</td>\n",
       "      <td>0.0</td>\n",
       "      <td>1.0</td>\n",
       "      <td>0.0</td>\n",
       "      <td>0.72</td>\n",
       "      <td>0.87</td>\n",
       "      <td>5.0</td>\n",
       "      <td>223.0</td>\n",
       "      <td>5.0</td>\n",
       "      <td>0.0</td>\n",
       "      <td>0.0</td>\n",
       "    </tr>\n",
       "    <tr>\n",
       "      <th>4</th>\n",
       "      <td>1.0</td>\n",
       "      <td>0.0</td>\n",
       "      <td>0.0</td>\n",
       "      <td>0.0</td>\n",
       "      <td>0.0</td>\n",
       "      <td>0.0</td>\n",
       "      <td>0.0</td>\n",
       "      <td>1.0</td>\n",
       "      <td>0.0</td>\n",
       "      <td>0.0</td>\n",
       "      <td>1.0</td>\n",
       "      <td>0.0</td>\n",
       "      <td>0.37</td>\n",
       "      <td>0.52</td>\n",
       "      <td>2.0</td>\n",
       "      <td>159.0</td>\n",
       "      <td>3.0</td>\n",
       "      <td>0.0</td>\n",
       "      <td>0.0</td>\n",
       "    </tr>\n",
       "  </tbody>\n",
       "</table>\n",
       "</div>"
      ],
      "text/plain": [
       "   Intercept  C(sales)[T.RandD]  C(sales)[T.accounting]  C(sales)[T.hr]  \\\n",
       "0        1.0                0.0                     0.0             0.0   \n",
       "1        1.0                0.0                     0.0             0.0   \n",
       "2        1.0                0.0                     0.0             0.0   \n",
       "3        1.0                0.0                     0.0             0.0   \n",
       "4        1.0                0.0                     0.0             0.0   \n",
       "\n",
       "   C(sales)[T.management]  C(sales)[T.marketing]  C(sales)[T.product_mng]  \\\n",
       "0                     0.0                    0.0                      0.0   \n",
       "1                     0.0                    0.0                      0.0   \n",
       "2                     0.0                    0.0                      0.0   \n",
       "3                     0.0                    0.0                      0.0   \n",
       "4                     0.0                    0.0                      0.0   \n",
       "\n",
       "   C(sales)[T.sales]  C(sales)[T.support]  C(sales)[T.technical]  \\\n",
       "0                1.0                  0.0                    0.0   \n",
       "1                1.0                  0.0                    0.0   \n",
       "2                1.0                  0.0                    0.0   \n",
       "3                1.0                  0.0                    0.0   \n",
       "4                1.0                  0.0                    0.0   \n",
       "\n",
       "   C(salary)[T.low]  C(salary)[T.medium]  satisfaction_level  last_evaluation  \\\n",
       "0               1.0                  0.0                0.38             0.53   \n",
       "1               0.0                  1.0                0.80             0.86   \n",
       "2               0.0                  1.0                0.11             0.88   \n",
       "3               1.0                  0.0                0.72             0.87   \n",
       "4               1.0                  0.0                0.37             0.52   \n",
       "\n",
       "   number_project  average_montly_hours  time_spend_company  Work_accident  \\\n",
       "0             2.0                 157.0                 3.0            0.0   \n",
       "1             5.0                 262.0                 6.0            0.0   \n",
       "2             7.0                 272.0                 4.0            0.0   \n",
       "3             5.0                 223.0                 5.0            0.0   \n",
       "4             2.0                 159.0                 3.0            0.0   \n",
       "\n",
       "   promotion_last_5years  \n",
       "0                    0.0  \n",
       "1                    0.0  \n",
       "2                    0.0  \n",
       "3                    0.0  \n",
       "4                    0.0  "
      ]
     },
     "execution_count": 12,
     "metadata": {},
     "output_type": "execute_result"
    }
   ],
   "source": [
    "X.head()"
   ]
  },
  {
   "cell_type": "code",
   "execution_count": 13,
   "metadata": {
    "collapsed": false
   },
   "outputs": [
    {
     "data": {
      "text/html": [
       "<div>\n",
       "<style scoped>\n",
       "    .dataframe tbody tr th:only-of-type {\n",
       "        vertical-align: middle;\n",
       "    }\n",
       "\n",
       "    .dataframe tbody tr th {\n",
       "        vertical-align: top;\n",
       "    }\n",
       "\n",
       "    .dataframe thead th {\n",
       "        text-align: right;\n",
       "    }\n",
       "</style>\n",
       "<table border=\"1\" class=\"dataframe\">\n",
       "  <thead>\n",
       "    <tr style=\"text-align: right;\">\n",
       "      <th></th>\n",
       "      <th>left</th>\n",
       "    </tr>\n",
       "  </thead>\n",
       "  <tbody>\n",
       "    <tr>\n",
       "      <th>0</th>\n",
       "      <td>1.0</td>\n",
       "    </tr>\n",
       "    <tr>\n",
       "      <th>1</th>\n",
       "      <td>1.0</td>\n",
       "    </tr>\n",
       "    <tr>\n",
       "      <th>2</th>\n",
       "      <td>1.0</td>\n",
       "    </tr>\n",
       "    <tr>\n",
       "      <th>3</th>\n",
       "      <td>1.0</td>\n",
       "    </tr>\n",
       "    <tr>\n",
       "      <th>4</th>\n",
       "      <td>1.0</td>\n",
       "    </tr>\n",
       "  </tbody>\n",
       "</table>\n",
       "</div>"
      ],
      "text/plain": [
       "   left\n",
       "0   1.0\n",
       "1   1.0\n",
       "2   1.0\n",
       "3   1.0\n",
       "4   1.0"
      ]
     },
     "execution_count": 13,
     "metadata": {},
     "output_type": "execute_result"
    }
   ],
   "source": [
    "y.head()"
   ]
  },
  {
   "cell_type": "markdown",
   "metadata": {},
   "source": [
    "#make y, X numpy matrix and one d array for matrix multiplication"
   ]
  },
  {
   "cell_type": "code",
   "execution_count": 18,
   "metadata": {
    "collapsed": false
   },
   "outputs": [
    {
     "data": {
      "text/plain": [
       "(numpy.matrixlib.defmatrix.matrix, numpy.ndarray)"
      ]
     },
     "execution_count": 18,
     "metadata": {},
     "output_type": "execute_result"
    }
   ],
   "source": [
    "X = np.asmatrix(X)\n",
    "y = np.ravel(y)\n",
    "type(X), type(y)"
   ]
  },
  {
   "cell_type": "markdown",
   "metadata": {},
   "source": [
    "#make all the features in [0, 1] range"
   ]
  },
  {
   "cell_type": "code",
   "execution_count": 22,
   "metadata": {
    "collapsed": true
   },
   "outputs": [],
   "source": [
    "for i in range(1, X.shape[1]):\n",
    "    colMin = X[:, i].min()\n",
    "    colMax = X[:, i].max()\n",
    "    X[:, i] = (X[:, i]  - colMin)/(colMax - colMin)"
   ]
  },
  {
   "cell_type": "code",
   "execution_count": 24,
   "metadata": {
    "collapsed": false
   },
   "outputs": [
    {
     "data": {
      "text/plain": [
       "matrix([[1.   , 0.   , 0.   , ..., 0.125, 0.   , 0.   ],\n",
       "        [1.   , 0.   , 0.   , ..., 0.5  , 0.   , 0.   ],\n",
       "        [1.   , 0.   , 0.   , ..., 0.25 , 0.   , 0.   ],\n",
       "        ...,\n",
       "        [1.   , 0.   , 0.   , ..., 0.125, 0.   , 0.   ],\n",
       "        [1.   , 0.   , 0.   , ..., 0.25 , 0.   , 0.   ],\n",
       "        [1.   , 0.   , 0.   , ..., 0.125, 0.   , 0.   ]])"
      ]
     },
     "execution_count": 24,
     "metadata": {},
     "output_type": "execute_result"
    }
   ],
   "source": [
    "X"
   ]
  },
  {
   "cell_type": "markdown",
   "metadata": {},
   "source": [
    "#start doing gradient decent"
   ]
  },
  {
   "cell_type": "code",
   "execution_count": 25,
   "metadata": {
    "collapsed": true
   },
   "outputs": [],
   "source": [
    "np.random.seed(1)"
   ]
  },
  {
   "cell_type": "code",
   "execution_count": 26,
   "metadata": {
    "collapsed": true
   },
   "outputs": [],
   "source": [
    "alpha = 1 # learning rate"
   ]
  },
  {
   "cell_type": "code",
   "execution_count": 27,
   "metadata": {
    "collapsed": true
   },
   "outputs": [],
   "source": [
    "beta = np.random.randn(X.shape[1])   # random create a beta as lr assignment"
   ]
  },
  {
   "cell_type": "code",
   "execution_count": 44,
   "metadata": {
    "collapsed": false
   },
   "outputs": [
    {
     "name": "stdout",
     "output_type": "stream",
     "text": [
      "T = 0, loss = 0.42836978346273963, error rate = 0.05427028468564571\n",
      "deriv = [ 6.86323861e-05 -3.68243958e-05 -3.54011430e-05 -3.49609976e-05\n",
      " -4.67975156e-05 -3.60719164e-05 -3.43589802e-05 -3.15602577e-05\n",
      " -3.21547187e-05 -3.21700228e-05 -3.38450090e-05 -3.38566248e-05\n",
      " -2.04074652e-06 -1.27782815e-06  1.49337157e-06 -4.33861208e-06\n",
      " -8.27838498e-06  3.31976828e-07  4.33493778e-05]\n",
      "T = 50, loss = 0.42836880127743593, error rate = 0.05427028468564571\n",
      "deriv = [ 6.53992631e-05 -3.53151811e-05 -3.39417310e-05 -3.35233311e-05\n",
      " -4.47931054e-05 -3.45780040e-05 -3.29486346e-05 -3.02595563e-05\n",
      " -3.08299593e-05 -3.08409187e-05 -3.20841761e-05 -3.20931460e-05\n",
      " -1.94053382e-06 -1.21337067e-06  1.39904985e-06 -4.11079559e-06\n",
      " -7.83465980e-06  3.15843973e-07  4.12579131e-05]\n",
      "T = 100, loss = 0.42836790474352415, error rate = 0.05427028468564571\n",
      "deriv = [ 6.23271584e-05 -3.38647377e-05 -3.25398679e-05 -3.21420761e-05\n",
      " -4.28735943e-05 -3.31435182e-05 -3.15934242e-05 -2.90101212e-05\n",
      " -2.95574115e-05 -2.95645165e-05 -3.04229054e-05 -3.04294806e-05\n",
      " -1.84534293e-06 -1.15262368e-06  1.31217071e-06 -3.89685696e-06\n",
      " -7.41788201e-06  3.00644301e-07  3.92711732e-05]\n",
      "T = 150, loss = 0.4283670862915635, error rate = 0.05427028468564571\n",
      "deriv = [ 5.94073521e-05 -3.24710363e-05 -3.11935023e-05 -3.08152424e-05\n",
      " -4.10355010e-05 -3.17663000e-05 -3.02914243e-05 -2.78101269e-05\n",
      " -2.83352114e-05 -2.83389049e-05 -2.88549992e-05 -2.88594134e-05\n",
      " -1.75495049e-06 -1.09532162e-06  1.23197714e-06 -3.69573971e-06\n",
      " -7.02609433e-06  2.86301935e-07  3.73835924e-05]\n",
      "T = 200, loss = 0.42836633903497456, error rate = 0.05427028468564571\n",
      "deriv = [ 5.66316539e-05 -3.11320946e-05 -2.99006366e-05 -2.95408909e-05\n",
      " -3.92754698e-05 -3.04442498e-05 -2.90407568e-05 -2.66577951e-05\n",
      " -2.71615445e-05 -2.71622266e-05 -2.73746860e-05 -2.73771558e-05\n",
      " -1.66913486e-06 -1.04122396e-06  1.15780676e-06 -3.50649115e-06\n",
      " -6.65751560e-06  2.72749894e-07  3.55899284e-05]\n",
      "T = 250, loss = 0.42836565670648835, error rate = 0.05427028468564571\n",
      "deriv = [ 5.39923661e-05 -2.98459778e-05 -2.86593269e-05 -2.83171334e-05\n",
      " -3.75902689e-05 -2.91753287e-05 -2.78395909e-05 -2.55513959e-05\n",
      " -2.60346465e-05 -2.60326787e-05 -2.59765881e-05 -2.59773140e-05\n",
      " -1.58767812e-06 -9.90112229e-07  1.08907841e-06 -3.32824976e-06\n",
      " -6.31052137e-06  2.59928808e-07  3.38852414e-05]\n",
      "T = 300, loss = 0.4283650336007548, error rate = 0.05427028468564571\n",
      "deriv = [ 5.14822496e-05 -2.86108002e-05 -2.74676844e-05 -2.71421333e-05\n",
      " -3.59767883e-05 -2.79575573e-05 -2.66861439e-05 -2.44892477e-05\n",
      " -2.49528033e-05 -2.49485118e-05 -2.46556921e-05 -2.46548593e-05\n",
      " -1.51036754e-06 -9.41787400e-07  1.02528075e-06 -3.16023438e-06\n",
      " -5.98362704e-06  2.47785839e-07  3.22648741e-05]\n",
      "T = 350, loss = 0.42836446452256044, error rate = 0.05427028468564571\n",
      "deriv = [ 4.90944926e-05 -2.74247258e-05 -2.63238743e-05 -2.60141058e-05\n",
      " -3.44320373e-05 -2.67890165e-05 -2.55786816e-05 -2.34697170e-05\n",
      " -2.39143508e-05 -2.39080298e-05 -2.34073220e-05 -2.34051010e-05\n",
      " -1.43699672e-06 -8.96067650e-07  9.65962554e-07 -3.00173485e-06\n",
      " -5.67547308e-06  2.36273761e-07  3.07244339e-05]\n",
      "T = 400, loss = 0.42836394473996736, error rate = 0.05427028468564571\n",
      "deriv = [ 4.68226819e-05 -2.62859686e-05 -2.52261166e-05 -2.49313179e-05\n",
      " -3.29531412e-05 -2.56678465e-05 -2.45155188e-05 -2.24912191e-05\n",
      " -2.29176746e-05 -2.29095895e-05 -2.22271139e-05 -2.22236616e-05\n",
      " -1.36736630e-06 -8.52786437e-07  9.10724547e-07 -2.85210391e-06\n",
      " -5.38481207e-06  2.25350188e-07  2.92597758e-05]\n",
      "T = 450, loss = 0.4283634699419715, error rate = 0.05427028468564571\n",
      "deriv = [ 4.46607765e-05 -2.51927930e-05 -2.41726852e-05 -2.38920881e-05\n",
      " -3.15373387e-05 -2.45922463e-05 -2.34950190e-05 -2.15522170e-05\n",
      " -2.19612096e-05 -2.19515997e-05 -2.11109935e-05 -2.11064539e-05\n",
      " -1.30128455e-06 -8.11790841e-07  8.59212354e-07 -2.71075017e-06\n",
      " -5.11049734e-06  2.14976918e-07  2.78669870e-05]\n",
      "T = 500, loss = 0.4283630362001562, error rate = 0.05427028468564571\n",
      "deriv = [ 4.26030827e-05 -2.41435137e-05 -2.31619076e-05 -2.28947858e-05\n",
      " -3.01819781e-05 -2.35604732e-05 -2.25155943e-05 -2.06512215e-05\n",
      " -2.10434398e-05 -2.10325202e-05 -2.00551547e-05 -2.00496596e-05\n",
      " -1.23856769e-06 -7.72940107e-07  8.11110555e-07 -2.57713208e-06\n",
      " -4.85147299e-06  2.05119376e-07  2.65423725e-05]\n",
      "T = 550, loss = 0.4283626399339571, error rate = 0.05427028468564571\n",
      "deriv = [ 4.06442319e-05 -2.31364956e-05 -2.21921646e-05 -2.19378313e-05\n",
      " -2.88845144e-05 -2.25708414e-05 -2.15757052e-05 -1.97867906e-05\n",
      " -2.01628972e-05 -2.01508616e-05 -1.90560401e-05 -1.90497103e-05\n",
      " -1.17903998e-06 -7.36104391e-07  7.66137581e-07 -2.45075255e-06\n",
      " -4.60676508e-06  1.95746141e-07  2.52824413e-05]\n",
      "T = 600, loss = 0.4283622778792032, error rate = 0.05420361357423828\n",
      "deriv = [ 3.87791594e-05 -2.21701534e-05 -2.12618888e-05 -2.10196948e-05\n",
      " -2.76425050e-05 -2.16217216e-05 -2.06738601e-05 -1.89575286e-05\n",
      " -1.93181613e-05 -1.93051837e-05 -1.81103236e-05 -1.81032692e-05\n",
      " -1.12253383e-06 -7.01163658e-07  7.24041364e-07 -2.33115438e-06\n",
      " -4.37547381e-06  1.86828547e-07  2.40838945e-05]\n",
      "T = 650, loss = 0.428361947059602, error rate = 0.05420361357423828\n",
      "deriv = [ 3.70030850e-05 -2.12429512e-05 -2.03695646e-05 -2.01388960e-05\n",
      " -2.64536071e-05 -2.07115396e-05 -1.98086148e-05 -1.81620858e-05\n",
      " -1.85078584e-05 -1.84940951e-05 -1.72148935e-05 -1.72072150e-05\n",
      " -1.06888970e-06 -6.68006724e-07  6.84595598e-07 -2.21791617e-06\n",
      " -4.15676662e-06  1.78340341e-07  2.29436129e-05]\n",
      "T = 700, loss = 0.4283616447608499, error rate = 0.05420361357423828\n",
      "deriv = [ 3.53114951e-05 -2.03534019e-05 -1.95137269e-05 -1.92940030e-05\n",
      " -2.53155737e-05 -1.98387751e-05 -1.89785718e-05 -1.73991573e-05\n",
      " -1.77306605e-05 -1.77162518e-05 -1.63668374e-05 -1.63586263e-05\n",
      " -1.01795596e-06 -6.36530407e-07  6.47596546e-07 -2.11064878e-06\n",
      " -3.94987208e-06  1.70257392e-07  2.18586467e-05]\n",
      "T = 750, loss = 0.42836136850716755, error rate = 0.05420361357423828\n",
      "deriv = [ 3.37001259e-05 -1.95000668e-05 -1.86929601e-05 -1.84836315e-05\n",
      " -2.42262500e-05 -1.90019610e-05 -1.81823793e-05 -1.66674823e-05\n",
      " -1.69852849e-05 -1.69703560e-05 -1.55634284e-05 -1.55547676e-05\n",
      " -9.69588711e-07 -6.06638789e-07  6.12860281e-07 -2.00899224e-06\n",
      " -3.75407441e-06  1.62557443e-07  2.08262055e-05]\n",
      "T = 800, loss = 0.4283611160399466, error rate = 0.05420361357423828\n",
      "deriv = [ 3.21649482e-05 -1.86815540e-05 -1.79058971e-05 -1.77064442e-05\n",
      " -2.31835704e-05 -1.81996814e-05 -1.74187309e-05 -1.59658432e-05\n",
      " -1.62704924e-05 -1.62551555e-05 -1.48021117e-05 -1.47930766e-05\n",
      " -9.23651518e-07 -5.78242553e-07  5.80220327e-07 -1.91261292e-06\n",
      " -3.56870861e-06  1.55219897e-07  1.98436483e-05]\n",
      "T = 850, loss = 0.4283608852984259, error rate = 0.05420361357423828\n",
      "deriv = [ 3.07021526e-05 -1.78965186e-05 -1.71512184e-05 -1.69611492e-05\n",
      " -2.21855550e-05 -1.74305709e-05 -1.66863642e-05 -1.52930648e-05\n",
      " -1.55850871e-05 -1.55694422e-05 -1.40804932e-05 -1.40711519e-05\n",
      " -8.80015160e-07 -5.51258410e-07  5.49525605e-07 -1.82120116e-06\n",
      " -3.39315614e-06  1.48225637e-07  1.89084753e-05]\n",
      "T = 900, loss = 0.42836067440206566, error rate = 0.05427028468564571\n",
      "deriv = [ 2.93081363e-05 -1.71436609e-05 -1.64276507e-05 -1.62464996e-05\n",
      " -2.12303060e-05 -1.66933134e-05 -1.59840602e-05 -1.46480127e-05\n",
      " -1.49279148e-05 -1.49120512e-05 -1.33963278e-05 -1.33867420e-05\n",
      " -8.38557343e-07 -5.25608576e-07  5.20638675e-07 -1.73446908e-06\n",
      " -3.22684093e-06  1.41556869e-07  1.80183192e-05]\n",
      "T = 950, loss = 0.42836048163457585, error rate = 0.05427028468564571\n",
      "deriv = [ 2.79794907e-05 -1.64217262e-05 -1.57339659e-05 -1.55612921e-05\n",
      " -2.03160051e-05 -1.59866400e-05 -1.53106423e-05 -1.40295932e-05\n",
      " -1.42978626e-05 -1.42818594e-05 -1.27475099e-05 -1.27377351e-05\n",
      " -7.99162393e-07 -5.01220316e-07  4.93434200e-07 -1.65214869e-06\n",
      " -3.06922599e-06  1.35196986e-07  1.71709380e-05]\n"
     ]
    }
   ],
   "source": [
    "losses = []\n",
    "error_rates = []\n",
    "derives = []\n",
    "for T in range(1000):\n",
    "    \n",
    "    # define loss function\n",
    "    prob = 1.0 / (1  + np.exp(-np.matmul(X, beta)))      # p = 1/1 + e ^ -bx\n",
    "    prob = np.array(prob).ravel()                        # turn p into one d array to zip with y\n",
    "    pyzip = list(zip(prob, y))\n",
    "    loss = -sum(np.log(p) if yi == 1 else np.log(1-p) for p, yi in pyzip )/len(y)\n",
    "    \n",
    "    # caluclate error rate, which is the REAL loss\n",
    "    error_rate = 0.0\n",
    "    for i in range(len(y)):\n",
    "        if ((prob[i] > 0.5 and y[i] == 0) or (prob[i] <= 0  and y[i] == 1)) :\n",
    "            error_rate += 1\n",
    "    error_rate /= len(y)\n",
    "    \n",
    "    # derivation ( gradient decent)\n",
    "    deriv = np.zeros(X.shape[1])\n",
    "    for i in range(len(y)):\n",
    "        #deriv += (prob[i] - y[i]) * X[i]\n",
    "        deriv += np.asarray(X[i,:]).ravel() * (prob[i] - y[i])   \n",
    "              # += sum #这里的乘是数值乘以一个vector 不同行数的数值不一样 每个数值分别乘以x的每一行 否则会认为是矩阵乘法\n",
    "    deriv /= len(y)\n",
    "    \n",
    "    \n",
    "    # debug\n",
    "    losses.append(loss)\n",
    "    error_rates.append(error_rate)\n",
    "    derives.append(deriv[0])\n",
    "    \n",
    "    if T % 50 == 0 :\n",
    "        print(\"T = \" + str(T) + \", loss = \" + str(loss) + \", error rate = \" + str(error_rate))\n",
    "        print(\"deriv = \" + str(deriv))\n",
    "    beta -= alpha * deriv # follow the oppsite direction of derivation to change the beta\n",
    "    "
   ]
  },
  {
   "cell_type": "code",
   "execution_count": 50,
   "metadata": {
    "collapsed": false
   },
   "outputs": [
    {
     "data": {
      "text/plain": [
       "list"
      ]
     },
     "execution_count": 50,
     "metadata": {},
     "output_type": "execute_result"
    }
   ],
   "source": [
    "type(losses)"
   ]
  },
  {
   "cell_type": "code",
   "execution_count": 53,
   "metadata": {
    "collapsed": false
   },
   "outputs": [
    {
     "data": {
      "text/plain": [
       "[<matplotlib.lines.Line2D at 0x110055c88>]"
      ]
     },
     "execution_count": 53,
     "metadata": {},
     "output_type": "execute_result"
    },
    {
     "data": {
      "image/png": "[encoded data removed]",
      "text/plain": [
       "<matplotlib.figure.Figure at 0x10fed3cc0>"
      ]
     },
     "metadata": {},
     "output_type": "display_data"
    }
   ],
   "source": [
    "x = range(1000)\n",
    "plt.plot(x, losses)"
   ]
  },
  {
   "cell_type": "code",
   "execution_count": 54,
   "metadata": {
    "collapsed": false
   },
   "outputs": [
    {
     "data": {
      "text/plain": [
       "[<matplotlib.lines.Line2D at 0x1101364a8>]"
      ]
     },
     "execution_count": 54,
     "metadata": {},
     "output_type": "execute_result"
    },
    {
     "data": {
      "image/png": "[encoded data removed]",
      "text/plain": [
       "<matplotlib.figure.Figure at 0x110062e10>"
      ]
     },
     "metadata": {},
     "output_type": "display_data"
    }
   ],
   "source": [
    "plt.plot(x, error_rates)"
   ]
  },
  {
   "cell_type": "code",
   "execution_count": 52,
   "metadata": {
    "collapsed": false
   },
   "outputs": [
    {
     "data": {
      "text/plain": [
       "[<matplotlib.lines.Line2D at 0x10ff85358>]"
      ]
     },
     "execution_count": 52,
     "metadata": {},
     "output_type": "execute_result"
    },
    {
     "data": {
      "image/png": "[encoded data removed]",
      "text/plain": [
       "<matplotlib.figure.Figure at 0x10feb8cc0>"
      ]
     },
     "metadata": {},
     "output_type": "display_data"
    }
   ],
   "source": [
    "plt.plot(x, derives)"
   ]
  },
  {
   "cell_type": "code",
   "execution_count": null,
   "metadata": {
    "collapsed": true
   },
   "outputs": [],
   "source": [
    "# the best way to get the best assignments it to find the best accuracy on validation set"
   ]
  }
 ],
 "metadata": {
  "anaconda-cloud": {},
  "kernelspec": {
   "display_name": "Python [default]",
   "language": "python",
   "name": "python3"
  },
  "language_info": {
   "codemirror_mode": {
    "name": "ipython",
    "version": 3
   },
   "file_extension": ".py",
   "mimetype": "text/x-python",
   "name": "python",
   "nbconvert_exporter": "python",
   "pygments_lexer": "ipython3",
   "version": "3.5.2"
  }
 },
 "nbformat": 4,
 "nbformat_minor": 2
}

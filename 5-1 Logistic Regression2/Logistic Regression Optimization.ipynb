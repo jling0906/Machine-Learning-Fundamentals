{
 "cells": [
  {
   "cell_type": "code",
   "execution_count": 67,
   "metadata": {
    "collapsed": true
   },
   "outputs": [],
   "source": [
    "import pandas as pd\n",
    "import numpy as np\n",
    "import matplotlib.pyplot as plt\n",
    "\n",
    "from sklearn.linear_model import LogisticRegression\n",
    "from sklearn import metrics\n",
    "\n",
    "from patsy import dmatrices   #used to create dummyvariables"
   ]
  },
  {
   "cell_type": "code",
   "execution_count": 68,
   "metadata": {
    "collapsed": true
   },
   "outputs": [],
   "source": [
    "data = pd.read_csv(\"./data/HR_comma_sep.csv\")"
   ]
  },
  {
   "cell_type": "code",
   "execution_count": 69,
   "metadata": {
    "collapsed": false
   },
   "outputs": [
    {
     "data": {
      "text/plain": [
       "0    1\n",
       "1    1\n",
       "2    1\n",
       "3    1\n",
       "4    1\n",
       "Name: left, dtype: int64"
      ]
     },
     "execution_count": 69,
     "metadata": {},
     "output_type": "execute_result"
    }
   ],
   "source": [
    "data.left.head()"
   ]
  },
  {
   "cell_type": "code",
   "execution_count": 70,
   "metadata": {
    "collapsed": false
   },
   "outputs": [
    {
     "data": {
      "text/html": [
       "<div>\n",
       "<style scoped>\n",
       "    .dataframe tbody tr th:only-of-type {\n",
       "        vertical-align: middle;\n",
       "    }\n",
       "\n",
       "    .dataframe tbody tr th {\n",
       "        vertical-align: top;\n",
       "    }\n",
       "\n",
       "    .dataframe thead th {\n",
       "        text-align: right;\n",
       "    }\n",
       "</style>\n",
       "<table border=\"1\" class=\"dataframe\">\n",
       "  <thead>\n",
       "    <tr style=\"text-align: right;\">\n",
       "      <th></th>\n",
       "      <th>satisfaction_level</th>\n",
       "      <th>last_evaluation</th>\n",
       "      <th>number_project</th>\n",
       "      <th>average_montly_hours</th>\n",
       "      <th>time_spend_company</th>\n",
       "      <th>Work_accident</th>\n",
       "      <th>left</th>\n",
       "      <th>promotion_last_5years</th>\n",
       "      <th>sales</th>\n",
       "      <th>salary</th>\n",
       "    </tr>\n",
       "  </thead>\n",
       "  <tbody>\n",
       "    <tr>\n",
       "      <th>0</th>\n",
       "      <td>0.38</td>\n",
       "      <td>0.53</td>\n",
       "      <td>2</td>\n",
       "      <td>157</td>\n",
       "      <td>3</td>\n",
       "      <td>0</td>\n",
       "      <td>1</td>\n",
       "      <td>0</td>\n",
       "      <td>sales</td>\n",
       "      <td>low</td>\n",
       "    </tr>\n",
       "    <tr>\n",
       "      <th>1</th>\n",
       "      <td>0.80</td>\n",
       "      <td>0.86</td>\n",
       "      <td>5</td>\n",
       "      <td>262</td>\n",
       "      <td>6</td>\n",
       "      <td>0</td>\n",
       "      <td>1</td>\n",
       "      <td>0</td>\n",
       "      <td>sales</td>\n",
       "      <td>medium</td>\n",
       "    </tr>\n",
       "    <tr>\n",
       "      <th>2</th>\n",
       "      <td>0.11</td>\n",
       "      <td>0.88</td>\n",
       "      <td>7</td>\n",
       "      <td>272</td>\n",
       "      <td>4</td>\n",
       "      <td>0</td>\n",
       "      <td>1</td>\n",
       "      <td>0</td>\n",
       "      <td>sales</td>\n",
       "      <td>medium</td>\n",
       "    </tr>\n",
       "    <tr>\n",
       "      <th>3</th>\n",
       "      <td>0.72</td>\n",
       "      <td>0.87</td>\n",
       "      <td>5</td>\n",
       "      <td>223</td>\n",
       "      <td>5</td>\n",
       "      <td>0</td>\n",
       "      <td>1</td>\n",
       "      <td>0</td>\n",
       "      <td>sales</td>\n",
       "      <td>low</td>\n",
       "    </tr>\n",
       "    <tr>\n",
       "      <th>4</th>\n",
       "      <td>0.37</td>\n",
       "      <td>0.52</td>\n",
       "      <td>2</td>\n",
       "      <td>159</td>\n",
       "      <td>3</td>\n",
       "      <td>0</td>\n",
       "      <td>1</td>\n",
       "      <td>0</td>\n",
       "      <td>sales</td>\n",
       "      <td>low</td>\n",
       "    </tr>\n",
       "  </tbody>\n",
       "</table>\n",
       "</div>"
      ],
      "text/plain": [
       "   satisfaction_level  last_evaluation  number_project  average_montly_hours  \\\n",
       "0                0.38             0.53               2                   157   \n",
       "1                0.80             0.86               5                   262   \n",
       "2                0.11             0.88               7                   272   \n",
       "3                0.72             0.87               5                   223   \n",
       "4                0.37             0.52               2                   159   \n",
       "\n",
       "   time_spend_company  Work_accident  left  promotion_last_5years  sales  \\\n",
       "0                   3              0     1                      0  sales   \n",
       "1                   6              0     1                      0  sales   \n",
       "2                   4              0     1                      0  sales   \n",
       "3                   5              0     1                      0  sales   \n",
       "4                   3              0     1                      0  sales   \n",
       "\n",
       "   salary  \n",
       "0     low  \n",
       "1  medium  \n",
       "2  medium  \n",
       "3     low  \n",
       "4     low  "
      ]
     },
     "execution_count": 70,
     "metadata": {},
     "output_type": "execute_result"
    }
   ],
   "source": [
    "data.head()"
   ]
  },
  {
   "cell_type": "code",
   "execution_count": 71,
   "metadata": {
    "collapsed": false
   },
   "outputs": [
    {
     "data": {
      "text/plain": [
       "numpy.int64"
      ]
     },
     "execution_count": 71,
     "metadata": {},
     "output_type": "execute_result"
    }
   ],
   "source": [
    "type(data.left[0])"
   ]
  },
  {
   "cell_type": "code",
   "execution_count": 72,
   "metadata": {
    "collapsed": true
   },
   "outputs": [],
   "source": [
    "data.left = data.left.astype(int) #why already int"
   ]
  },
  {
   "cell_type": "code",
   "execution_count": 73,
   "metadata": {
    "collapsed": false
   },
   "outputs": [
    {
     "data": {
      "text/html": [
       "<div>\n",
       "<style scoped>\n",
       "    .dataframe tbody tr th:only-of-type {\n",
       "        vertical-align: middle;\n",
       "    }\n",
       "\n",
       "    .dataframe tbody tr th {\n",
       "        vertical-align: top;\n",
       "    }\n",
       "\n",
       "    .dataframe thead th {\n",
       "        text-align: right;\n",
       "    }\n",
       "</style>\n",
       "<table border=\"1\" class=\"dataframe\">\n",
       "  <thead>\n",
       "    <tr style=\"text-align: right;\">\n",
       "      <th></th>\n",
       "      <th>satisfaction_level</th>\n",
       "      <th>last_evaluation</th>\n",
       "      <th>number_project</th>\n",
       "      <th>average_monthly_hours</th>\n",
       "      <th>time_spend_company</th>\n",
       "      <th>Work_accident</th>\n",
       "      <th>left</th>\n",
       "      <th>promotion_last_5years</th>\n",
       "      <th>sales</th>\n",
       "      <th>salary</th>\n",
       "    </tr>\n",
       "  </thead>\n",
       "  <tbody>\n",
       "    <tr>\n",
       "      <th>0</th>\n",
       "      <td>0.38</td>\n",
       "      <td>0.53</td>\n",
       "      <td>2</td>\n",
       "      <td>157</td>\n",
       "      <td>3</td>\n",
       "      <td>0</td>\n",
       "      <td>1</td>\n",
       "      <td>0</td>\n",
       "      <td>sales</td>\n",
       "      <td>low</td>\n",
       "    </tr>\n",
       "    <tr>\n",
       "      <th>1</th>\n",
       "      <td>0.80</td>\n",
       "      <td>0.86</td>\n",
       "      <td>5</td>\n",
       "      <td>262</td>\n",
       "      <td>6</td>\n",
       "      <td>0</td>\n",
       "      <td>1</td>\n",
       "      <td>0</td>\n",
       "      <td>sales</td>\n",
       "      <td>medium</td>\n",
       "    </tr>\n",
       "    <tr>\n",
       "      <th>2</th>\n",
       "      <td>0.11</td>\n",
       "      <td>0.88</td>\n",
       "      <td>7</td>\n",
       "      <td>272</td>\n",
       "      <td>4</td>\n",
       "      <td>0</td>\n",
       "      <td>1</td>\n",
       "      <td>0</td>\n",
       "      <td>sales</td>\n",
       "      <td>medium</td>\n",
       "    </tr>\n",
       "    <tr>\n",
       "      <th>3</th>\n",
       "      <td>0.72</td>\n",
       "      <td>0.87</td>\n",
       "      <td>5</td>\n",
       "      <td>223</td>\n",
       "      <td>5</td>\n",
       "      <td>0</td>\n",
       "      <td>1</td>\n",
       "      <td>0</td>\n",
       "      <td>sales</td>\n",
       "      <td>low</td>\n",
       "    </tr>\n",
       "    <tr>\n",
       "      <th>4</th>\n",
       "      <td>0.37</td>\n",
       "      <td>0.52</td>\n",
       "      <td>2</td>\n",
       "      <td>159</td>\n",
       "      <td>3</td>\n",
       "      <td>0</td>\n",
       "      <td>1</td>\n",
       "      <td>0</td>\n",
       "      <td>sales</td>\n",
       "      <td>low</td>\n",
       "    </tr>\n",
       "  </tbody>\n",
       "</table>\n",
       "</div>"
      ],
      "text/plain": [
       "   satisfaction_level  last_evaluation  number_project  average_monthly_hours  \\\n",
       "0                0.38             0.53               2                    157   \n",
       "1                0.80             0.86               5                    262   \n",
       "2                0.11             0.88               7                    272   \n",
       "3                0.72             0.87               5                    223   \n",
       "4                0.37             0.52               2                    159   \n",
       "\n",
       "   time_spend_company  Work_accident  left  promotion_last_5years  sales  \\\n",
       "0                   3              0     1                      0  sales   \n",
       "1                   6              0     1                      0  sales   \n",
       "2                   4              0     1                      0  sales   \n",
       "3                   5              0     1                      0  sales   \n",
       "4                   3              0     1                      0  sales   \n",
       "\n",
       "   salary  \n",
       "0     low  \n",
       "1  medium  \n",
       "2  medium  \n",
       "3     low  \n",
       "4     low  "
      ]
     },
     "execution_count": 73,
     "metadata": {},
     "output_type": "execute_result"
    }
   ],
   "source": [
    "data.rename(columns={\"average_montly_hours\":\"average_monthly_hours\"}, inplace=True)\n",
    "data.head()"
   ]
  },
  {
   "cell_type": "markdown",
   "metadata": {},
   "source": [
    "# extract columns and use pasty.dmatrices to create dummy variables"
   ]
  },
  {
   "cell_type": "code",
   "execution_count": 74,
   "metadata": {
    "collapsed": true
   },
   "outputs": [],
   "source": [
    "y, X = dmatrices(\"left~satisfaction_level+last_evaluation+number_project+average_monthly_hours+time_spend_company+Work_accident+promotion_last_5years+C(sales)+C(salary)\", data, return_type=\"dataframe\")"
   ]
  },
  {
   "cell_type": "code",
   "execution_count": 75,
   "metadata": {
    "collapsed": false
   },
   "outputs": [
    {
     "data": {
      "text/plain": [
       "pandas.core.frame.DataFrame"
      ]
     },
     "execution_count": 75,
     "metadata": {},
     "output_type": "execute_result"
    }
   ],
   "source": [
    "type(X)"
   ]
  },
  {
   "cell_type": "code",
   "execution_count": 76,
   "metadata": {
    "collapsed": false
   },
   "outputs": [
    {
     "data": {
      "text/plain": [
       "pandas.core.frame.DataFrame"
      ]
     },
     "execution_count": 76,
     "metadata": {},
     "output_type": "execute_result"
    }
   ],
   "source": [
    "type(y)"
   ]
  },
  {
   "cell_type": "code",
   "execution_count": 77,
   "metadata": {
    "collapsed": true
   },
   "outputs": [],
   "source": [
    "X = np.asmatrix(X) # why doing this\n",
    "y = np.ravel(y)"
   ]
  },
  {
   "cell_type": "markdown",
   "metadata": {},
   "source": [
    "# make all columns of X range from 0 to 1"
   ]
  },
  {
   "cell_type": "code",
   "execution_count": 78,
   "metadata": {
    "collapsed": true
   },
   "outputs": [],
   "source": [
    "for i in range(1, X.shape[1]): # traverse over columns from column 1 to the end\n",
    "    xmin = X[:,i].min()\n",
    "    xmax = X[:,i].max()\n",
    "    X[:,i] = (X[:,i] - xmin)/(xmax-xmin)"
   ]
  },
  {
   "cell_type": "code",
   "execution_count": 79,
   "metadata": {
    "collapsed": false
   },
   "outputs": [
    {
     "data": {
      "text/plain": [
       "matrix([[1.   , 0.   , 0.   , ..., 0.125, 0.   , 0.   ],\n",
       "        [1.   , 0.   , 0.   , ..., 0.5  , 0.   , 0.   ],\n",
       "        [1.   , 0.   , 0.   , ..., 0.25 , 0.   , 0.   ],\n",
       "        ...,\n",
       "        [1.   , 0.   , 0.   , ..., 0.125, 0.   , 0.   ],\n",
       "        [1.   , 0.   , 0.   , ..., 0.25 , 0.   , 0.   ],\n",
       "        [1.   , 0.   , 0.   , ..., 0.125, 0.   , 0.   ]])"
      ]
     },
     "execution_count": 79,
     "metadata": {},
     "output_type": "execute_result"
    }
   ],
   "source": [
    "X"
   ]
  },
  {
   "cell_type": "markdown",
   "metadata": {},
   "source": [
    "# start the core of the algorithm"
   ]
  },
  {
   "cell_type": "code",
   "execution_count": 80,
   "metadata": {
    "collapsed": false
   },
   "outputs": [
    {
     "name": "stdout",
     "output_type": "stream",
     "text": [
      "beta is [ 1.62434536 -0.61175641 -0.52817175 -1.07296862  0.86540763 -2.3015387\n",
      "  1.74481176 -0.7612069   0.3190391  -0.24937038  1.46210794 -2.06014071\n",
      " -0.3224172  -0.38405435  1.13376944 -1.09989127 -0.17242821 -0.87785842\n",
      "  0.04221375]\n"
     ]
    }
   ],
   "source": [
    "np.random.seed(1)\n",
    "alpha = 1\n",
    "beta = np.random.randn(X.shape[1]) # create a rand one d array with # of items same as the number of columns of X\n",
    "print(\"beta is \" + str(beta))"
   ]
  },
  {
   "cell_type": "code",
   "execution_count": 81,
   "metadata": {
    "collapsed": false
   },
   "outputs": [
    {
     "name": "stdout",
     "output_type": "stream",
     "text": [
      "T = 0 loss = 1.120382327806672 error = 0.5037002466831122\n",
      "T = 5 loss = 0.6492666637968594 error = 0.2910194012934196\n",
      "T = 10 loss = 0.6095807663133693 error = 0.26668444562970867\n",
      "T = 15 loss = 0.5816449211566241 error = 0.25888392559503964\n",
      "T = 20 loss = 0.5607552377630786 error = 0.2526835122341489\n",
      "T = 25 loss = 0.5450244708251246 error = 0.2481498766584439\n",
      "T = 30 loss = 0.5328795073088821 error = 0.24854990332688845\n",
      "T = 35 loss = 0.5231836380769039 error = 0.2474164944329622\n",
      "T = 40 loss = 0.5151826947262421 error = 0.24234948996599773\n",
      "T = 45 loss = 0.5083944951258156 error = 0.23968264550970064\n",
      "T = 50 loss = 0.5025111703564583 error = 0.23728248549903327\n",
      "T = 55 loss = 0.49733135447626586 error = 0.23581572104806986\n",
      "T = 60 loss = 0.4927180171532152 error = 0.23448229881992133\n",
      "T = 65 loss = 0.48857356128232937 error = 0.23381558770584707\n",
      "T = 70 loss = 0.48482536350449806 error = 0.23214880992066136\n",
      "T = 75 loss = 0.48141731701862545 error = 0.22934862324154945\n",
      "T = 80 loss = 0.478304757976905 error = 0.22668177878525236\n",
      "T = 85 loss = 0.4754513034939728 error = 0.22428161877458497\n",
      "T = 90 loss = 0.4728267902672707 error = 0.2231482098806587\n",
      "T = 95 loss = 0.47040586746002977 error = 0.22074804986999133\n",
      "T = 100 loss = 0.46816699480428586 error = 0.22094806320421362\n",
      "T = 105 loss = 0.46609170331060074 error = 0.22134808987265817\n",
      "T = 110 loss = 0.46416403394312195 error = 0.22154810320688045\n",
      "T = 115 loss = 0.4623701018588734 error = 0.2211480765384359\n",
      "T = 120 loss = 0.46069775229203674 error = 0.2206813787585839\n",
      "T = 125 loss = 0.45913628516582655 error = 0.22054803653576904\n",
      "T = 130 loss = 0.4576762323464664 error = 0.22054803653576904\n",
      "T = 135 loss = 0.456309175882234 error = 0.22021468097873192\n",
      "T = 140 loss = 0.4550275985604056 error = 0.22101473431562105\n",
      "T = 145 loss = 0.4538247602068062 error = 0.2211480765384359\n",
      "T = 150 loss = 0.4526945946606393 error = 0.22074804986999133\n",
      "T = 155 loss = 0.4516316234713585 error = 0.22021468097873192\n",
      "T = 160 loss = 0.4506308832028294 error = 0.21974798319887992\n",
      "T = 165 loss = 0.44968786387121934 error = 0.22001466764450964\n",
      "T = 170 loss = 0.44879845653900813 error = 0.22061470764717647\n",
      "T = 175 loss = 0.4479589084750731 error = 0.22048136542436161\n",
      "T = 180 loss = 0.4471657845958744 error = 0.21988132542169478\n",
      "T = 185 loss = 0.44641593414467706 error = 0.21928128541902794\n",
      "T = 190 loss = 0.4457064617585627 error = 0.21954796986465763\n",
      "T = 195 loss = 0.4450347022275212 error = 0.21981465431028735\n",
      "T = 200 loss = 0.444398198374091 error = 0.2201480098673245\n",
      "T = 205 loss = 0.44379468158251134 error = 0.21981465431028735\n",
      "T = 210 loss = 0.44322205458756947 error = 0.2177478498566571\n",
      "T = 215 loss = 0.442678376199685 error = 0.21694779651976798\n",
      "T = 220 loss = 0.44216184769643685 error = 0.216481098739916\n",
      "T = 225 loss = 0.4416708006550691 error = 0.21621441429428628\n",
      "T = 230 loss = 0.44120368603666416 error = 0.21621441429428628\n",
      "T = 235 loss = 0.44075906436224044 error = 0.21621441429428628\n",
      "T = 240 loss = 0.4403355968458539 error = 0.21561437429161945\n",
      "T = 245 loss = 0.43993203736979586 error = 0.21494766317754516\n",
      "T = 250 loss = 0.43954722520399775 error = 0.2142809520634709\n",
      "T = 255 loss = 0.4391800783855861 error = 0.21388092539502634\n",
      "T = 260 loss = 0.4388295876863491 error = 0.21308087205813722\n",
      "T = 265 loss = 0.43849481110556227 error = 0.21274751650110008\n",
      "T = 270 loss = 0.43817486883384554 error = 0.21268084538969265\n",
      "T = 275 loss = 0.43786893864062043 error = 0.21201413427561838\n",
      "T = 280 loss = 0.43757625164374897 error = 0.21174744982998867\n",
      "T = 285 loss = 0.4372960884246278 error = 0.21168077871858124\n",
      "T = 290 loss = 0.4370277754566002 error = 0.21154743649576638\n",
      "T = 295 loss = 0.4367706818178767 error = 0.21148076538435895\n",
      "T = 300 loss = 0.4365242161635873 error = 0.21154743649576638\n",
      "T = 305 loss = 0.4362878239340314 error = 0.21094739649309954\n",
      "T = 310 loss = 0.43606098477877575 error = 0.2104140276018401\n",
      "T = 315 loss = 0.43584321017814276 error = 0.21028068537902528\n",
      "T = 320 loss = 0.4356340412455386 error = 0.20968064537635842\n",
      "T = 325 loss = 0.4354330466956199 error = 0.20954730315354356\n",
      "T = 330 loss = 0.43523982096472097 error = 0.20954730315354356\n",
      "T = 335 loss = 0.4350539824711322 error = 0.20908060537369158\n",
      "T = 340 loss = 0.43487517200410236 error = 0.20908060537369158\n",
      "T = 345 loss = 0.4347030512312469 error = 0.20881392092806186\n",
      "T = 350 loss = 0.43453730131500257 error = 0.20874724981665443\n",
      "T = 355 loss = 0.4343776216296516 error = 0.20861390759383958\n",
      "T = 360 loss = 0.43422372857102726 error = 0.20854723648243217\n",
      "T = 365 loss = 0.43407535445173173 error = 0.20881392092806186\n",
      "T = 370 loss = 0.4339322464753621 error = 0.20874724981665443\n",
      "T = 375 loss = 0.4337941657835864 error = 0.209147276485099\n",
      "T = 380 loss = 0.43366088657063606 error = 0.209147276485099\n",
      "T = 385 loss = 0.43353219526002373 error = 0.20881392092806186\n",
      "T = 390 loss = 0.4334078897388679 error = 0.209613974264951\n",
      "T = 395 loss = 0.4332877786454411 error = 0.20968064537635842\n",
      "T = 400 loss = 0.4331716807060206 error = 0.20954730315354356\n",
      "T = 405 loss = 0.43305942411730436 error = 0.209147276485099\n",
      "T = 410 loss = 0.4329508459711238 error = 0.2088805920394693\n",
      "T = 415 loss = 0.4328457917181876 error = 0.208680578705247\n",
      "T = 420 loss = 0.4327441146681553 error = 0.20788052536835788\n",
      "T = 425 loss = 0.4326456755232327 error = 0.2076138409227282\n",
      "T = 430 loss = 0.43255034194299175 error = 0.20768051203413562\n",
      "T = 435 loss = 0.4324579881379522 error = 0.20721381425428362\n",
      "T = 440 loss = 0.4323684944901125 error = 0.20701380092006133\n",
      "T = 445 loss = 0.43228174719826234 error = 0.20728048536569105\n",
      "T = 450 loss = 0.4321976379464111 error = 0.20708047203146876\n",
      "T = 455 loss = 0.4321160635936715 error = 0.20708047203146876\n",
      "T = 460 loss = 0.43203692588408354 error = 0.20721381425428362\n",
      "T = 465 loss = 0.43196013117494025 error = 0.20721381425428362\n",
      "T = 470 loss = 0.4318855901823608 error = 0.2071471431428762\n",
      "T = 475 loss = 0.4318132177428434 error = 0.2069471298086539\n",
      "T = 480 loss = 0.43174293258978325 error = 0.20674711647443164\n",
      "T = 485 loss = 0.4316746571438186 error = 0.20661377425161678\n",
      "T = 490 loss = 0.43160831731610566 error = 0.20634708980598707\n",
      "T = 495 loss = 0.4315438423236524 error = 0.2058803920261351\n"
     ]
    }
   ],
   "source": [
    "for T in range(500):\n",
    "    prob = np.array(1./(1+np.exp(-np.matmul(X, beta)))).ravel()   # calculate the probability of left with random beta\n",
    "    \n",
    "    prob_y = list(zip(prob, y)) # match the beta probabilty with labels\n",
    "    \n",
    "    loss = -sum([np.log(p) if y == 1 else np.log(1-p) for p, y in prob_y]) / len(y)\n",
    "    error_rate = 0\n",
    "    \n",
    "    # calculate error rate\n",
    "    for i in range(len(y)):\n",
    "        if(( prob[i] > 0.5  and y[i] == 0) or (prob[i] <= 0.5 and y[i] == 1 ) ):\n",
    "            error_rate += 1\n",
    "    error_rate /= len(y)\n",
    "    \n",
    "    if T % 5 == 0:\n",
    "        print( \"T = \" + str(T) + \" loss = \" + str(loss) + \" error = \" + str(error_rate))\n",
    "    \n",
    "    deriv = np.zeros(X.shape[1]) # create a one d array with all zeros\n",
    "    for i in range(len(y)):\n",
    "        #print(i)\n",
    "        #print(prob.shape) # only one column\n",
    "        #print(y.shape)\n",
    "        deriv += np.asarray(X[i, :]).ravel() * (prob[i] - y[i])\n",
    "    deriv /= len(y)\n",
    "    \n",
    "    beta -= alpha * deriv"
   ]
  },
  {
   "cell_type": "markdown",
   "metadata": {},
   "source": [
    "T = 135 loss = 0.456309175882234 error = 0.22021468097873192\n",
    "T = 140 loss = 0.4550275985604056 error = 0.22101473431562105\n",
    "loss down, error up\n",
    "why"
   ]
  }
 ],
 "metadata": {
  "kernelspec": {
   "display_name": "Python [default]",
   "language": "python",
   "name": "python3"
  },
  "language_info": {
   "codemirror_mode": {
    "name": "ipython",
    "version": 3
   },
   "file_extension": ".py",
   "mimetype": "text/x-python",
   "name": "python",
   "nbconvert_exporter": "python",
   "pygments_lexer": "ipython3",
   "version": "3.5.2"
  }
 },
 "nbformat": 4,
 "nbformat_minor": 2
}
